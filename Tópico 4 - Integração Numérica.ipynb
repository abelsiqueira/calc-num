{
 "cells": [
  {
   "cell_type": "markdown",
   "metadata": {},
   "source": [
    "# Integração Numérica\n",
    "\n",
    "Em cálculo I aprendemos que\n",
    "$$ \\int_a^b f(x)\\mbox{d}x = F(b) - F(a), $$\n",
    "se $f$ for uma função integrável, e onde $F$ é uma primitiva de $f$.\n",
    "\n",
    "No entanto, nem sempre é fácil encontrar uma primitiva para $F$.\n",
    "Às vezes, pode ser impossível, como em\n",
    "$$ \\int_a^b e^{-x^2}\\mbox{d}x. $$"
   ]
  },
  {
   "cell_type": "markdown",
   "metadata": {},
   "source": [
    "Por sorte, muitas vezes uma aproximação numérica é suficiente para nosso objetivo.\n",
    "\n",
    "Vamos estudar alguns métodos de aproximação numérica, a maior parte deles usando valores da\n",
    "função $f$ em pontos selecionados, isto é\n",
    "$$ \\int_a^bf(x)\\mbox{d}x = \\sum_{i=1}^m A_if(x_i), $$\n",
    "para uma quantidade de pontos $m$, pontos $x_i$ e valores $A_i$.\n",
    "\n",
    "Salvo indicação contrária, iremos supor que $x_1 < x_2 < \\dots < x_m$."
   ]
  },
  {
   "cell_type": "markdown",
   "metadata": {},
   "source": [
    "## Fórmulas de Newton-Cotes\n",
    "\n",
    "As fórmulas de Newton-Cotes provém da **interpolação polinomial da função $f$** em pontos igualmente espaços do\n",
    "intervalo $[a,b]$. Se os intervalos estiverem entre os pontos escolhidos, isto é, se $x_1 = a$ e\n",
    "$x_m = b$, então a fórmula é dita **fechada**. Caso contrário, aberta."
   ]
  },
  {
   "cell_type": "markdown",
   "metadata": {},
   "source": [
    "Uma interpolação polinomial da função $f$ nos pontos $x_1, \\dots, x_m$, é uma função polinomial $p$ que satisfaz $p(x_i) = f(x_i)$, para $i = 1,\\dots,m$."
   ]
  },
  {
   "cell_type": "markdown",
   "metadata": {},
   "source": [
    "As fórmulas de Newton-Cotes fechadas terão os pontos $x_i$ descritos por\n",
    "$$ x_i = a + (i-1)h, $$\n",
    "onde $h = \\dfrac{b-a}{m-1}$."
   ]
  },
  {
   "cell_type": "code",
   "execution_count": 1,
   "metadata": {},
   "outputs": [
    {
     "name": "stderr",
     "output_type": "stream",
     "text": [
      "WARNING: Compat.UTF8String is deprecated, use String instead.\n",
      "  likely near In[1]:68\n"
     ]
    },
    {
     "data": {
      "text/plain": [
       "Plots.PyPlotBackend()"
      ]
     },
     "execution_count": 1,
     "metadata": {},
     "output_type": "execute_result"
    }
   ],
   "source": [
    "using Plots\n",
    "pyplot(size=(400,300))"
   ]
  },
  {
   "cell_type": "code",
   "execution_count": 2,
   "metadata": {},
   "outputs": [
    {
     "data": {
      "text/plain": [
       "0.2222222222222222"
      ]
     },
     "execution_count": 2,
     "metadata": {},
     "output_type": "execute_result"
    }
   ],
   "source": [
    "a = 1.0\n",
    "b = 3.0\n",
    "m = 10\n",
    "h = (b - a) / (m - 1)"
   ]
  },
  {
   "cell_type": "code",
   "execution_count": 3,
   "metadata": {},
   "outputs": [
    {
     "data": {
      "text/plain": [
       "10-element Array{Float64,1}:\n",
       " 1.0    \n",
       " 1.22222\n",
       " 1.44444\n",
       " 1.66667\n",
       " 1.88889\n",
       " 2.11111\n",
       " 2.33333\n",
       " 2.55556\n",
       " 2.77778\n",
       " 3.0    "
      ]
     },
     "execution_count": 3,
     "metadata": {},
     "output_type": "execute_result"
    }
   ],
   "source": [
    "collect(linspace(a, b, m))"
   ]
  },
  {
   "cell_type": "code",
   "execution_count": 4,
   "metadata": {},
   "outputs": [
    {
     "data": {
      "text/html": [
       "<img src=\"data:image/png;base64,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\" />"
      ]
     },
     "execution_count": 4,
     "metadata": {},
     "output_type": "execute_result"
    }
   ],
   "source": [
    "scatter([a; b], zeros(2), c=:blue, ms=10, leg=false)\n",
    "scatter!(linspace(a, b, m), zeros(m), c=:red)\n",
    "ylims!(-1, 1)"
   ]
  },
  {
   "cell_type": "markdown",
   "metadata": {},
   "source": [
    "No caso das fórmula abertas, o espaçamento entre os pontos é $h$, mas começamos a contar depois de $a$ e paramos antes de $b$. Desse modo, podemos pensar que o espaçamento é $h$ no intervalo fechado $[a + h, b - h]$.\n",
    "De modo que\n",
    "$$ h = \\frac{b - h - (a + h)}{m - 1}. $$"
   ]
  },
  {
   "cell_type": "markdown",
   "metadata": {},
   "source": [
    "Resolvendo essa equação para encontrar $h$, obtemos\n",
    "$$ h = \\frac{b - a}{m+1}. $$"
   ]
  },
  {
   "cell_type": "code",
   "execution_count": 5,
   "metadata": {},
   "outputs": [
    {
     "data": {
      "text/plain": [
       "0.18181818181818182"
      ]
     },
     "execution_count": 5,
     "metadata": {},
     "output_type": "execute_result"
    }
   ],
   "source": [
    "a = 1.0\n",
    "b = 3.0\n",
    "m = 10\n",
    "h = (b - a) / (m + 1)"
   ]
  },
  {
   "cell_type": "code",
   "execution_count": 6,
   "metadata": {},
   "outputs": [
    {
     "data": {
      "text/plain": [
       "10-element Array{Float64,1}:\n",
       " 1.18182\n",
       " 1.36364\n",
       " 1.54545\n",
       " 1.72727\n",
       " 1.90909\n",
       " 2.09091\n",
       " 2.27273\n",
       " 2.45455\n",
       " 2.63636\n",
       " 2.81818"
      ]
     },
     "execution_count": 6,
     "metadata": {},
     "output_type": "execute_result"
    }
   ],
   "source": [
    "collect(linspace(a+h, b-h, m))"
   ]
  },
  {
   "cell_type": "code",
   "execution_count": 7,
   "metadata": {},
   "outputs": [
    {
     "data": {
      "text/html": [
       "<img src=\"data:image/png;base64,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\" />"
      ]
     },
     "execution_count": 7,
     "metadata": {},
     "output_type": "execute_result"
    }
   ],
   "source": [
    "scatter([a; b], zeros(2), c=:blue, ms=10, leg=false)\n",
    "scatter!(linspace(a+h, b-h, m), zeros(m), c=:red)\n",
    "ylims!(-1, 1)"
   ]
  },
  {
   "cell_type": "markdown",
   "metadata": {},
   "source": [
    "### Ponto-Médio\n",
    "\n",
    "Vamos começar considerando uma simples aproximação para $f$: uma interpolação de um ponto.\n",
    "$$ p(x) = f\\bigg(\\frac{a+b}{2}\\bigg), $$\n",
    "isto é, $p$ é uma função constante. Essa aproximação resulta em\n",
    "$$ \\int_a^b f(x)\\mbox{d}x \\approx \\int_a^bf((a+b)/2)\\mbox{d}x = (b-a)f\\bigg(\\frac{a+b}{2}\\bigg). $$"
   ]
  },
  {
   "cell_type": "markdown",
   "metadata": {},
   "source": [
    "Essa aproximação é chamada de regra do **ponto-médio**, e é uma fórmula aberta. Note que não é possível uma fórmula fechada de um ponto, por motivos óbvios."
   ]
  },
  {
   "cell_type": "markdown",
   "metadata": {},
   "source": [
    "Note que, como $[a,b]$ foi divido em dois, temos $h = (b-a)/2$. Daí, podemos escrever\n",
    "$$ \\int_a^b f(x)\\mbox{d}x \\approx 2h f(x_1). $$"
   ]
  },
  {
   "cell_type": "code",
   "execution_count": 8,
   "metadata": {
    "scrolled": true
   },
   "outputs": [
    {
     "data": {
      "text/html": [
       "<img src=\"data:image/png;base64,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\" />"
      ]
     },
     "execution_count": 8,
     "metadata": {},
     "output_type": "execute_result"
    }
   ],
   "source": [
    "f(x) = exp(x) + cos(3π*x) * 0.5 + 3\n",
    "F(x) = exp(x) + sin(3π*x)/6π + 3x\n",
    "a, b = -2, 2\n",
    "plot(f, a, b, c=:red, fill=(0,:red,0.5), leg=false)\n",
    "plot!(x->f((a+b)/2), a, b, c=:blue, fill=(0,:blue,0.5))"
   ]
  },
  {
   "cell_type": "code",
   "execution_count": 9,
   "metadata": {},
   "outputs": [
    {
     "data": {
      "text/plain": [
       "ponto_medio (generic function with 1 method)"
      ]
     },
     "execution_count": 9,
     "metadata": {},
     "output_type": "execute_result"
    }
   ],
   "source": [
    "function ponto_medio(f, a, b)\n",
    "    return (b-a)*f((a+b)/2)\n",
    "end"
   ]
  },
  {
   "cell_type": "code",
   "execution_count": 10,
   "metadata": {},
   "outputs": [
    {
     "data": {
      "text/plain": [
       "-1.253720815694038"
      ]
     },
     "execution_count": 10,
     "metadata": {},
     "output_type": "execute_result"
    }
   ],
   "source": [
    "ponto_medio(f, a, b) - (F(b)-F(a))"
   ]
  },
  {
   "cell_type": "markdown",
   "metadata": {},
   "source": [
    "### Trapézio"
   ]
  },
  {
   "cell_type": "markdown",
   "metadata": {},
   "source": [
    "A fórmula de trapézio é uma fórmula de dois pontos. Note que dado dois pontos distintos, temos uma reta. Pensando na integral como a área abaixo dessa reta, vemos que a área será a área de um trapézio. Daí, o nome."
   ]
  },
  {
   "cell_type": "markdown",
   "metadata": {},
   "source": [
    "Para o caso fechado, os dois pontos no intervalo $[a,b]$ serão $x_1 = a$ e $x_2 = b$."
   ]
  },
  {
   "cell_type": "markdown",
   "metadata": {},
   "source": [
    "Para o caso aberto, os dois pontos no intervalo $[a,b]$ serão $x = \\frac{2a + b}{3}$"
   ]
  },
  {
   "cell_type": "code",
   "execution_count": 11,
   "metadata": {},
   "outputs": [
    {
     "data": {
      "text/html": [
       "<img src=\"data:image/png;base64,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\" />"
      ]
     },
     "execution_count": 11,
     "metadata": {},
     "output_type": "execute_result"
    }
   ],
   "source": [
    "f(x) = exp(x) + cos(3π*x) * 0.5 + 3\n",
    "F(x) = exp(x) + sin(3π*x)/6π + 3x\n",
    "a, b = -2, 2\n",
    "plot(f, a, b, c=:red, fill=(0,:red,0.5), leg=false)\n",
    "plot!(x->f(a) + (x-a)*(f(b)-f(a))/(b-a), a, b, c=:blue, fill=(0,:blue,0.5))"
   ]
  },
  {
   "cell_type": "code",
   "execution_count": 12,
   "metadata": {},
   "outputs": [
    {
     "data": {
      "text/html": [
       "<img src=\"data:image/png;base64,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\" />"
      ]
     },
     "execution_count": 12,
     "metadata": {},
     "output_type": "execute_result"
    }
   ],
   "source": [
    "plot(f, a, b, c=:red, fill=(0,:red,0.5), leg=false)\n",
    "x1, x2 = (2a+b)/3, (a+2b)/3\n",
    "plot!(x->f(x1) + (x-x1)*(f(x2)-f(x1))/(x2-x1), a, b, c=:blue, fill=(0,:blue,0.5))"
   ]
  },
  {
   "cell_type": "markdown",
   "metadata": {},
   "source": [
    "A reta que usamos para aproximar a integral é dada por\n",
    "$$ p(x) = f(x_1) + (x-x_1)\\frac{f(x_2)-f(x_1)}{x_2-x_1}, $$\n",
    "onde $x_1 = a$ e $x_2 = b$ no caso fechado, ou $x_1 = \\dfrac{2a+b}{3}$ e $x_2 = \\dfrac{a + 2b}{3}$."
   ]
  },
  {
   "cell_type": "markdown",
   "metadata": {},
   "source": [
    "Em ambos os casos, teremos\n",
    "$$ \\int_a^b f(x)\\mbox{d}x \\approx\n",
    "\\frac{b-a}{2}[f(x_1) + f(x_2)].\n",
    "$$"
   ]
  },
  {
   "cell_type": "markdown",
   "metadata": {},
   "source": [
    "No entanto, além de $x_1$ e $x_2$ serem diferentes, temos também o valor de $h$.\n",
    "Para o caso fechado, temos $h = b-a$. Daí,\n",
    "$$ \\int_a^b f(x)\\mbox{d}x \\approx \\frac{h}{2}[f(x_1) + f(x_2)]. $$\n",
    "Para o caso aberto, temos $h = \\frac{b-a}{3}$. Logo,\n",
    "$$ \\int_a^b f(x)\\mbox{d}x \\approx \\frac{3h}{2}[f(x_1) + f(x_2)]. $$"
   ]
  },
  {
   "cell_type": "code",
   "execution_count": 13,
   "metadata": {},
   "outputs": [
    {
     "data": {
      "text/plain": [
       "trapezio_aberto (generic function with 1 method)"
      ]
     },
     "execution_count": 13,
     "metadata": {},
     "output_type": "execute_result"
    }
   ],
   "source": [
    "function trapezio_fechado(f, a, b)\n",
    "    return (b-a)*(f(a)+f(b))/2\n",
    "end\n",
    "\n",
    "function trapezio_aberto(f, a, b)\n",
    "    h = (b-a)/3\n",
    "    return (b-a)*(f(a+h)+f(b-h))/2\n",
    "end"
   ]
  },
  {
   "cell_type": "code",
   "execution_count": 14,
   "metadata": {},
   "outputs": [
    {
     "data": {
      "text/plain": [
       "9.795061948640488"
      ]
     },
     "execution_count": 14,
     "metadata": {},
     "output_type": "execute_result"
    }
   ],
   "source": [
    "trapezio_fechado(f, a, b) - (F(b)-F(a))"
   ]
  },
  {
   "cell_type": "code",
   "execution_count": 15,
   "metadata": {},
   "outputs": [
    {
     "data": {
      "text/plain": [
       "-0.3314184955195003"
      ]
     },
     "execution_count": 15,
     "metadata": {},
     "output_type": "execute_result"
    }
   ],
   "source": [
    "trapezio_aberto(f, a, b) - (F(b)-F(a))"
   ]
  },
  {
   "cell_type": "markdown",
   "metadata": {},
   "source": [
    "## Erro"
   ]
  },
  {
   "cell_type": "markdown",
   "metadata": {},
   "source": [
    "Uma pergunta importante aqui é quão errada é essa aproximação.\n",
    "Note que, diferente do método de Newton ou da bissecção, não estamos calculando aproximações sucessivas para a integral, e sim uma única aproximação, que esperamos ser boa o suficiente."
   ]
  },
  {
   "cell_type": "markdown",
   "metadata": {},
   "source": [
    "O cálculo da fórmula do erro envolve outros conceitos não estudados nesta disciplina.\n",
    "Iremos apenas apresentar os erros, começando pelas três aproximações que vimos."
   ]
  },
  {
   "cell_type": "markdown",
   "metadata": {},
   "source": [
    "Abaixo, $\\xi$ é algum número em $[a,b]$ ou $(a,b)$, se a função for fechada ou aberta, respectivamente.\n",
    "\n",
    "- Ponto médio\n",
    "$$ \\int_a^b f(x)\\mbox{d}x = 2hf(x_1) + \\frac{h^3}{3}f''(\\xi)\n",
    "= (b-a) f\\bigg(\\frac{b-a}{2}\\bigg) + \\frac{(b-a)^3}{24}f''(\\xi); $$\n",
    "- Trapézio fechado\n",
    "$$ \\int_a^b f(x)\\mbox{d}x = \\frac{h}{2}[f(x_1) + f(x_2)] - \\frac{h^3}{12}f''(\\xi)\n",
    "= \\frac{b-a}{2}[f(a) + f(b)] - \\frac{(b-a)^3}{12}f''(\\xi); $$\n",
    "- Trapézio aberto\n",
    "$$ \\int_a^b f(x)\\mbox{d}x = \\frac{3h}{2}[f(x_1) + f(x_2)] + \\frac{3h^3}{4}f''(\\xi)\n",
    "= \\frac{b-a}{2}[f\\bigg(\\frac{2a+b}{3}\\bigg) + f\\bigg(\\frac{a+2b}{3}\\bigg)] - \\frac{(b-a)^3}{36}f''(\\xi). $$"
   ]
  },
  {
   "cell_type": "markdown",
   "metadata": {},
   "source": [
    "As três aproximações compartilham uma mesma propriedade. O erro é da ordem de $h^3 f''(\\xi)$.\n",
    "Isso quer dizer que para valores pequenos de $h$, o erro diminui cubicamente. Note que o $\\xi$ para cada aproximação pode ser diferente."
   ]
  },
  {
   "cell_type": "code",
   "execution_count": 16,
   "metadata": {},
   "outputs": [
    {
     "data": {
      "text/html": [
       "<img src=\"data:image/png;base64,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\" />"
      ]
     },
     "execution_count": 16,
     "metadata": {},
     "output_type": "execute_result"
    }
   ],
   "source": [
    "a = 0\n",
    "f(x) = exp(x)\n",
    "F(x) = exp(x)\n",
    "cores = [:blue, :red, :magenta]\n",
    "scatter(leg=false, xaxis=:log, yaxis=:log)\n",
    "for (i,mtd) in enumerate([ponto_medio, trapezio_fechado, trapezio_aberto])\n",
    "    b = 1.0\n",
    "    while b > 1e-6\n",
    "        Ireal = F(b) - F(a)\n",
    "        Iapprox = mtd(f, a, b)\n",
    "        E = abs(Ireal - Iapprox) / Ireal\n",
    "        scatter!([b], [E], c=cores[i])\n",
    "        b /= 2.0\n",
    "    end\n",
    "end\n",
    "b = [1.0; 1e-6]\n",
    "plot!(b, b.^3 .* exp.(b) ./ (F.(b) - F(a)) / 12)"
   ]
  },
  {
   "cell_type": "markdown",
   "metadata": {},
   "source": [
    "Duas conclusões importantes podem ser tiradas daqui. Primeiro, não existem bons motivos para se usar o trapézio aberto, uma vez que o erro do ponto médio é da mesma ordem que o do trapézio aberto.\n",
    "Segundo, que todas essas fórmulas tem uma erro proporcional à $f''(\\xi)$, de modo que integram perfeitamente funções afins."
   ]
  },
  {
   "cell_type": "code",
   "execution_count": 17,
   "metadata": {},
   "outputs": [
    {
     "data": {
      "text/plain": [
       "0.0"
      ]
     },
     "execution_count": 17,
     "metadata": {},
     "output_type": "execute_result"
    }
   ],
   "source": [
    "f(x) = 2x + 5\n",
    "F(x) = x^2 + 5x\n",
    "a, b = 0, 1\n",
    "ponto_medio(f, a, b) - (F(b) - F(a))"
   ]
  },
  {
   "cell_type": "markdown",
   "metadata": {},
   "source": [
    "Outro ponto agora é se conseguimos melhorar nossa aproximação num intervalo fixo $[a,b]$.\n",
    "Existem duas possibilidades: aumentar a quantidade de pontos da interpolação, ou quebrar o intervalo $[a,b]$ em vários intervalos menores."
   ]
  },
  {
   "cell_type": "markdown",
   "metadata": {},
   "source": [
    "### Regra de Simpson \n",
    "\n",
    "Usando 3 pontos chegamos nas seguintes fórmulas:"
   ]
  },
  {
   "cell_type": "markdown",
   "metadata": {},
   "source": [
    "\\begin{align}\n",
    "\\int_a^b f(x)\\mbox{d}x & = \\frac{b-a}{6}[f(a) + 4f\\bigg(\\frac{a+b}{2}\\bigg) + f(b)] - \\frac{(b-a)^5}{2880}f^{(4)}(\\xi) \\\\\n",
    "& = \\frac{h}{3}[f(x_1) + 4f(x_2) + f(x_3)] - \\frac{h^5}{90}f^{(4)}(\\xi),\n",
    "\\end{align}\n",
    "e"
   ]
  },
  {
   "cell_type": "markdown",
   "metadata": {},
   "source": [
    "\\begin{align}\n",
    "\\int_a^b f(x)\\mbox{d}x & = \\frac{b-a}{3}[2f(a+h) - f(a+2h) + 2f(a+3h)] + \\frac{7(b - a)^5}{23040}f^{(4)}(\\xi) \\\\\n",
    "& = \\frac{4h}{3}[2f(x_1) - f(x_2) + 2f(x_3)] + \\frac{14h^5}{45}f^{(4)}(\\xi).\n",
    "\\end{align}"
   ]
  },
  {
   "cell_type": "markdown",
   "metadata": {},
   "source": [
    "Note que $h = \\dfrac{b-a}{2}$ na fórmula fechada e $h = \\dfrac{b-a}{4}$ na fórmula aberta."
   ]
  },
  {
   "cell_type": "markdown",
   "metadata": {},
   "source": [
    "A fórmula fechada de 3 pontos é chamado de regra de Simpson."
   ]
  },
  {
   "cell_type": "code",
   "execution_count": 18,
   "metadata": {},
   "outputs": [
    {
     "data": {
      "text/html": [
       "<img src=\"data:image/png;base64,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\" />"
      ]
     },
     "execution_count": 18,
     "metadata": {},
     "output_type": "execute_result"
    }
   ],
   "source": [
    "f(x) = exp(x) + cos(3π*x) * 0.5 + 3\n",
    "a, b = -2, 2\n",
    "c = (a+b)/2\n",
    "interp(x) = f(a) + (x - a) * (f(c) - f(a)) / (c - a) + (x - a) * (x - c) * (f(b) - 2*f(c) + f(a)) / (2 * (c - a)^2)\n",
    "plot(f, a, b, c=:red, fill=(0,:red,0.5), leg=false)\n",
    "plot!(interp, a, b, c=:blue, fill=(0,:blue,0.5))"
   ]
  },
  {
   "cell_type": "code",
   "execution_count": 19,
   "metadata": {},
   "outputs": [
    {
     "data": {
      "text/plain": [
       "simpson (generic function with 1 method)"
      ]
     },
     "execution_count": 19,
     "metadata": {},
     "output_type": "execute_result"
    }
   ],
   "source": [
    "function simpson(f, a, b)\n",
    "    # Implemente\n",
    "end"
   ]
  },
  {
   "cell_type": "code",
   "execution_count": 20,
   "metadata": {},
   "outputs": [
    {
     "data": {
      "text/plain": [
       "aberta3pontos (generic function with 1 method)"
      ]
     },
     "execution_count": 20,
     "metadata": {},
     "output_type": "execute_result"
    }
   ],
   "source": [
    "function aberta3pontos(f, a, b)\n",
    "    # Implemente\n",
    "end"
   ]
  },
  {
   "cell_type": "code",
   "execution_count": 21,
   "metadata": {},
   "outputs": [
    {
     "ename": "LoadError",
     "evalue": "\u001b[91mMethodError: no method matching -(::Float64, ::Void)\u001b[0m\nClosest candidates are:\n  -(::Float64, \u001b[91m::Float64\u001b[39m) at float.jl:377\n  -(::Float64) at float.jl:367\n  -(\u001b[91m::PyCall.PyObject\u001b[39m, ::Any) at /home/abel/.julia/v0.6/PyCall/src/pyoperators.jl:11\n  ...\u001b[39m",
     "output_type": "error",
     "traceback": [
      "\u001b[91mMethodError: no method matching -(::Float64, ::Void)\u001b[0m\nClosest candidates are:\n  -(::Float64, \u001b[91m::Float64\u001b[39m) at float.jl:377\n  -(::Float64) at float.jl:367\n  -(\u001b[91m::PyCall.PyObject\u001b[39m, ::Any) at /home/abel/.julia/v0.6/PyCall/src/pyoperators.jl:11\n  ...\u001b[39m",
      "",
      "Stacktrace:",
      " [1] \u001b[1mmacro expansion\u001b[22m\u001b[22m at \u001b[1m./In[21]:11\u001b[22m\u001b[22m [inlined]",
      " [2] \u001b[1manonymous\u001b[22m\u001b[22m at \u001b[1m./<missing>:?\u001b[22m\u001b[22m",
      " [3] \u001b[1minclude_string\u001b[22m\u001b[22m\u001b[1m(\u001b[22m\u001b[22m::String, ::String\u001b[1m)\u001b[22m\u001b[22m at \u001b[1m./loading.jl:515\u001b[22m\u001b[22m"
     ]
    }
   ],
   "source": [
    "a = 0.0\n",
    "f(x) = exp(x)\n",
    "F(x) = exp(x)\n",
    "cores = [:blue, :red, :magenta]\n",
    "scatter(leg=false, xaxis=:log, yaxis=:log)\n",
    "for (i,mtd) in enumerate([simpson, aberta3pontos])\n",
    "    b = 1.0\n",
    "    while b > 1e-6\n",
    "        Ireal = F(b) - F(a)\n",
    "        Iapprox = mtd(f, a, b)\n",
    "        E = abs(Ireal - Iapprox) / Ireal\n",
    "        scatter!([b], [E], c=cores[i])\n",
    "        b /= 2.0\n",
    "    end\n",
    "end\n",
    "b = [1.0; 1e-6]\n",
    "plot!(b, b.^5 .* exp.(b) ./ (F.(b) - F(a)) / 2880)"
   ]
  },
  {
   "cell_type": "markdown",
   "metadata": {},
   "source": [
    "As fórmulas com 3 pontos, como esperávamos, são melhores que as de 2 ou 1 pontos. O erro também passou a ser proporcional a $f^{(4)}(\\xi)$, de modo que podemos calcular a integral exata de polinômios até grau 3."
   ]
  },
  {
   "cell_type": "code",
   "execution_count": 22,
   "metadata": {},
   "outputs": [
    {
     "ename": "LoadError",
     "evalue": "\u001b[91mMethodError: no method matching -(::Void, ::Float64)\u001b[0m\nClosest candidates are:\n  -(\u001b[91m::Float64\u001b[39m, ::Float64) at float.jl:377\n  -(\u001b[91m::Complex{Bool}\u001b[39m, ::Real) at complex.jl:253\n  -(\u001b[91m::BigFloat\u001b[39m, ::Union{Float16, Float32, Float64}) at mpfr.jl:351\n  ...\u001b[39m",
     "output_type": "error",
     "traceback": [
      "\u001b[91mMethodError: no method matching -(::Void, ::Float64)\u001b[0m\nClosest candidates are:\n  -(\u001b[91m::Float64\u001b[39m, ::Float64) at float.jl:377\n  -(\u001b[91m::Complex{Bool}\u001b[39m, ::Real) at complex.jl:253\n  -(\u001b[91m::BigFloat\u001b[39m, ::Union{Float16, Float32, Float64}) at mpfr.jl:351\n  ...\u001b[39m",
      "",
      "Stacktrace:",
      " [1] \u001b[1minclude_string\u001b[22m\u001b[22m\u001b[1m(\u001b[22m\u001b[22m::String, ::String\u001b[1m)\u001b[22m\u001b[22m at \u001b[1m./loading.jl:515\u001b[22m\u001b[22m"
     ]
    }
   ],
   "source": [
    "f(x) = x^3 + x^2 + x + 1\n",
    "F(x) = x^4/4 + x^3/3 + x^2/2 + x\n",
    "a, b = 0, 1\n",
    "simpson(f, a, b) - (F(b) - F(a))"
   ]
  },
  {
   "cell_type": "markdown",
   "metadata": {},
   "source": [
    "No entanto, quando passamos para 4 pontos, não temos a mesma sorte. Assim como a transição do ponto-médio ao trapézio aberto, não temos melhoria na ordem de convergência da aproximação, nem para a fórmula fechada nem para a fórmula aberta. Esse fenômeno se repete, de modo que criar interpolações com cada vez mais pontos se torna tanto inviável quanto ineficaz."
   ]
  },
  {
   "cell_type": "markdown",
   "metadata": {},
   "source": [
    "## Composição de aproximações (ou repetição)\n",
    "\n"
   ]
  },
  {
   "cell_type": "markdown",
   "metadata": {},
   "source": [
    "A outra estratégia para melhorar a aproximação no cálculo da integral é quebrando o intervalo em pedaços menores e aproximando cada pedaço."
   ]
  },
  {
   "cell_type": "markdown",
   "metadata": {},
   "source": [
    "Em outras palavras, transformamos o intervalo em\n",
    "$a = x_1 < x_2 < \\dots < x_m = b$, com $x_{i+1} - x_i = h = \\frac{b-a}{m-1}$ no caso fechado e em\n",
    "$a = x_0 < x_1 < x_2 < \\dots < x_m < x_{m+1} = b$, com $x_{i+1} - x_i = h = \\frac{b-a}{m+1}$ no caso aberto."
   ]
  },
  {
   "cell_type": "markdown",
   "metadata": {},
   "source": [
    "Note que no caso aberto criamos dois pontos extras $x_0 = a$ e $x_{m+1} = b$, para deixar mais simples o entendimento."
   ]
  },
  {
   "cell_type": "markdown",
   "metadata": {},
   "source": [
    "Com os intervalos separados, utilizamos as fórmulas dos métodos \"encaixando\" os pontos da fórmula na discretização que fizemos."
   ]
  },
  {
   "cell_type": "markdown",
   "metadata": {},
   "source": [
    "O exemplo mais fácil de entender é o da regra do trapézio.\n",
    "Veja abaixo, onde quebramos o intervalo $[-2,2]$ em 4 intervalos (i.e., $m = 5$)."
   ]
  },
  {
   "cell_type": "code",
   "execution_count": 23,
   "metadata": {},
   "outputs": [
    {
     "data": {
      "text/html": [
       "<img src=\"data:image/png;base64,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\" />"
      ]
     },
     "execution_count": 23,
     "metadata": {},
     "output_type": "execute_result"
    }
   ],
   "source": [
    "f(x) = exp(x) + cos(3π*x) * 0.5 + 3\n",
    "a, b = -2, 2\n",
    "p = plot(f, a, b, c=:red, lw=2, fill=(0,:red,0.3), leg=false)\n",
    "m = 5\n",
    "h = (b - a) / (m - 1)\n",
    "\n",
    "for i = 1:m-1\n",
    "    xi = a + (i-1) * h\n",
    "    xip = xi + h\n",
    "    L(x) = f(xi) + (x-xi) * (f(xip) - f(xi)) / h    \n",
    "    plot!(p, L, xi, xip, c=:blue, fill=(0,:blue,0.4))\n",
    "    scatter!([xi; xip], [f(xi); f(xip)], c=:blue, ms=5)\n",
    "end\n",
    "xticks!(a:h:b, [\"x$i\" for i = 1:m])\n",
    "p"
   ]
  },
  {
   "cell_type": "markdown",
   "metadata": {},
   "source": [
    "Na teoria, temos agora"
   ]
  },
  {
   "cell_type": "markdown",
   "metadata": {},
   "source": [
    "\\begin{align}\n",
    "\\int_a^b f(x)\\mbox{d}x\n",
    "& = \\int_{x_1}^{x_4} f(x)\\mbox{d}x \\\\\n",
    "& = \\int_{x_1}^{x_2} f(x)\\mbox{d}x +\n",
    "\\int_{x_2}^{x_3} f(x)\\mbox{d}x +\n",
    "\\int_{x_3}^{x_4} f(x)\\mbox{d}x \\\\\n",
    "& = \\frac{x_2 - x_1}{2}[f(x_1) + f(x_2)]\n",
    "- \\frac{(x_2 - x_1)^3}{12}f''(\\xi_1) \\\\\n",
    "& + \\frac{x_3 - x_2}{2}[f(x_2) + f(x_3)]\n",
    "- \\frac{(x_3 - x_2)^3}{12}f''(\\xi_2) \\\\\n",
    "& + \\frac{x_4 - x_3}{2}[f(x_3) + f(x_4)]\n",
    "- \\frac{(x_4 - x_3)^3}{12}f''(\\xi_3) \\\\\n",
    "& = \\frac{h}{2}[f(x_1) + 2f(x_2) + 2f(x_3) + f(x_4)] - \\frac{h^3}{12}[f''(\\xi_1) + f''(\\xi_2) + f''(\\xi_3)],\n",
    "\\end{align}"
   ]
  },
  {
   "cell_type": "markdown",
   "metadata": {},
   "source": [
    "onde $\\xi_i$ está no intervalo $[x_i,x_{i+1}]$."
   ]
  },
  {
   "cell_type": "markdown",
   "metadata": {},
   "source": [
    "O erro dessa aproximação continua sendo apenas $h^3$, apesar de usarmos 4 pontos. Porém, a escolha do $h$ é arbitrário, de modo que podemos escolher um $h$ pequeno o suficiente para satisfazer nossas necessidades."
   ]
  },
  {
   "cell_type": "markdown",
   "metadata": {},
   "source": [
    "De uma maneira mais geral, temos\n",
    "$$ \\int_a^b f(x)\\mbox{d}x = \\frac{h}{2}[f(x_1) + 2\\sum_{i = 2}^{m-1}f(x_i) + f(x_m)] - \\frac{h^3}{12}\\sum_{i=1}^{m-1}f''(\\xi_i).\n",
    "$$"
   ]
  },
  {
   "cell_type": "markdown",
   "metadata": {},
   "source": [
    "A seguir uma implementação básica desse método."
   ]
  },
  {
   "cell_type": "code",
   "execution_count": 24,
   "metadata": {},
   "outputs": [
    {
     "data": {
      "text/plain": [
       "trapezio_composto (generic function with 1 method)"
      ]
     },
     "execution_count": 24,
     "metadata": {},
     "output_type": "execute_result"
    }
   ],
   "source": [
    "function trapezio_composto(f, a, b; m = 10) # Note que não faremos mais o trapézio aberto.\n",
    "    h = (b - a) / (m - 1)\n",
    "    I = 0.0\n",
    "    xi = a\n",
    "    for i = 2:m-1\n",
    "        xi += h\n",
    "        I += f(xi)\n",
    "    end\n",
    "    I = f(a) + 2I + f(b)\n",
    "    return I * h / 2\n",
    "end"
   ]
  },
  {
   "cell_type": "code",
   "execution_count": 25,
   "metadata": {},
   "outputs": [
    {
     "name": "stdout",
     "output_type": "stream",
     "text": [
      "∫f(x)dx = 1.0\n",
      "∫f(x)dx ≈ 0.9980833759447165, Erro Relativo = 0.001916624055283478\n",
      "∫f(x)dx ≈ 0.9995693517566672, Erro Relativo = 0.0004306482433328318\n",
      "∫f(x)dx ≈ 0.9998151007522933, Erro Relativo = 0.00018489924770670463\n",
      "∫f(x)dx ≈ 0.9998977564240852, Erro Relativo = 0.0001022435759148177\n",
      "∫f(x)dx ≈ 0.9999352278141773, Erro Relativo = 6.47721858226813e-5\n",
      "∫f(x)dx ≈ 0.9999553228987321, Erro Relativo = 4.467710126787594e-5\n",
      "∫f(x)dx ≈ 0.9999673340126418, Erro Relativo = 3.266598735818249e-5\n",
      "∫f(x)dx ≈ 0.9999750802897797, Erro Relativo = 2.491971022033912e-5\n",
      "∫f(x)dx ≈ 0.9999803655228862, Erro Relativo = 1.9634477113839033e-5\n",
      "∫f(x)dx ≈ 0.9999841316957123, Erro Relativo = 1.58683042876806e-5\n"
     ]
    }
   ],
   "source": [
    "f(x) = log(x)\n",
    "F(x) = x * log(x) - x\n",
    "a, b = 1, e\n",
    "println(\"∫f(x)dx = $(F(b) - F(a))\")\n",
    "for m = 10:10:100\n",
    "    Ia = trapezio_composto(f, a, b, m=m)\n",
    "    Ir = F(b) - F(a)\n",
    "    E = abs(Ir - Ia) / abs(Ir)\n",
    "    println(\"∫f(x)dx ≈ $Ia, Erro Relativo = $E\")\n",
    "end"
   ]
  },
  {
   "cell_type": "markdown",
   "metadata": {},
   "source": [
    "Agora vejamos a regra do ponto médio. Note que não queremos os extremos do intervalo, e além disso, calculamos $f$ no ponto médio. Isso quer dizer que, na prática, existem 3 pontos envolvidos, apesar do cálculo da $f$ apenas em um deles. Isso quer dizer que separamos o intervalo $[a,b]$ de dois em dois pontos."
   ]
  },
  {
   "cell_type": "markdown",
   "metadata": {},
   "source": [
    "Lembrando que, neste caso, mudamos a definição dos pontos para\n",
    "$h = \\dfrac{b - a}{m + 1}$ e $x_0 = a$ e $x_{m+1} = b$."
   ]
  },
  {
   "cell_type": "markdown",
   "metadata": {},
   "source": [
    "Por exemplo, usando $m = 5$,"
   ]
  },
  {
   "cell_type": "markdown",
   "metadata": {},
   "source": [
    "\\begin{align}\n",
    "\\int_a^b f(x)\\mbox{d}x & = \\int_{x_0}^{x_6} f(x)\\mbox{d}x \\\\\n",
    "& = \\int_{x_0}^{x_2} f(x)\\mbox{d}x\n",
    "+ \\int_{x_2}^{x_4} f(x)\\mbox{d}x\n",
    "+ \\int_{x_4}^{x_6} f(x)\\mbox{d}x \\\\\n",
    "& = (x_2 - x_0)f(x_1) + \\frac{(x_2-x_0)^3}{24}f''(\\xi_1)\n",
    "+ (x_4 - x_2)f(x_3) + \\frac{(x_4-x_2)^3}{24}f''(\\xi_2) \\\\\n",
    "& \\quad + (x_6 - x_4)f(x_5) + \\frac{(x_6-x_4)^3}{24}f''(\\xi_3) \\\\\n",
    "& = 2h[f(x_1) + f(x_3) + f(x_5)] + \\frac{h^3}{3}[f''(\\xi_1) + f''(\\xi_2) + f''(\\xi_3)].\n",
    "\\end{align}"
   ]
  },
  {
   "cell_type": "markdown",
   "metadata": {},
   "source": [
    "Pode parecer estranho pular tantos pontos, e ainda o fato do intervalo mudar, mas graficamente isso fica mais claro."
   ]
  },
  {
   "cell_type": "code",
   "execution_count": 26,
   "metadata": {},
   "outputs": [
    {
     "data": {
      "text/html": [
       "<img src=\"data:image/png;base64,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\" />"
      ]
     },
     "execution_count": 26,
     "metadata": {},
     "output_type": "execute_result"
    }
   ],
   "source": [
    "f(x) = exp(x) + cos(3π*x) * 0.5 + 3\n",
    "a, b = -2, 2\n",
    "p = plot(f, a, b, c=:red, lw=2, fill=(0,:red,0.3), leg=false)\n",
    "m = 5\n",
    "h = (b - a) / (m + 1)\n",
    "\n",
    "for i = 1:2:m\n",
    "    xi = a + i * h\n",
    "    plot!(p, x->f(xi), xi - h, xi + h, c=:blue, fill=(0,:blue,0.4))\n",
    "    scatter!([xi], [f(xi)], ms=5, c=:blue)\n",
    "end\n",
    "xticks!(a:h:b, [\"x$i\" for i = 0:m+1])\n",
    "p"
   ]
  },
  {
   "cell_type": "markdown",
   "metadata": {},
   "source": [
    "De uma maneira mais geral, temos\n",
    "$$ \\int_a^b f(x)\\mbox{d}x = 2h\\sum_{i = 1}^{(m+1)/2}f(x_{2i}) + \\frac{h^3}{3}\\sum_{i=1}^{(m+1)/2}f''(\\xi_i).\n",
    "$$"
   ]
  },
  {
   "cell_type": "markdown",
   "metadata": {},
   "source": [
    "Assumimos $m$ ímpar."
   ]
  },
  {
   "cell_type": "markdown",
   "metadata": {},
   "source": [
    "A implementação está abaixo."
   ]
  },
  {
   "cell_type": "code",
   "execution_count": 27,
   "metadata": {},
   "outputs": [
    {
     "data": {
      "text/plain": [
       "ponto_medio_composto (generic function with 1 method)"
      ]
     },
     "execution_count": 27,
     "metadata": {},
     "output_type": "execute_result"
    }
   ],
   "source": [
    "function ponto_medio_composto(f, a, b; m = 10)\n",
    "    I = 0.0\n",
    "    if m%2 == 0 # Se m não for ímpar, usamos m + 1\n",
    "        m += 1\n",
    "    end\n",
    "    h = (b - a) / (m + 1)\n",
    "    xi = a + h\n",
    "    for i = 1:2:m\n",
    "        I += f(xi)\n",
    "        xi += 2h\n",
    "    end\n",
    "    return I * 2 * h\n",
    "end"
   ]
  },
  {
   "cell_type": "code",
   "execution_count": 28,
   "metadata": {},
   "outputs": [
    {
     "name": "stdout",
     "output_type": "stream",
     "text": [
      "∫f(x)dx = 1.0\n",
      "∫f(x)dx ≈ 1.0021449681894743, Erro Relativo = 0.0021449681894742945\n",
      "∫f(x)dx ≈ 1.0006413118189519, Erro Relativo = 0.000641311818951884\n",
      "∫f(x)dx ≈ 1.0003034587984303, Erro Relativo = 0.00030345879843030055\n",
      "∫f(x)dx ≈ 1.0001762318521485, Erro Relativo = 0.0001762318521485451\n",
      "∫f(x)dx ≈ 1.0001149912122405, Erro Relativo = 0.00011499121224045616\n",
      "∫f(x)dx ≈ 1.0000808978878688, Erro Relativo = 8.08978878688027e-5\n",
      "∫f(x)dx ≈ 1.0000599909536767, Erro Relativo = 5.999095367670293e-5\n",
      "∫f(x)dx ≈ 1.000046253318927, Erro Relativo = 4.6253318926936515e-5\n",
      "∫f(x)dx ≈ 1.0000367458831187, Erro Relativo = 3.674588311874949e-5\n",
      "∫f(x)dx ≈ 1.0000298946794866, Erro Relativo = 2.989467948655289e-5\n"
     ]
    }
   ],
   "source": [
    "f(x) = log(x)\n",
    "F(x) = x * log(x) - x\n",
    "a, b = 1, e\n",
    "Ir = F(b) - F(a)\n",
    "println(\"∫f(x)dx = $Ir\")\n",
    "for m = 10:10:100\n",
    "    Ia = ponto_medio_composto(f, a, b, m=m)\n",
    "    E = abs(Ir - Ia) / abs(Ir)\n",
    "    println(\"∫f(x)dx ≈ $Ia, Erro Relativo = $E\")\n",
    "end"
   ]
  },
  {
   "cell_type": "markdown",
   "metadata": {},
   "source": [
    "### Erro das compostas"
   ]
  },
  {
   "cell_type": "markdown",
   "metadata": {},
   "source": [
    "Vejamos o que acontece agora com o erro das aproximações compostas."
   ]
  },
  {
   "cell_type": "markdown",
   "metadata": {},
   "source": [
    "Para o ponto médio, temos\n",
    "$$ E^{(m)}_{PM} = \\int_a^b f(x)\\mbox{d}x - 2h\\sum_{i = 1}^{(m+1)/2}f(x_{2i})\n",
    "= \\frac{h^3}{3}\\sum_{i=1}^{(m+1)/2}f''(\\xi_i).\n",
    "$$"
   ]
  },
  {
   "cell_type": "markdown",
   "metadata": {},
   "source": [
    "Agora é importante notar que $\\xi_i \\in [x_{2i-1},x_{2i+1}] \\subset [a,b]$.\n",
    "Então, pelo Teorema do Valor Extremo aplicado à função $f''$, temos\n",
    "$$ \\min_{x \\in [a,b]} f''(x) \\leq f''(\\xi_i) \\leq \\max_{x \\in [a,b]} f''(x). $$"
   ]
  },
  {
   "cell_type": "markdown",
   "metadata": {},
   "source": [
    "Aplicando o somatório,"
   ]
  },
  {
   "cell_type": "markdown",
   "metadata": {},
   "source": [
    "$$ \\frac{m+1}{2}\\min_{x \\in [a,b]} f''(x) \\leq \\sum_{i=1}^{(m+1)/2} f''(\\xi_i)\n",
    "\\leq \\frac{m+1}{2}\\max_{x \\in [a,b]} f''(x), $$"
   ]
  },
  {
   "cell_type": "markdown",
   "metadata": {},
   "source": [
    "que vira\n",
    "$$ \\min_{x \\in [a,b]} f''(x) \\leq \\frac{2}{m+1} \\sum_{i=1}^{(m+1)/2}f''(\\xi_i) \\leq \\max_{x \\in [a,b]} f''(x). $$"
   ]
  },
  {
   "cell_type": "markdown",
   "metadata": {},
   "source": [
    "Pelo Teorema do Valor Intermediário, existe $\\mu \\in [a,b]$ tal que\n",
    "$$ \\frac{2}{m+1} \\sum_{i=1}^{(m+1)/2} f''(\\xi_i) = f''(\\mu). $$"
   ]
  },
  {
   "cell_type": "markdown",
   "metadata": {},
   "source": [
    "Assim,\n",
    "$$ E^{(m)}_{PM} = \\frac{h^3}{3}\\frac{m+1}{2}f''(\\mu). $$\n",
    "Como $h = \\dfrac{b-a}{m+1}$, podemos escrever também\n",
    "$$ E^{(m)}_{PM} = \\frac{h^2(b-a)}{6}f''(\\mu)\n",
    "= \\frac{(b-a)^3}{6(m+1)^2}f''(\\mu).\n",
    "$$"
   ]
  },
  {
   "cell_type": "markdown",
   "metadata": {},
   "source": [
    "Para o método do Trapézio,\n",
    "$$ E_{TR}^{(m)} = \\int_a^b f(x)\\mbox{d}x - \\frac{h}{2}[f(x_1) + 2\\sum_{i = 2}^{m-1}f(x_i) + f(x_m)] = - \\frac{h^3}{12}\\sum_{i=1}^{m-1}f''(\\xi_i).\n",
    "$$\n",
    "Por argumentos similares,\n",
    "$$ E_{TR}^{(m)} = - \\frac{h^3}{12}\\frac{1}{m-1}f''(\\mu)\n",
    "= -\\frac{h^2(b-a)}{12}f''(\\mu)\n",
    "= -\\frac{(b-a)^3}{12(m-1)^2}f''(\\mu).$$"
   ]
  },
  {
   "cell_type": "code",
   "execution_count": 29,
   "metadata": {},
   "outputs": [
    {
     "data": {
      "text/html": [
       "<img src=\"data:image/png;base64,iVBORw0KGgoAAAANSUhEUgAAAZAAAAEsCAYAAADtt+XCAAAABHNCSVQICAgIfAhkiAAAAAlwSFlzAAAPYQAAD2EBqD+naQAAIABJREFUeJzsnXtcVHX6xz+HmyAOaKKmoFLZqJhQEgVu5S2htIsi5G7bhcJ0y7KVttr9+atRy7IL/H67SmW42cXdX0lMbuWGmpaloKZJgSigloLXAp37fZ7fHzZnQ3HOgDPMnJnn/XrNy694Zs7zfZ8jz5xn5jxfgYgIDMMwDNNJwvwdAMMwDCNPOIEwDMMwXSLC3wF4gtPpxLFjx6BQKCAIgr/DYRiGCTmICDqdDoMGDUJY2Nlrj4BOIKWlpSgtLYXVasXBgwcvuF3MwARcOXsaYvpfgh8+2IhTX+3pxigZhmFCh+bmZiQlJQEABDl8iK7RaNC7d28cOHAA/fr163Abi92Gsu++wKcHa3BDkhJ/vPYW9IqK7uZI/YvZbMaiRYugUqkQHR1ac/cUduQZ7EmaUHOk1WoxePBgnDlzBvHx8QBkkkC0Wi3i4+Oh0WgQFxfndtsvftiLpV9/hNioaCyacBdGDxjSTVEyDMMELx39HpbVh+gmk0lymwmXjcLb0+cioacCj3y6Eu9+twVOcnZDdP7HZDJh1qxZHnkKVdiRZ7AnadiRzBKI64MbKQYq+uC122bh96k3YsU3n2P+Z++g1ajzcXT+JywsDElJSR57CkXYkWewJ2nYURCWsM7lm6MHsPjLD+EkwjPj85CZdKWPomQYhgleZF/CMhqNnX5ORuIwvJP7KJQJg1BU+Q5Kd66H3enwQXT+x2g0Ij8/v0ueQgV25BnsSRp2JLMEEh4e3qXnXRLTC8U59+LR627B+7Xb8IdPynBU2+bl6PxPeHg4srKyuuwpFGBHnsGepGFHIVDCOpf6Uy149osPoDEb8fQN03DzFaO9FCXDMEzwIvsSlsFguOjXSOmfhLenz0XmYCWe/eIDvPj1RzDbrV6Izv8YDAbk5OR4xVOwwo48gz1Jw45klkAiIyO98jq9oqKxeMJd+MuN07DhwPcoXPsGDrad8Mpr+5PIyEjk5+d7zVMwwo48gz1Jw45CsIR1Lj+cPoVnN3+AZm0r/pg5BXeOyOB+WwzDMOfAJawOuKxPf6y88w+YqhyDl7d9jAWb3ofOIs8bgwwGA7KyskL6kloKduQZ7EkadiSzBBIVFeWT1+0REYknf3MHlkz6HXYfO4j7PypF7ckjPtmXL4mKikJRUZHPPAUD7Mgz2JM07IhLWOdxXHcaqi/WYN9PR/HQtZNwT+qNCBNklWcZhmG8juxLWHq93uf7kHMbFL1ej1GjRnWLJ7nCjjyDPUnDjmSWQLqrZXJEWDj+kDEZf721AIdOn8R96uXY3tLULfu+GKKjo1FSUhISraW7CjvyDPYkDTviEpYkbSY9nt9Sge0tTfj96Bsw+9qbERke0OtwMQzDeB3Zl7B0uu4vJV0S0wuvutqg1FXh4U9XBmwbFJ1Oh6SkJL94kgvsyDPYkzTsSGYJJCYmxi/7DRPCcHfqDVhx+2ycMRtQ8FEpPj9Y65dY3BETE4Py8nK/eZID7Mgz2JM07IhLWJ1GbzXjpa3/wqZDtbh9eDrmZ01FdETofo2PYZjQQPYlLK1W6+8QAroNilarRVxcXEB4ClTYkWewJ2nYUTcnkK1btyIzMxNjx45FcXFxp58fGxvrg6g6jyAIuH34tXhr2sMIEwQU/usNrN23E/6+mIuNjUV1dXXAeApE2JFnsCdp2FE3l7COHTuGhIQEREVFYcKECVi3bh169uwp+bxAKmGdi8Vuw992fIaP9u3E+ORR+PON0xDXI3RrogzDBCd+L2ENGjRIvO0/PDy802sJB+Kl4rltUAr82AZFq9VCEISA9BQosCPPYE/SsCMPEsi8efOQnJwMQRBQU1PT7t+ampowduxYKJVKZGRkYO/evR7tdOPGjbjiiis6fQNOr169OrV9dzLhslF4e/pchJltmP2vN3DZHeOQnpYGtVrdbTH06tULzc3NAe3J37Ajz2BP0rAjDxJIXl4etm7diqFDh573b3PmzMHs2bPR2NiIp59+GgUFBQCA+vp6jB8/vt1j6dKlAICWlha8+OKLbj8DsVgs0Gq17R4AYDabxT9dY5PJBIvFAuDsGsWuscFggNVqFcc2mw3A2fYDdrsdwNnvcbvGWq0WDodDHDudThARtFotiAhOp1OMw+FwiGO73S5+D3xr5eeoKFyAHp9VY+BtN6DnpKvw2wfuw5o1a8SOnRaLRVxD2WKxwGQyeW1OgiBAEIR287jYOdntdrFVg81mE+dhtVq7ZU7ePk6CIKBnz55i7MEwJ18cJ0EQEBER0W4ecp+Tt48TEUGhUECn0wXNnKSO03mQhwwdOpT27Nkj/v3kyZOkUCjIZrMREZHT6aQBAwZQU1PTBV/DbDbTpEmTaP/+/W73pVKpCMB5j5kzZxIR0fz582n+/PlERFRYWEgqlYqIiPLy8qi4uJiIiLKzs6msrIyIiDIzM2nNmjVERJSSkkKVlZVERJSYmEhVVVVERKRQKKiuro6IiABQc3MzaTQaAkAajYaam5vJpauuro4UCgUREVVVVVFiYiIREV152WV0M0BOgL4ZkUy3vfI4jS3+Iw0fdx1lZ2cTEVFxcTHl5eWJ8ywsLPTanFzxbty40WtzqqyspJSUFCIiWrNmDWVmZhIRUVlZWbfMydvHybXtiBEjgmZOvjhOrv0vWbIkaObk7eNUX18v/m4Kljm5O07bt28Xf+6iywlk165dpFQq222TkZFBmzZtuuBrvPXWWzRw4EAaN24cjRs3jlpaWjrczmw2k0ajER+uSRw/fpyIiEwmE5lMJiIiMhqNZDabiYjIYDCIY71eTxaLRRxbrVYiItLpdGLS02q14lij0ZDdbhfHDoeDnE4naTQacjqd5HA4RHF2u10c22w20mq1RETUs0cPKgaIfnm0KnrStHm/payyBfQ/X39MVruNzGYzGQwGcZ5Go9Frc3I6ndTS0iL+3BtzstlspNPpiIjIarWSXq8nIiKLxSKOfTknbx8np9NJra2t4vyCYU6+OE5Op5OOHz8u/jwY5uTt42S32+nMmTN05syZoJmTu+PU1tZ2XgLx+FtYycnJWLt2La6++moAwO7du3H33XejoaFB3Oa6667D0qVLMXHiRE9e0mNcn/6fPn0avXv39upre5P0tDQk1NaikggCzr41yQ4ToLlvGnrccBWGJwzCogl3ITHuEp/s3+l04tixYxg0aFCnv6AQKrAjz2BP0oSaI69+C2vw4ME4fvy4WEsjIhw5cgRDhgzxTrQdEOhtkxeoVNhAhBxBQAmAHEHA507CX+64t1vaoOj1egwePDjgPfkTduQZ7EkadnQRCaR///4YM2YMVq9eDQCoqKhAUlIShg0b5rXgziXQ7gE5l9zcXFRUVKAtNRXPREejLTUVarUa06dPR0r/JLw9fS4yByvx7Bcf4MWvP4LZbvXq/uPi4kBEAe/Jn7Ajz2BP0rAjD24knDNnDtatW4cTJ06gb9++UCgUOHDgAACgoaEBBQUFaG1tRVxcHFatWoXRo0d7PUjXpVNbWxv69Onj9dfvTogInzbuRknVOgxU9MZzE2fiiksu9cprOxwO7N+/HyNGjEB4eLhXXjPYYEeewZ6kCTVHHZWwZNVMsbm5GUlJSf4Oxy1qtRqLFi1BY+N+KJUjoFItQG5u7nnb/Xj6FJ7Z/AGata14PHMKpo3IgCAIF7VvrVaLpKQktLS0hPS7InewI89gT9KEmiPZJ5BAbGXya9RqNWbMmAFByAZRDgRhPYg2oKKiosMkYrHbsGxHJdT7dnAbFIZhAhq/tzK5WFwf2AcqixYt+SV5VAIoAlElBGEyFi9+ocPte0RE4k+/uR0veKkNit1uR3V1dcB78ifsyDPYkzTsSGYJxHVHZqDS2LgfRDkAXKUoAUS3oKFhn9vnjf+lDUq/nnF45NOVeLdmC5zk7PT+TSYT8vPzA96TP2FHnsGepGFHXMLyKmlp6aitTfjlCuTsnSCCkIPU1DbU1OySfL7d6cDfv92Md2u+wrWDLsez4/PQt6fC53EzDMNIwSUsH6NSLQDRBghCDoASCEIOiDZCpVrg0fMjwsIx59rJ+OutBTh0+iTuUy/H9pYmj/dvt9uxfv36gPfkT9iRZ7AnadiRzBKIq5FYoOK6DyQ1tQ3R0c8gNbVNvA+kM1ybeAXeyX0UwxMGoajyHZTuqITNIX2Sms1mFBUVBbwnf8KOPIM9ScOOuIQV0DjJifdrq/D6NxugTBiIxRNm+qwNCsMwjDtkX8JytSYOFcKEMNydegNW3DEbGrNRsg2KzWZDeXl5yHnqDOzIM9iTNOxIZgnE1ec+1Ejpl4R3ps9FlkQbFKvVipKSkpD15AnsyDPYkzTsiEtYsoKIsK7xWxRXfer1NigMwzDukH0JK5QzPQAIgoDbhqdj1bSHES6EofBfb+CjfTvheg9gtVqxcuXKkPfkDnbkGexJGnYkswQSyrVGAHjqqaegiInBsEsG4F8P/Bf6tlrwyraPsWDT+9BaTFyT9QB25BnsSRp2xCUs2fDUU0/hlVdewc0AbgXwGYDPATyw6CkcTVYgNioaiybchdEDfLceC8MwoYvsS1iuheNDkdeXLcPNADYAKPrlz0kAyl9cJrZBefjTMjy0fAmMIdxaQQqLxYKSkpKQPpc8gT1Jw45klkAcDoe/Q/AbJrMZt+LXXbaAKQBMZhMGKvqg9LZC/DYlC3t7GPHk5//Az0ad/4INYBwOB6qrq0P6XPIE9iQNO+ISlmxQxMQg02zGBkBcb30ygB3RMdCZjOJ2u44dxKIvyuEgwrPjZiBzsNJPETMME0xwCUvGPPzYY/gcZ5NGyS9/bgLwyLzHxG0sFgs+ffM9lE2djZEJiSha/y6We9gGJVSwWCxYuHBhSJ9LnsCepGFHQIS/A+gMTmfnW5wHCy+//DIA4PVly/Gl2YSY6Bg8Ne8xvPTSS+I2TqcTLS0tiO8Rg1dy7hHboOw58QO3QfkFl6NQPpc8gT1Jw464hBX01P/Ugmc3fwCN2Yinb5iGm6/w/pr1DMMEP7IvYYVy10tP6Kg7qKdtUEIF7qDqGexJGnYU4AmktLQUKSkpyMjI8HcossZ1j8h/3TgdGw58jwfXvo6DbSf8HRbDMDKHS1ghxo+nT+GZzR+gWduKedffiukjr4MgCNJPZBgmpJF9CSuU1x72BJPJhFmzZrn1lNynP1be+QfcpkzHq1WfYMGm/4PWEjpePXHEsCdPYEcySyBhYbIKt9sJCwtDUlKSpKceEZH4029ux4s3343dxw7h/o+Wo/bkkW6K0r946ijUYU/SsCMuYYU8x3WnsfCLctT/1IJZ6RNxT+pNCA/h/xAMw3SM7EtYRqNReqMQxmg0Ij8/v1OeBir6YLKtL0w7G/HGzo0Yu+gRvPvhBz6M0r90xVEowp6kYUcySyDh4eH+DiGgCQ8PR1ZWVqc8qdVq5Ofl4duy06j/nzg44uKw7Mh2FL+/yoeR+o+uOApF2JM07IhLWCFPWlo6amsTQFQJQECEQodhD/wFfUb3xt2jb8Cca29GZLisGhYwDOMDZF/CMhgM/g4hoDEYDMjJyemUp8bG/SAaiHBcjTDEgHQ3YP8yPY5+tAUf1FXhD5+W4ai2zYdRdy9dcRSKsCdp2JHMEkhkZKS/QwhoIiMjkZ+f3ylPAwYMAPAOJqAWr8CMCagF6B0Ie49hxR2zoTEbUfBRKTYe/N53gXcjXXEUirAnadgRl7BCnmHJybjs8OHz2sQfTk5G0w8/wGA14+VtH2Pjwe9xuzIdf8yaipjIKP8GzTBMt8MlrCDHYDAgKyurU56OnzzZ4UJVx06cbXUSGxWNhePz8V83TcfGQ9+j8F/yboPSFUehCHuShh3JLIFERfE7X3dERUWhqKioU55GKJVYLwhwXYYSgEpBwMjhw8VtBEHAbcp0vHXnw4gIC0fhv96Aun4HZHDxeh5dcRSKsCdp2BGXsEIetVqNGTNmYLIg4BYiVAoCNhJBrVZj+vTp521vsduwbEcl1Pt2YHxyCv5843TE9YjxQ+QMw3Qnsi9h6fV6f4cQ0Oj1eowaNapTnnJzc1FRUYG21FQ8Ex2NttTUCyYPQP5tULriKBRhT9KwI5ldgbS2tuKSS3hVvQtht9uxadMmTJo0CRERvr93Q45tULrbkVxhT9KEmqOOrkBklUC4hBV42J0O/P3bzXi35iukD7oMz47PR0JPhb/DYhjGy8i+hKXT6fwdQkCj0+mQlJTUrZ4iwsIx59rJ+OuUAvxw+hTuUy9HdXNjt+2/s/jDkRxhT9KwI5klkJgY/rDWHTExMSgvL/eLp2sHXYF3ch/FyIREPLH+XSzfUQmbw97tcUjhT0dygj1Jw464hMV4GSc58UFdNV7/ZgMShB449Na/0bBrD5TKEVCpFiA3N9ffITIM0wVkX8LSarX+DiGg0Wq1iIuL86unMCEMvxv9G8zsNQw/Hj+KqLtuROzo/0ZtbQJmzJgBtVrtt9iAwHAkB9iTNOxIZgkkNjbW3yEENLGxsaiurg4IT28u+V/UPn8IZ76/GsrZBlx27x8Q3iMHixe/4Ne4AslRIMOepGFHfihh/e///i8+/fRTfP755x4/h0tY8iMmJhZm83MA5qPf2G9x2d2fwtLqwOG338bpQ/K5b4RhmLP4vYRls9lQU1PT5eeH8qWiJ2i1WgiCEBCelMoREIT1AICfqtJR+/wfQA49Rjz1e7+2QQkkR4EMe5KGHXVzAnnvvffwu9/9rsvP79WrlxejCT569eqF5ubmgPCkUi0A0QYIQg6AEphP3ou6F5fhmthL8WrVJ1iw6f+gtZi6Pa5AchTIsCdp2JFEApk3bx6Sk5MhCMJ5Vw5NTU0YO3YslEolMjIysHfvXrc7cjqdWL9+PXJycrocrCAI0huFMIIgIC4uLiA85ebm4sknn0Rsj60IxxOI7bEVf5pfhNfufbxdG5TvTxzu1rgCyVEgw56kYUcSCSQvLw9bt27F0KFDz/u3OXPmYPbs2WhsbMTTTz+NgoICAEB9fT3Gjx/f7rF06VKo1WrccccdHgVlsVig1WrbPQDgp59+AgCYzWaYzWYAgMlkgsViAXB2kXvX2GAwwGq1imObzQbgbP8au/3s/Qk6nU4ca7VaOBwOcex0OkFE0Gq1ICI4nU4xDofDIY7tdrt4I5Hdbhf74thsNrHNs9VqFccWiwVGo1Ecm0wmr81Jp9MhPj4ep0+f9vuc1Go1XnnlFYy1mPEycPbPl1+GWq1GRv9kvDn1IQyIjccj61bird2b4HA6u+U4uRwdP37cb8dJDueey9PPP/8cNHPy9nHSaDSIj4/H0aNHg2ZOUsfpPMgDhg4dSnv27BH/fvLkSVIoFGSz2YiIyOl00oABA6ipqemCr/H888/TzTffTDk5OdS3b18qKyu74LYqlYpwtrN4u8c999xDRETz58+n+fPnExFRYWEhqVQqIiLKy8uj4uJiIiLKzs4W95GZmUlr1qwhIqKUlBSqrKwkIqLExESqqqoiIiKFQkF1dXVERASAmpubSaPREADSaDTU3NxMLl11dXWkUCiIiKiqqooSExOJiKiyspJSUlKIiGjNmjWUmZlJRERlZWWUnZ1NRETFxcWUl5cnzrOwsNBrc3I6nTRo0CDatm2b3+c0JjWVJgPkBIh++fNmgNLT0sQ52Rx2Gjf/AcoqW0CPrvs7ZU64yefHyel0UkVFhV+PkxzOPafTSXfeeSe9+uqrQTMnbx+nI0eOiPMIljm5O07bt28Xf+6iSwlk165dpFQq222TkZFBmzZt8uTlaNKkSW7/3Ww2k0ajER+uSRw7doyIiEwmE5lMJiIiMhqNZDabiYjIYDCIY71eTxaLRRxbrVYiItLpdGLi02q14lij0ZDdbhfHDoeDnE4naTQacjqd5HA4RHF2u10c22w20mq14lin0xERkdVqJb1eT0REFotFHJvNZjIYDOLYaDR6bU4Oh4P27dsnbuPPOfWMjqbiX5KH61EMUM/o6PPmVP3jfrr9H0vp1neX0FeH9vr0ODkcDvrhhx/En/vjOMnh3HM4HNTY2ChuEwxz8vZxstlsdOTIETp9+nTQzMndcWprawuMBNJZXBmxubnZJ68fLPz6nYO/GZOaStmC0O4KZLIgUHpaWofbtxn1VPTZO5RVtoCWbf+MrHabT+IKJEeBDHuSJtQcdTTfLn0La/DgwTh+/LhYRyMiHDlyBEOGDOnKy3kM3wPinri4OBBRQHhaoFJhAxFyBAElAHJ+WahqgUrV4fZ9YmLxSs49eOz6W7FmbzX+8GkZjmrbvB5XIDkKZNiTNOyoi1/j7d+/P8aMGYPVq1cDACoqKpCUlIRhw4Z5Nbhz6fBDHEbE4XBg7969AeGpswtVAf9pg/LG7Q9BYzbi/o9KsfHg916NK5AcBTLsSRp2JHEn+pw5c7Bu3TqcOHECffv2hUKhwIEDBwAADQ0NKCgoQGtrK+Li4rBq1SqMHj3aJ0G67oBsbm5GUlKST/YRDGi1WiQlJaGlpUX274oMVjNe3vYxNh78Hrcpx2B+1m2Iibz4taeDyZEvYU/ShJojXlCKkRVEhHVN36Kk6lMMiO2N5ybOxLC+l/o7LIYJSfzeyuRicX3mwnSM3W5HdXV10HgSBAG3KdPx1p0PIzI8HLM+fgMVF9kGJdgc+Qr2JA07klkCcd1Qw3SMyWRCfn5+0HlK7tMfZXfMwe3D01Fc9QkK3n0Vadddj5iYWKSlpXeqRXywOvI27EkadsQlLEZmvPT+W6g4uRcOcxiayhKgP7QZRBtQUVHBi1UxjA/hElaQY7fbsX79+qD29M8XS/H9c42wtF2JUU8aMOjWv0AIm+zxOiOh4MgbsCdp2JHMEoirDwzTMWazGUVFRUHtqbFxPyytE7D31UIc/ewmDL5zE0b+cSwOHvdsjZFQcOQN2JM07IhLWIzMSEtLR21tAogqAQiIG3EQVxauQGQUoWT6Q8garPR3iAwTlMi+hOXqLMl0jM1mQ3l5eVB7OnedEV3Dw/huUSkuj++HJ9a/i2U7PoPNceGSQig48gbsSRp2JLME4mpTzHSM1WpFSUlJUHty3eGemtqG6OhnkJrahjXvrsZ79/0Jj11/K8r3bsecT8rQom3t8Pmh4MgbsCdp2JHMEkgoL17vCbGxsaiurg4JT+FkQxicCCcbiEhsg7Li9tnQWU0o+Og1bDj43XnPCyVHFwN7koYdySyBhHKm9wSr1YqVK1cGtSe1Wo0ZM2YgobYWz5nNSKitxYwZM8R7QUb2S8Tb0x7BDUOGY+EX5XjhKzVMtv/4CAVH3oA9ScOOZJZAQrnW6AmhUJNdsmgRsgUBlUQoAlBJhMmCgBcWLxa3iY2Khmp8PhbclIvPD9XiwbWv40DrCQCh4cgbsCdp2BF/C4uRGbExMXjObEbRr35WAuCZ6GgYOrgj+MczP+HZzR/giOZnPHb9rcgdeV1Ir2HNMF1F9t/Ccq37y3SMxWJBSUlJUHsaoVRivSDA9a6HAFQKAkYOH97h9sm9+7Vrg/LnDauxtOTVoHbkDULhXLpY2JHMEkgo9933BIfDgerq6qD21NmFqgCgR0Qknhh7O168+W7UnDyMdZE/4bsTP3ZbzHIkFM6li4UdcQmLkSFqtRovLF6MfQ0NGDl8OBaoVG4Xqvo1J/RnsPCLNdh7qgWFYybi3rSbEB4mq/dRDOMXuIQV5FgsFixcuDDoPeXm5mJXTQ0MJhN21dR4nDwAoE9kDPrvPoq7rxqLst2b8MfKt/GTQevDaOVJqJxLFwM7klkCcTqd/g4hoHE6nWhpaWFPbnA6nTjWchQFqePw1ykFOHzmJ9z/0XJUNzf6O7SAgs8ladgRl7CYEOe0yYDnv6pAdXMjro3ujy3F76Jx/z4olSOgUi3gFvEM8wuyL2GFctdLT+DuoNKc66hPTCxeyb4H43smYqf+OGjqjSDFQtTWJrS7QTHU4HNJGnYkswTCML4gTAjDupdWYu9L+xHRczBSnzHjkoyXIQierzPCMKFIQJewSktLUVpaCofDgcbGRi5hMT4jJiYWZvNzCI9+BJfd8zH6Xf89Tm2NwvGPimHQaPwdHsP4HdmVsObOnYv6+np88803AHhNdClMJhNmzZrFntxwIUdK5QgIwno4zD1wYGU+Dqyajr4ZJoxe8IDYBiWU4HNJGnYU4AnkXML4+/puCQsLQ1JSEntyw4UctV9n5H/wc/Vf8P3zZRjQrx9mffwGKup3IIAv1r0On0vSsKMAL2G54G9hMd2BWq3G4sUvoKFhH4YPHwmVagGm3H4blu+sREX9DowbmoK/3DgNcdE9/R0qw3Q7sithnYvRaPR3CAGN0WhEfn4+e3KDlKNz1xn5dRuUb0/8gPs/KsX3Jw53c9TdD59L0rAjmSWQ8PBwf4cQ0ISHhyMrK4s9ueFCjqTWGRmXnIJ3ps/FgF7xmLvu73h7z5dwBPENZHwuScOOuITFMACA9LQ0JNTWopIIAs52+c0RBLSlpmJXTY24nd3pwKo9X+DtPVswZtBleHZcHvrF8jnJBD+yL2EZDAZ/hxDQGAwG5OTksCc3XMjR/sZG5PySPABAAHALEfY1NLTbLiIsHA+l34y/TXkgqNug8LkkDTuSWQKJjIz0dwgBTWRkJPLz89mTGy7kqLPrjKQPuhzvTH8UI/sl4Yn172LZjs9gc9h9G3w3wueSNOyIS1gMA+A/n4FMFgTcQoTKX9YZUavVbrv9OsmJNXXVeO2bDRh2yaVYPPEuJMX17cbIGaZ74BJWkGMwGJCVlcWe3HAhR7m5uaioqEBbaiqeiY5GW2qqZPIAzrZB+e3o32DF7bOhs5pQ8NFr2HDwO19OoVvgc0kadiSzK5Cff/4Zffvyu7sLYbPZsHbtWkybNi2kL6vd4UtHBqsZr2z7GBsOfo+pyjEoyroNMZFRXt1Hd8HnkjSh5qijKxBZJRAuYTGBDhHh3017UFz1CQbE9sbiiXcmGlihAAAgAElEQVThyr4D/R0Ww1w0si9h6fV6f4cQ0Oj1eowaNYo9ucHXjgRBwFTlGLw17RFEhofjoY9X4Jl/rkBaWjpiYmKRlpYuixbxfC5Jw45klkCio6P9HUJAEx0djZKSEvbkhu5ylNy7H8rumINREX2wydgMy28yYQ9bJJt1RvhckoYdcQmLYXxKWlo6WsKH4Yr7U+EwR6GpLB/6Q7ORmtqGmppd/g6PYTxG9iUsnU7n7xACGp1Oh6SkJPbkhu521Ni4H217rsd3i+fC0tYbo558C4NuHYeGxv3dsv+uwueSNOxIZgkkJibG3yEENDExMSgvL2dPbuhuR651Rqxt8dj76oM4+u+bMPhOI1KfvBc/GbTdEkNX4HNJGnbEJSyG8SmuGxQFYTKIboEgVEKhbMR1Tz6AyB6R+O9xMzB2cMd3uzNMICH7EpZWG7jv2AIBrVaLuLg49uSG7nbkukExNbUN0dHPIDW1DW+/+D9Yc/efMLJfEv60/j38bXvgtUHhc0kadiSzK5C2tjb06dPH3+EELA6HA/v378eIESNCusW0OwLJ0XltUCbchaT4wLhRNpA8BSqh5kj2VyChcJAuhvDwcIwaNYo9ucEfjtRqNdLT0hAbE4P0tDTxK7zntUFZGzhtUPhckoYddXMCWbFiBSZNmoTx48fDZrN1+vmhfKnoCVqtFoIgsCc3dLcjqYWqAGBkv0S8Pe0R3DBkOBZ+UY4lX6lhslm7Jb4LweeSNOyoG0tYR44cwcsvv4zly5d3+rmuS6fTp0+jd+/ePoguOHA6nTh27BgGDRqEsDBZXVx2G93tyNOFqoDAaoPC55I0oebIryWsDRs2wGAwYOLEiVi4cGGXXkMQBOmNQhhBEBAXF8ee3NDdjjxdqMoVm6sNStQvbVAq6nfAHx9T8rkkDTuSSCDz5s1DcnIyBEFAzTnvlpqamjB27FgolUpkZGRg7969bnd06tQpCIKAzZs344cffjjv9TwhlG/Y8QSdTof4+Hj25IbudtTZhaqAs21Q3rxjDu4Yfi2Kqz7Bf33+f9Cajd0Srws+l6RhRxIJJC8vD1u3bsXQoUPP+7c5c+Zg9uzZaGxsxNNPP42CggIAQH19PcaPH9/usXTpUsTHx2PcuHEAgJtuugkNHbwDc2GxWKDVats9ACAiIgIAYDabYTabAQAmkwkWiwUAYDQaxbHBYIDVahXHrs9c9Ho97PazX5nU6XTiWKvVwuFwiGOn0wkiglarBRHB6XSKcTgcDnFst9vFE8hut4uN1Ww2m7hOgNVqFccWiwVGo1Ecm0wmr81JoVCgpaVFvLEpGObk7eOkUCjQ2toqvmv09ZyeePppbCBCjiCgBGfLVxuJUPTUU27nFBUegVlX3YQXJ/0O3x7/Afeql+G7Ez9223FSKBQ4fvw4oqKi/HKcfDEnd8epK3OKjY3FmTNnQERBMyep43Qe5AFDhw6lPXv2iH8/efIkKRQKstlsRETkdDppwIAB1NTUdMHX2L17Nz3xxBNERPT444/T9u3bL7itSqUinH2z1u5xzz33EBHR/Pnzaf78+UREVFhYSCqVioiI8vLyqLi4mIiIsrOzqaysjIiIMjMzac2aNURElJKSQpWVlURElJiYSFVVVUREpFAoqK6ujoiIAFBzczNpNBoCQBqNhpqbm8mlq66ujhQKBRERVVVVUWJiIhERVVZWUkpKChERrVmzhjIzM4mIqKysjLKzs4mIqLi4mPLy8sR5FhYWem1ODoeDLr30Utq6dWvQzMnbx8nhcNB7773XrXN64oknKD0tjSIEgZSXX05qtbpTc9rTWE+jnrqXfrPyv2lp5fukiIvz+XFyOBw0depUevXVV/1ynHwxJ6nj1Nk5HT58mOrr64NqTu6O0/bt28Wfu+hSAtm1axcplcp222RkZNCmTZvcvs7jjz9O48aNo4ceesjtdmazmTQajfhwTcKVoEwmE5lMJiIiMhqNZDabiYjIYDCIY71eTxaLRRxbrVYiItLpdGLi02q14lij0ZDdbhfHDoeDnE4naTQacjqd5HA4RHF2u10c22w20mq14lin0xERkdVqJb1eT0REFotFHJvNZjIYDOLYaDR6bU6uA9/a2ho0c/L2cXI5Onr0qKzm1Hb6NL25ayONLftv+sO/VtApvcanx8nl6dSpU345Tr6Yk7eP0+nTp8VfusEyJ3fHqa2t7bwE4tG3sJKTk7F27VpcffXVAIDdu3fj7rvvbleGuu6667B06VJMnDhR6uU6DbcyYZiz7D52CIu+LIfd6cDEiIF478XlaGzcD6VyBFSqBcjNzfV3iEyQ4rVvYQ0ePBjHjx8X62hEhCNHjmDIkCHei7YDOqzBMSIOhwN79+5lT26Qu6P0QZfjnemPoo8jAmr9QWiGXwOLbbHX1xmRu6fugB11MYH0798fY8aMwerVqwEAFRUVSEpKwrBhw7wa3LmE8uL1nmAwGJCVlcWe3BAMjvrExKKu5AP8uOYILp2YiKv+3BM9Ev4BQZiMxYtf8Mo+gsGTr2FHEjcSzpkzB+vWrcOJEyfQt29fKBQKHDhwAADQ0NCAgoICtLa2Ii4uDqtWrcLo0aN9EiSXsBimPTExsTCbn0PskJlQzvkAEQoDDq2OgOH752Eyhe4vNMZ3dPR7WFbNFFtbW3HJJZf4O5yAxW6345tvvkFGRob4lWemPcHiKC0tHbW1CSCqRHi0BZfd8zH6Xf897PUt2PLSm4iJjLqo1w8WT74k1BzJvpmi6/vQTMeYTCbk5+ezJzcEiyOVagGINkAQcuAwv4aDf1+JA6s+QUzKEDyw9jU0tR6/qNcPFk++hB3J7AqES1gM8x/UajUWL34BDQ37MHz4SKhUC3DNhBug2vwBDmt+xmPX34LckdeHdKsNxnvI/grE9a0vpmPsdjvWr1/PntwQTI5yc3NRU7MLJpMBNTW7MH369HPaoHyKv3z+zy61QQkmT76CHcksgbhu42c6xmw2o6ioiD25IZgcXWidkR4RkSgaextevPlu7DnxI+7/qBTfnfixU68dTJ58BTviEhbDyBLXOiPZgoAcIqwXBGwgQkVFRbubCU/qz2DhF+WoPXUEhWMm4r60cQgPgdbjjPeRfQmrK4tQhRI2mw3l5eXsyQ3B4mjJokXIFgRUEqEIQCURJgsCXli8uN12A3r1xrKpD6Lg6vFYuXszHv9sFX4ySC+AFCyefAk7klkCcXWZZDrGarWipKSEPbkhWBx1Zp2RiLBwzEqfhL9NeQBHND/j/o+Wo6r5wt2wgeDx5EvYEZewGEaWdGalw19z2mTA819VoLq5Eb+96jd4OGMyIsOD/x4G5uKRfQkrlDO9J1itVqxcuZI9uSFYHC1QqTpcZ2SBSuX2eX1iYvFq9r2Yd/2t+LB+O+Z88iZaNK3nbRcsnnwJO5JZAgnlWqMncE1WmmBxlJubi4qKCrSlpuKZ6Gi0paZCrVZj+vTpks8VBAG/Hf0bvHnHbOisZhSsLcWGA9+12yZYPPkSdsQlLIYJaQxWM17Z9jE2HPweU5VjUJR120W3QWGCE9mXsFzLNjIdY7FYUFJSwp7cwI7aExsVDdX4fCy4KRebDtXigbWv4Y01q5GaOgaRkdFITR3jtRbxwQafSzJLIKHcd98THA4Hqqur2ZMb2NH5CIKAqcoxWDXtEZj0BrzdWoefEkbBbl+Curp+Xl1nJJjgc4lLWAzD/Iq0MRnQDr8aAycNQNuekTj49jQ4TNORmtqGmppd/g6P8SNcwgpyLBYLFi5cyJ7cwI7c07ivHj++PxL7l/8eccofkfrsa+h1xSQ0NOzzd2gBB59LMksgTqfT3yEENE6nEy0tLezJDezIPUrlCAjCepz+bgS+WzQXlrbeGPWkFqN+PxUOdtYOPpe4hMUwzK9w9dgShMkgugVCeCUSp1ow+PYbMWbgZVCNz0e/WP4/GIrIvoQVyl0vPYG7g0rDjtzjur/kqqtaER7+F1yV0oq/FfwRy6Y8KLZB2XbEfRuUUIHPJZklEIZhfE9ubi527tyGefPmYufObZg+fTrSB12Od6Y/ipH9kvDkhvfwt+2fweYI3XUwmLNwCYthmHao1WosWbQI+xsbMUKpxAKVSmwRT0T4oK4Kr32zAcMuGYDFE2YiKb6vnyNmugPZlbBKS0uRkpKCjIwMALwmuhQmkwmzZs1iT25gR+5xfQaSUFuL58xmJNTWtrsP5NdtUPRWS4dtUEIFPpcCPIHMnTsX9fX1+OabbwAAYbwQjlvCwsKQlJTEntzAjtzj6TojIxISsWraI7hhyEgs/LIcS75Sw2QLraaCfC5xCYthmF8RGxOD58xmFP3qZyUAnomOhqGDd9pEhM+a9uDVqk/QPzYez02ciSv7Duy2eJnuQ3YlrHMxGo3+DiGgMRqNyM/PZ09uYEfuGaFUYr0gwPWukgBUCgJGDh/e4faCIGDKL21QeoRH4KGPV+DDvdshg/elFw2fSzJLIOHh4f4OIaAJDw9HVlYWe3IDO3JPV9cZGdq7H968Yw7uGH4tSqo/xZ8//ye05uD+xcrnEpewGIY5B7VajRcWL8a+hgaMHD4cC1Qqj9YZcfHV4X1Y8pUaPSOisHBCPtIuTfZdsEy3IfsSlsFg8HcIAY3BYEBOTg57cgM7kiY3Nxdbtm3DDTfdhC3btnUqeQDATUNH4t3pc3Fpr96Yu+7vWLXni6Bsg8LnkswSSGRkpL9DCGgiIyORn5/PntzAjjzjYj0N6NUby6Y+iIKrx2Pl7s14/LNV+MmghVqtRlpaOmJiYpGWli7rNvF8LnEJi2EYH/PtsUNY+GU5DCYTvv3rP6CpuxxEORCE9SDagIqKCvFGRSZw4RJWkGMwGJCVlcWe3MCOPMObnsYMuhzv5j4K3aFjGDlvJobkPQ4hfB6IKiEIk7F48QteiLj74XNJZgkkKorXanZHVFQUioqK2JMb2JFneNtT7+hY1Jb8Az+83xOXTtyBq/78JqL7tYHoFtmuNcLnEpewGIbpJtLS0lFbm4Ceg/+OK2eXIypeh0Or9yHR3MSrHcoA2Zew9Hq9v0MIaPR6PUaNGsWe3MCOPMMXnlSqBSDaAGPzg/j+OSfaao7hyllX4Lonfg+jTX6r+vG5JLMEEh0d7e8QApro6GiUlJSwJzewI8/whSfXWiOpqW2IEp5F7K5duDU2GQccWjy49nU0th732r66Az6XuITFMIyfOXzmJzy7+QMc1vyMR6+7BTNSrocgCP4OizkH2ZewdDqdv0MIaHQ6HZKSktiTG9iRZ/jKk1qtRnpaGmJjYpCelga1Wi3bNih8LsksgcTExPg7hIAmJiYG5eXl7MkN7MgzfOHJ3VojPSIiUTT2Niyd/Ht8d+JH3P9RKb478aPX9u0L+FziEhbDMN1EeloaEmprUUkEAWc7/eYIAtpSU7Grpkbc7qT+DBZ+WY7ak0dQOGYi7ksbh/AQXnMjUJB9CUur1fo7hIBGq9UiLi6OPbmBHXmGLzztb2xEzi/JAwAEALcQYV9DQ7vtBvTqjWVTzm+DEmjwuSSzBBIbG+vvEAKa2NhYVFdXsyc3sCPP8IWnzqw1EhEWjlnpk7BsygM4ovkZ93+0HNuONJy3nT/hc4lLWAzDdBOuz0AmCwJuIULlL2uNqNVqtx1/z5gNeH6LGlXNDZh51Vg8nJGNqPCIboycAfxcwjKZTJgyZQrGjRuHBx54oEuvEcqXip6g1WohCAJ7cgM78gxfeHLdB9KWmopnoqPRlpoqmTyAs21QXsm+B49nTkFF/Q784ZM30aJp9VpcXYXPpW5MIBs2bMANN9yALVu2IDIyEnV1dZ1+jV69evkgsuChV69eaG5uZk9uYEee4StPubm52FVTA4PJhF01NR6vNSIIAmZeNRZv3jEbeqsFBWtLsf5AjfQTfQifS92YQC677DKxa6Ver0d8fHynX4NvLnKPIAiIi4tjT25gR54RqJ5GJCRi1bRHcOPQkVj05Yd4fkuF39qgBKqj7sRtApk3bx6Sk5MhCAJqatpn+6amJowdOxZKpRIZGRnYu3ev2x0NGzYMX3/9NUaOHAlBEDB48OBOBxvKN+x4gk6nQ3x8PHtyAzvyjED2FBvVA6rx+Xhm3Ax88cNePLj2dbyxZnW3L1QVyI66C7cJJC8vD1u3bsXQoUPP+7c5c+Zg9uzZaGxsxNNPP42CggIAQH19PcaPH9/usXTpUrzzzjuYOXMm9u3bh4SEBFRVVV1wvxaLBVqttt0DACIizn5wZjabYTabAZz9bMViOfsOxGg0imODwQCr1SqObTYbgLNXP3a7HcDZE8A11mq1cDgc4tjpdIKIoNVqQURwOp1iHA6HQxzb7XbxBLLb7WJjNZvNJl5xWa1WcWyxWGA0GsWxyWTy2pwUCgVaWlrEG5uCYU7ePk4KhQKtra3iu8ZgmJMvjpNCocDx48fFVuWBOKdbr7wGb0wphFGnx9utdTiVkAKzeTFqaxMwY8YMvP/++z49TrGxsThz5gyIKGT+P50HecDQoUNpz5494t9PnjxJCoWCbDYbERE5nU4aMGAANTU1XfA1li9fTv/85z+JiGjhwoW0bt26C26rUqkIZ7/l1+5xzz33EBHR/Pnzaf78+UREVFhYSCqVioiI8vLyqLi4mIiIsrOzqaysjIiIMjMzac2aNURElJKSQpWVlURElJiYSFVVVUREpFAoqK6ujoiIAFBzczNpNBoCQBqNhpqbm8mlq66ujhQKBRERVVVVUWJiIhERVVZWUkpKChERrVmzhjIzM4mIqKysjLKzs4mIqLi4mPLy8sR5FhYWem1ODoeDLr30Utq6dWvQzMnbx8nhcNB7770XVHPyxXFyOBw0depUevXVVwN+Tr379qfk386irLIFNPyR1RTRU0/AzZSQMNCnx+nw4cNUX18fMv+ftm/fLv7cRZcSyK5du0ipVLbbJiMjgzZt2nTB12hra6PJkyfTuHHjaNq0aWS1Wi+4rdlsJo1GIz5ck3AlKJPJRCaTiYiIjEYjmc1mIiIyGAziWK/Xk8ViEceu/el0OjHxabVacazRaMhut4tjh8NBTqeTNBoNOZ1Ocjgcoji73S6ObTYbabVacazT6YiIyGq1kl6vJyIii8Uijs1mMxkMBnFsNBq9NifXgW9tbQ2aOXn7OLkcHT16NGjm5Ivj5PJ06tSpgJ9Tjx49CSimPmn1dO3/PE9jlr5MiiuXUo8ePX16nE6fPi3+0g2F/09tbW3nJRCP7gNJTk7G2rVrcfXVVwMAdu/ejbvvvhsNv7qD9LrrrsPSpUsxceJEqZfrNHwfCMMwF8K1UBVRJaL6aHDlrHIohv0I284D2PHm/3EbFC/htftABg8ejOPHj4t1NCLCkSNHMGTIEO9F2wEd1uAYEYfDgb1797InN7Ajz5CTJ9dCVYKQA+vpt1BfUo6WdVsRlXmlT9ugyMmRr+hSAunfvz/GjBmD1atXAwAqKiqQlJSEYcOGeTW4cwnlxes9wWAwICsriz25gR15hpw8/XqhqujoZ5B6VRv+VvBHLJ/yII5ofsZ9at+0QZGTI1/htoQ1Z84crFu3DidOnEDfvn2hUChw4MABAEBDQwMKCgrQ2tqKuLg4rFq1CqNHj/ZJkFzCYhimK5wxG7BkixrbuA3KRdPpEtaKFSvQ0tICu92OkydPiskDAIYPH47q6mo0NjZi165dPksev8ZVMmM6xm63o7q6mj25gR15htw8dbRQFXC2DcrLPmqDIjdHvkBWny65vg/NdIzJZEJ+fj57cgM78gw5eXK3UBXguzYocnLkK7gbL8MwssbThaoAwGC14NWqj7H+wHeYcuU1KBp7G3pG9vBL3HJD9gtKhfKloifY7XasX7+ePbmBHXmGnDx5ulAV0HEblMbW413ar5wc+QpZJRDXbfxMx5jNZhQVFbEnN7Ajz5CTp84sVOXi1iuvwVvTHkaPiEg89K838OHe7ehsMUZOjnwFl7AYhpE1XV2oCgAsdhtKd67Hh/XbcePQkfivG6cjPrpnN0UuL2RfwnI1BmM6xmazoby8nD25gR15hpw8dXWhKgDoERGJorG3Yenk3+O7Ez/i/o+Wo+bEjx7tV06OfIWsrkCOHTuGgQMH+jucgMVgMODmm2/G559/HtLrNLuDHXlGKHo6qT+DhV+Wo/bkERSOmYj70sa5bYMSao46ugKRVQLhEhbDML7E7nTg7T1f4u2aL3H1pcnIMMWi5LlX0Ni4H0rlCKhUC5Cbm+vvMP2C7EtYrj73TMdYrVasXLmSPbmBHXlGqHqKCAvHrPRJ+NutD6DxRAuWN+9EM66A2fycuM6I6/6SUHX0a2SVQEK51ugJXJOVhh15Rqh7GjPocpx88zPoD1kx4jElht41Agj/FIIwGYsXvwCAHQFcwmIYhumQmJhYmM2LcemkLAzNWw/j0QFoetMAaBfCZAq9BoqyL2G5lm1kOsZisaCkpIQ9uYEdeQZ7ApTKERCEDTixKQt1L85GeLQZqc+0IeX2s2sesSOZJZBQ7rvvCQ6HA9XV1ezJDezIM9hT+3VGDEc+QO3zG9C2px49stPw/JYK6M2mkHfEJSyGYZgLoFarsXjxC2ho2Ifhw0dCpVqA6KuS8eq2T9AvNg6LJ86Esm9o3FrAJawgx2KxYOHChezJDezIM9jTWXJzc1FTswsmkwE1Nbswffp0sQ1KVFg4HlCX4v3vtna6DUqwIKsE4nQ6/R1CQON0OtHS0sKe3MCOPIM9neVC64wM7d0Py3IK0OeEAX/7phJ//vyf0JiNfo62++ESFsMwTAe4emxlCwJyiLBeELCBCBUVFe1uJvz68D4s+UqN6IhILJxwF66+NNl/QfsQ2ZewQrnrpSdwd1Bp2JFnsCdgyaJFyBYEVBKhCEAlESYLAl5YvBjAfxxlDLgM7+Y+ioGKPnh03d/x1reb4QiRKzdZJRCGYZjuojPrjPSPjceyKQ+i4OrxeGvPF5j377fwk0HbrfH6Ay5hMQzDdEBnVjr8Nd8eO4SFX5bD5nDgv8fl4jdDRnRbzL5EdiWs0tJSpKSkICMjAwCviS6FyWTCrFmz2JMb2JFnsCdggUqFDUTIEQSU4Gzy2EiEBSoVgAs7GjPocryb+yiu6j8YT25Yjb9u/zesjuBctTCgE8jcuXNRX1+Pb775BgAQ5qa1MnPWT1JSEntyAzvyDPYkvc6IO0e9o2PxcvY9eDxzCirqd2DOx2+iWfNzd0/B53AJi2EYxofs//kont28Bm0mHf409g7ccuXV/g6pS8iuhHUuRmPofc+6MxiNRuTn57MnN7Ajz2BP0njqaERCIlZNewQ3DU3B4i0f4vktFXi/ohxpaemIiYlFWlq6eH+J3JBVAgkPD/d3CAFNeHg4srKy2JMb2JFnsCdpOuMoNqoHnh2fh2fGzcDGpu/w0r7NOHh6cIfrjMgJLmExDMN0I1ePuxE07lrEDIzD4Q9vwYnN10MQbkFqahtqanb5O7wLIvsSlsEQej34O4PBYEBOTg57cgM78gz2JE1XHTXs/Ba1Lybh5JbrcNnv1mH43H8ivGc2Ghr2+ShS3yGrBBIZGenvEAKayMhI5Ofnsyc3sCPPYE/SdNWRUjkCcGzAjx9Mwf7lv4di2GGkPnsSIyeM9VGkvoNLWAzDMN2Iq8eWIEwG0S3o0WcThs3qi3jlEBSOmYj7rx6P8AD8+jSXsIIcg8GArKws9uQGduQZ7Emarjpy3V+SmtqG6OhnMGLISSzKnIYHrpkguzYoEf4OoDNERUX5O4SAJioqCkVFRezJDezIM9iTNBfjKDc3t11HXxdjBl6GhV+W4z71clm0QeESFsMwTDejVquxZNEi7G9sxAilEgtUKjGhnDEbsGSLGtuaGzDzqrF4OCMbUeH+f68v+xKWXq/3dwgBjV6vx6hRo9iTG9iRZ7AnabrqyPUZSEJtLZ4zm5FQW9vuPhBXG5Q/Zk6FOsDboMjqCqS1tRWXXHKJv8MJWOx2OzZt2oRJkyYhIsL/71gCEXbkGexJmq466kyX34afj+HZzR+gNQDaoHR0BSKrBMIlLIZh5E5sTAyeM5tR9KuflQB4Jjoahg66HxusFhRXfYLKAzW49cqr8cTY29Ezske3xetC9iUsnU7n7xACGp1Oh6SkJPbkBnbkGexJmq46GqFUYr0gwPXOnQBUCgJGDh/e4fa/boPy5Q/1eHDt62j4+djFBe8lZJVAYmJi/B1CQBMTE4Py8nL25AZ25BnsSZquOpJaZ+RC3HrlNVg1/RH0iIjE7I9XoHxvNfxdQOISFsMwTDejVqvxwuLF2NfQgJHDh2OBSiWuMyKF1WFH6c71KN9bjRuGjMCCm3IRH93TxxEHwWcgzc3NSEpK8nc4AYtWq0VSUhJaWlo40V4AduQZ7Ekafzv6+vA+LPlKjeiISKjG5+OagZf5dH+y/wwkNjbW3yEENLGxsaiurmZPbmBHnsGepPG3oxuHjsS7uY9ikOISPPbvt/DWt5vxYUVFt64zIqsrEC5hMQzDtMfhdOLtmi/x1rebcabhMA78/TSspydCENaDaAMqKio6vOu9s8j+CkSrlUd/GH+h1WohCAJ7cgM78gz2JE2gOAoPC0PhmIkwVuxAdP+BSH1mLHqnTgFRJQRhMhYvfsFn+/ZJAmlra0N6ejp69erV7uePPfYYbrzxRrzwQtcmdO7rMe3p1asXmpub2ZMb2JFnsCdpAs3R/i+r8P3i/tAdGoyRj61G8sx/A+E5Pl1nxCcJRKFQYOPGjcjMzBR/tmvXLkRERODrr7/Gt99+i5MnT3b6dQVB8GaYQYcgCIiLi2NPbmBHnsGepAk0R0rlCDgMG9Gw/Pf44f+mYsC4nRj9lxaMuC7dZ/v0SQKJjIw8r+XIjh07MHHiRADAuHHjsHv37k6/Lt/U5B6dTof4+Hj25AZ25BnsSZpAc6RSLQDRBgjCLTixuRp1L32HsB5mxN07HpVNNdIv0M/dcsYAAAubSURBVAXEBDJv3jwkJydDEATUnNOPpampCWPHjoVSqURGRgb27t3b6R2dOXNG/OBFoVDgzJkznX4NhULR6eeEEgqFAhqNhj25gR15BnuSJtAcnbvOyLDeLfjzyEmYNCwVi7d8iOe2fAijzeLVfYoJJC8vD1u3bsXQoUPP22jOnDmYPXs2Ghsb8fTTT6OgoAAAUF9fj/Hjx7d7LF26tMMd9e7dW/ywSafToXfv3hcMymKxQKvVtnsAgNFoBACYzWaYzWYAgMlkgsViEf/dNTYYDLBareLYZrMBONtB0263i3G4xlqtFg6HQxw7nU4QEbRaLYgITqdTjMPhcIhju90uvgOx2+1iZ06bzSYuNGO1WsWxxWIR52GxWGD6pfeNN+ZERDh27Jj482CYk7ePExGhra1NnF8wzMkXx4mIcPLkSfHnwTAnbx8nh8MBjUYDjUYTMHPKycnBzp1VMJkM2LZtC3JvvxPPjs/Dk9dPxZc/7MWDa1/HniMHunyczoPOYejQobRnzx7x7ydPniSFQkE2m42IiJxOJw0YMICamprOfep5TJo0SRzv3LmT5s+fT0REeXl5dOLEiQs+T6VSEc62iGn3mDlzJhERzZ8/X3ytwsJCUqlU4usWFxcTEVF2djaVlZUREVFmZiatWbOGiIhSUlKosrKSiIgSExOpqqqKiIgUCgXV1dUREREAam5uJo1GQwBIo9FQc3MzuXTV1dWRQqEgIqKqqipKTEwkIqLKykpKSUkhIqI1a9ZQZmYmERGVlZVRdnY2EREVFxdTXl6eOM/CwkKvzckV78aNG4NmTt4+Tq5tR4wYETRz8sVxcu1/yZIlQTMnbx+n+vp68XdToMwpLS2NkpOSqGd0NMX17ElPPPGEOKd/fKKm+9XLKfP1P9NLn/yDnE5np47T9u3bxZ+7kEwgu3btIqVS2W6bjIwM2rRp07lPbcekSZPokksuoUmTJlFtbS0RET3yyCN0ww030HPPPef2uWazmTQajfhwTcKVdEwmE5lMJiIiMhqNZDabiYjIYDCIY71eTxaLRRxbrVYiItLpdGIy1Gq14lij0ZDdbhfHDoeDnE4naTQacjqd5HA4RHF2u10c22w20mq14lin0xERkdVqJb1eT0REFotFHJvNZjIYDOLYaDTynHhOPCee00XPqaKiggBQtiBQ8S9/AqCKigpxTha7jV76Uk1ZZQvoyfXvUfOpEx7Pqa2trfsSiDdxZcS2trZu26ccsdvtVFdXJ54QzPmwI89gT9IEmqMxqamULQjkBIgAcgI0WRAoPS3tvG2/+rGect59nu7850v07bFDHr3+r69MXEh+C2vw4ME4fvy4WDMjIhw5cgRDhgyReqrX6ezi9aGGwWBAVlYWe3IDO/IM9iRNoDna39iInF8WqQIAAcAtRNjX0HDetue2Qfn7t5vhcDo7vU/JBNK/f3+MGTMGq1evBgBUVFQgKSkJw4YN6/TOLhZuY+KeuLg4aLVa9uQGduQZ7EmaQHPU2XVG+sfGY9mUB/HANROwas8XmPfvt3DKoOnUPsUEMmfOHLGzZE5OTrsEsWLFCqxYsQJKpRJLly7FqlWrOj05b+C6CmI6xm63o7q6mj25gR15BnuSJtAcdWWdEVcblGVTHkSLtg33q0ux7ch+j/cpq2aKLS0tSExM9Hc4AYtOp8PIkSOxb9++gPlueqDBjjyDPUkTiI4uZp2RM2YDlmxRY1tzA+4alYVHrstBVPh/1nqX/Xog3I2XYRjGdxARyvduR+nOSlzWpz+emzgTg+MTAARBN95AuVQMVOx2O9avX8+e3MCOPIM9SROMjgRBwF1XZeHNO+bAZLPigbWvuW2DIqsE4roLk+kYs9mMoqIi9uQGduQZ7EmaYHY0PGEQ3pr2CMYlp4htUEw263nbcQmLYRiGuSCfNe3Bq9s+wSUxsfjwt3+SbwnL1auG6RibzYby8nL25AZ25BnsSZpQcXTrlddg1fRH0DOix3n/JqsE4mp8xnSM1WpFSUkJe3IDO/IM9iRNKDkaEp+AZZPvO+/nXMJiGIZhJJH9t7BCIdNfDFarFStXrmRPbmBHnsGepGFHMksgwV5rvFhCpSZ7MbAjz2BP0rAjLmExDMMwHiD7EpZr1S2mYywWC0pKStiTG9iRZ7AnadiRzBJIh0sqMiIOhwPV1dXsyQ3syDPYkzTsiEtYDMMwjAdwCSvIsVgsWLhwIXtyAzvyDPYkDTuSWQJxdmHFrFDC6XSipaWFPbmBHXkGe5KGHXEJi2EYhvEA2ZewgrHrpTcJ5u6g3oIdeQZ7koYdySyBMAzDMIEDl7AYhmEYSTr6PRwh8ZyAwJXjTp065edIAhuTyYQnn3wSr7zyCmJiYvwdTkDCjjyDPUkTao60Wi2A//w+BgL8CqS0tBSlpaWwWCw4dOiQv8NhGIYJeZqbm5GUlAQgwBOIizNnzqBPnz44cuQI4uPj/R1OwKLVajF48GA0Nzdzqe8CsCPPYE/ShJojIoJOp8OgQYMQFnb243NZlLBcwcbHx4fEgbpY4uLi2JME7Mgz2JM0oeTo3Dfw/C0shmEYpktwAmEYhmG6RPjChQsX+jsITwgPD8f48eP/v737CUllDcMA/kgZh0iIAiUzi8ygVX9MEMPSFNxHLlqFELUqaF3LaBdE1KpFi8SNtJGCwjb9M5LKiArJnRLlJoIgCtP3Lrp2z73n3LI55DfW+9vO5uFxhpf5xvkGpaVFseomDPf0Pu4oP9zT+757R0XxEJ0xxpj88BIWY4wxSXiAMMYYk4QHCGOMMUl4gDDGGJOEBwhjjDFJin6AjI6OwmazYXp6WnQUWbq9vYXJZEJFRYXoKLK2u7sLi8UCq9WKmZkZ0XFkKRKJoKurC1arFZOTk6LjyN7s7CxcLpfoGJ+qqAfI4eEhSktLsbOzg+PjY6RSKdGRZEelUiEUCsFisYiOImuNjY3Y3t5GOBzG6uoqHh4eREeSnfb2duzt7SEcDmN/f/91d1b2q3Q6jZOTE9ExPl1RD5CDgwP09vYCAHp6enB0dCQ4kfwolUpUVVWJjiF7Wq0WZWVlAF5eDsvtv8b+oVQqAQCZTAZarRbl5eWCE8nX8vIyBgYGRMf4dLK5SsbGxtDQ0ACFQvHL5I7H47BarWhubobZbMb5+TmAl116c5uYqVQq3N3dFTx3IUnp6Dv6k55CoRAMBgN+/PhRyMgFJ7Ujv9+PlpYWVFZWfou3r6X0lM1msbGxAbfbLSJyYZFMbG1tUTKZpPr6eopGo/865nA4aGlpiYiIAoEAdXZ2EhHR/Pw8BYNBIiKam5ujtbW1gmYuNCkd5TidzkLFFE5qT8lkkhwOB93f3xcyrhB/ci5lMhnq6+uj09PTQsUVRkpPgUCAfD4fEX396042AyTnvz9UKpUilUpF6XSaiIiy2SxpNBqKx+MUiURofHyciIj6+/vp5uZGSOZC+0hHOV/9RP6dj/T0+PhITqeTYrGYqLhCfLSjnMHBQbq8vCx4XlE+0tPU1BS5XC5yu91UXV1Ni4uLomJ/OtksYf2fZDKJmpqa19tlhUIBvV6PRCIBs9mMp6cn2Gw2tLa2QqPRCE4rxlsdAYDL5UI0GoXL5cLZ2ZnIqEK91ZPf78fFxQVGRkZgt9txdXUlOK0Yb3UUDAZht9vR3d0NnU4Ho9EoOK04b/U0MTGBUCiE9fV1tLW1YWhoSHDaz1P0i5gLCwuiI8je5uam6Aiy5/V64fV6RceQNY/HA4/HIzpGUfnq157s70Dq6upwfX2N5+dnAC+fVUwkEtDr9YKTyQd3lB/u6X3cUX64pxeyHyBqtRodHR3w+XwAgJWVFeh0OjQ1NQlOJh/cUX64p/dxR/nhnv4m9AnMT4aHh6m2tpZKSkpIrVaTwWB4PRaLxchisZDRaCSTyfQt/v3xO9xRfrin93FH+eGe3sYflGKMMSaJ7JewGGOMyRMPEMYYY5LwAGGMMSbJXzxA2GckEWHwAAAAAElFTkSuQmCC\" />"
      ]
     },
     "execution_count": 29,
     "metadata": {},
     "output_type": "execute_result"
    }
   ],
   "source": [
    "f(x) = exp(x)\n",
    "F(x) = exp(x)\n",
    "a, b = 0, 1\n",
    "cores = [:blue, :red, :magenta]\n",
    "p = scatter(leg=false, xaxis=:log, yaxis=:log)\n",
    "Ireal = F(b) - F(a)\n",
    "for (i,mtd) in enumerate([ponto_medio_composto, trapezio_composto])\n",
    "    for m = 2.^(2:15)b\n",
    "        Iapprox = mtd(f, a, b, m=m)\n",
    "        E = abs(Ireal - Iapprox) / Ireal\n",
    "        scatter!(p, [m], [E], c=cores[i])\n",
    "    end\n",
    "end\n",
    "n = [1; 2^16]\n",
    "plot!(n, (1 ./ n).^2 / 6)\n",
    "xlims!(1.0, 2^16)\n",
    "ylims!(1e-11, 1e-1)"
   ]
  },
  {
   "cell_type": "markdown",
   "metadata": {},
   "source": [
    "Com esse erro em mãos, podemos calcular limitantes para o erro cometido por uma aproximação sabendo a função.\n",
    "Por exemplo,\n",
    "na integração da função $f(x) = e^x$, com $m = 100$, de $0$ a $1$, os erros exatos serão\n",
    "$$ E_{PM} = \\frac{(b-a)^3}{6(m+1)^2}f''(\\mu) = \\frac{(1-0)^3}{6\\times101^2}e^{\\mu} = \\frac{e^{\\mu}}{61206},$$\n",
    "e\n",
    "$$ E_{TR} = -\\frac{(b-a)^3}{12(m-1)^2}f''(\\mu) = -\\frac{(1-0)^3}{12\\times99^2}e^{\\mu} = -\\frac{e^{\\mu}}{117612}. $$"
   ]
  },
  {
   "cell_type": "markdown",
   "metadata": {},
   "source": [
    "Esse valor depende de $\\mu \\in [0,1]$, e é desconhecido. Porém, podemos limitar esse erro, usando um limitante para $|f''(\\mu)|$. No caso desta função $f$, neste intervalo, temos $e^\\mu \\leq e^1 = e$. Daí,"
   ]
  },
  {
   "cell_type": "markdown",
   "metadata": {},
   "source": [
    "$$ |E_{PM}| \\leq \\frac{e}{61206} \\approx 4.44\\times10^{-5}, $$\n",
    "e\n",
    "$$ |E_{TR}| \\leq \\frac{e}{117612} \\approx 2.31\\times10^{-5}. $$"
   ]
  },
  {
   "cell_type": "markdown",
   "metadata": {},
   "source": [
    "De fato, aplicando o método temos"
   ]
  },
  {
   "cell_type": "code",
   "execution_count": 30,
   "metadata": {},
   "outputs": [
    {
     "name": "stdout",
     "output_type": "stream",
     "text": [
      "E_PM = 2.7525672183781325e-5\n",
      "E_TR = -1.4609724402259161e-5\n"
     ]
    }
   ],
   "source": [
    "f(x) = exp(x)\n",
    "F(x) = exp(x)\n",
    "a, b = 0, 1\n",
    "Ir = F(b) - F(a)\n",
    "println(\"E_PM = $(Ir - ponto_medio_composto(f, a, b, m=100))\")\n",
    "println(\"E_TR = $(Ir - trapezio_composto(f, a, b, m=100))\")"
   ]
  },
  {
   "cell_type": "markdown",
   "metadata": {},
   "source": [
    "Isso também nos permite buscar o $m$ ou $h$ que faça com que o erro seja menor que uma certa tolerância.\n",
    "Por exemplo, para o ponto médio, se quisermos que o erro seja menor que $\\varepsilon$, temos que fazer o seguinte."
   ]
  },
  {
   "cell_type": "markdown",
   "metadata": {},
   "source": [
    "Primeiro, veja que\n",
    "$$ |E_{PM}| \\leq \\frac{h^2(b-a)}{6}M_2, $$\n",
    "onde $M_2 = \\max_{x\\in[a,b]}|f''(x)|$.\n",
    "Daí, basta que o lado direito seja limitado por $\\varepsilon$, isto é, que\n",
    "$$ \\frac{h^2(b-a)}{6}M_2 \\leq \\varepsilon. $$"
   ]
  },
  {
   "cell_type": "markdown",
   "metadata": {},
   "source": [
    "O $h$ que satisfaz isso é tal que\n",
    "$$ h \\leq \\sqrt{  \\frac{6\\varepsilon}{M_2(b-a)} }. $$"
   ]
  },
  {
   "cell_type": "markdown",
   "metadata": {},
   "source": [
    "Se quisermos $m$, podemos refazer a conta usando a fórmula com $m$, ou tirar $m$ do resultado, usando $h = \\dfrac{b-a}{m+1}$:"
   ]
  },
  {
   "cell_type": "markdown",
   "metadata": {},
   "source": [
    "$$ m = \\frac{b-a}{h} - 1 \\geq (b-a)\\sqrt{ \\frac{M_2(b-a)}{6\\varepsilon} } - 1\n",
    "$$"
   ]
  },
  {
   "cell_type": "markdown",
   "metadata": {},
   "source": [
    "Por exemplo, se quisermos o erro menor que $\\varepsilon = 10^{-7}$, para a mesma função, no mesmo intervalo,\n",
    "devemos ter"
   ]
  },
  {
   "cell_type": "code",
   "execution_count": 31,
   "metadata": {},
   "outputs": [
    {
     "data": {
      "text/plain": [
       "0.0004698166288062454"
      ]
     },
     "execution_count": 31,
     "metadata": {},
     "output_type": "execute_result"
    }
   ],
   "source": [
    "a, b = 0, 1\n",
    "M2 = exp(b) # Pois exp(x) é crescente\n",
    "ε = 1e-7\n",
    "hmax = sqrt(6ε / M2 * (b - a))"
   ]
  },
  {
   "cell_type": "code",
   "execution_count": 32,
   "metadata": {},
   "outputs": [
    {
     "data": {
      "text/plain": [
       "2127.4900079865088"
      ]
     },
     "execution_count": 32,
     "metadata": {},
     "output_type": "execute_result"
    }
   ],
   "source": [
    "mmin = (b-a)/hmax - 1"
   ]
  },
  {
   "cell_type": "code",
   "execution_count": 33,
   "metadata": {},
   "outputs": [
    {
     "data": {
      "text/plain": [
       "2128"
      ]
     },
     "execution_count": 33,
     "metadata": {},
     "output_type": "execute_result"
    }
   ],
   "source": [
    "# De maneira mais precisa\n",
    "mmin = ceil(Int, (b-a)/hmax - 1)"
   ]
  },
  {
   "cell_type": "code",
   "execution_count": 34,
   "metadata": {},
   "outputs": [
    {
     "data": {
      "text/plain": [
       "-6.312245792727822e-8"
      ]
     },
     "execution_count": 34,
     "metadata": {},
     "output_type": "execute_result"
    }
   ],
   "source": [
    "ponto_medio_composto(f, 0, 1, m=mmin) - (F(b) - F(a))"
   ]
  },
  {
   "cell_type": "markdown",
   "metadata": {},
   "source": [
    "### Simpson composta"
   ]
  },
  {
   "cell_type": "markdown",
   "metadata": {},
   "source": [
    "De maneira similar, podemos fazer a regra de Simpson composta. Note que utilizamos um ponto a mais, de modo que aplicaremos a regra de dois em dois pontos. Note que $m$ deve ser ímpar."
   ]
  },
  {
   "cell_type": "markdown",
   "metadata": {},
   "source": [
    "$$ \\int_a^b f(x)\\mbox{d}x =\n",
    "\\frac{h}{3}[f(x_{1}) +\n",
    "2\\sum_{i = 1}^{(m-1)/2-1}f(x_{2i+1}) +\n",
    "4\\sum_{i = 1}^{(m-1)/2}f(x_{2i}) +\n",
    "f(x_m)] + E_{SP},\n",
    "$$\n",
    "com o erro $E_{SP}$ sendo\n",
    "$$ E_{SP} = -\\frac{(b-a)h^4}{180}f^{(4)}(\\mu)\n",
    "= -\\frac{(b-a)^5}{180(m-1)^4}f^{(4)}(\\mu). $$"
   ]
  },
  {
   "cell_type": "code",
   "execution_count": 35,
   "metadata": {},
   "outputs": [
    {
     "data": {
      "text/plain": [
       "simpson_composto (generic function with 1 method)"
      ]
     },
     "execution_count": 35,
     "metadata": {},
     "output_type": "execute_result"
    }
   ],
   "source": [
    "function simpson_composto(f, a, b; m = 101)\n",
    "    # Implemente\n",
    "end"
   ]
  },
  {
   "cell_type": "code",
   "execution_count": 36,
   "metadata": {},
   "outputs": [
    {
     "ename": "LoadError",
     "evalue": "\u001b[91mMethodError: no method matching -(::Float64, ::Void)\u001b[0m\nClosest candidates are:\n  -(::Float64, \u001b[91m::Float64\u001b[39m) at float.jl:377\n  -(::Float64) at float.jl:367\n  -(\u001b[91m::PyCall.PyObject\u001b[39m, ::Any) at /home/abel/.julia/v0.6/PyCall/src/pyoperators.jl:11\n  ...\u001b[39m",
     "output_type": "error",
     "traceback": [
      "\u001b[91mMethodError: no method matching -(::Float64, ::Void)\u001b[0m\nClosest candidates are:\n  -(::Float64, \u001b[91m::Float64\u001b[39m) at float.jl:377\n  -(::Float64) at float.jl:367\n  -(\u001b[91m::PyCall.PyObject\u001b[39m, ::Any) at /home/abel/.julia/v0.6/PyCall/src/pyoperators.jl:11\n  ...\u001b[39m",
      "",
      "Stacktrace:",
      " [1] \u001b[1mmacro expansion\u001b[22m\u001b[22m at \u001b[1m./In[36]:8\u001b[22m\u001b[22m [inlined]",
      " [2] \u001b[1manonymous\u001b[22m\u001b[22m at \u001b[1m./<missing>:?\u001b[22m\u001b[22m",
      " [3] \u001b[1minclude_string\u001b[22m\u001b[22m\u001b[1m(\u001b[22m\u001b[22m::String, ::String\u001b[1m)\u001b[22m\u001b[22m at \u001b[1m./loading.jl:515\u001b[22m\u001b[22m"
     ]
    }
   ],
   "source": [
    "f(x) = exp(x)\n",
    "F(x) = exp(x)\n",
    "a, b = 0, 1\n",
    "p = scatter(leg=false, xaxis=:log, yaxis=:log)\n",
    "Ireal = F(b) - F(a)\n",
    "for m = 2.^(2:15)\n",
    "    Iapprox = simpson_composto(f, a, b, m=m)\n",
    "    E = abs(Ireal - Iapprox) / Ireal\n",
    "    scatter!(p, [m], [E], c=:blue)\n",
    "end\n",
    "n = [1; 2^16]\n",
    "plot!(n, (1 ./ n).^2 / 6)\n",
    "xlims!(1.0, 2^16)\n",
    "ylims!(1e-16, 1e-1)"
   ]
  },
  {
   "cell_type": "markdown",
   "metadata": {},
   "source": [
    "## Exercícios\n",
    "\n",
    "Exercícios do capítulo 7 do livro Cálculo Numérico de Ruggiero e Lopes."
   ]
  },
  {
   "cell_type": "markdown",
   "metadata": {},
   "source": [
    "$\\newcommand{\\intdefx}[3]{\\int_{#1}^{#2}\\! {#3}\\mbox{d}x}$\n",
    "\n",
    "1. Calcule aproximações para as seguintes integrais, usando os métodos do ponto\n",
    "   médio, do trapézio e de Simpson repetidos. Faça com três números de\n",
    "   intervalos diferentes e compare os resultados.\n",
    "\n",
    "  - $\\displaystyle \\intdefx{0}{1}{eˣ}$\n",
    "  - $\\displaystyle \\intdefx{0}{1}{1}$\n",
    "  - $\\displaystyle \\intdefx{0}{1}{x}$\n",
    "  - $\\displaystyle \\intdefx{0}{1}{x^2}$\n",
    "  - $\\displaystyle \\intdefx{0}{1}{x^3}$\n",
    "  - $\\displaystyle \\intdefx{1}{e}{\\log x}$\n",
    "  - $\\displaystyle \\intdefx{-10}{10}{\\dfrac{1}{x^2+1}}$\n",
    "  - $\\displaystyle \\intdefx{-\\pi}{\\pi}{\\sin x}$\n",
    "\n",
    "2. Para cada integral acima, calcule quantos pontos são necessários para se obter um erro menor que $10^{-6}.\n",
    "\n",
    "3. Considere a função $f$ contínua no intervalo $[a,b]$,\n",
    "e a função $p$ dada por\n",
    "$$ p(x) = f(a) + \\alpha (x-a) + \\beta (x - a)(x - c), $$\n",
    "onde $c = \\dfrac{a+b}{2}$ é o ponto médio do intervalo $[a,b]$,\n",
    "$\\alpha = \\dfrac{f(c) - f(a)}{h}$, e\n",
    "$\\beta = \\dfrac{f(b) - 2f(c) + f(a)}{2h^2}$, com\n",
    "$h = c - a = b - c$.\n",
    "\n",
    "  - Mostre que $p$ interpola $f$ em 3 pontos: $a, b$ e $c$.\n",
    "  - Calcule a integral de $p$ de $[a,b]$ e interprete o resultado."
   ]
  }
 ],
 "metadata": {
  "kernelspec": {
   "display_name": "Julia 0.6.0",
   "language": "julia",
   "name": "julia-0.6"
  },
  "language_info": {
   "file_extension": ".jl",
   "mimetype": "application/julia",
   "name": "julia",
   "version": "0.6.0"
  }
 },
 "nbformat": 4,
 "nbformat_minor": 1
}
