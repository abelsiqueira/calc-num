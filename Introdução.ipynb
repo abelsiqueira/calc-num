{
 "cells": [
  {
   "cell_type": "markdown",
   "metadata": {},
   "source": [
    "# Cálculo Numérico (ou CM103 - Laboratório de Matemática Aplicada)"
   ]
  },
  {
   "cell_type": "markdown",
   "metadata": {},
   "source": [
    "A disciplina de **cálculo numérico** serve para conectar dois campos: a matemática e a computação.\n",
    "Essencialmente, a disciplina introduz ao aluno como resolver alguns problemas matemáticos de maneira numérica,\n",
    "isto é, sem buscar uma solução analítica, seja porque uma não existe, ou porque não é facilmente obtida.\n",
    "Também é importante notar que existe a teoria e prática de computação, assim como da matemática.\n",
    "Não basta apenas entender como resolver problemas com o computador, mas também quais são as limitações impostas pelo computador."
   ]
  },
  {
   "cell_type": "markdown",
   "metadata": {},
   "source": [
    "É necessário que o aluno compreenda bem os conceitos matemáticos envolvidos, assim como a programação utilizada. Para conseguir acompanhar a disciplina, o aluno deve ter conhecimentos de cálculo I, e um pouco de álgebra linear matricial. Conhecimentos de cálculo II e álgebra linear mais avançados ajudam, mas não são estritamente necessários."
   ]
  },
  {
   "cell_type": "markdown",
   "metadata": {},
   "source": [
    "## Referências\n",
    "\n",
    "Cálculo Numérico é uma disciplina razoavelmente antiga, e contém várias referências bibliográficas.\n",
    "O assunto pode aparecer com nomes diversos:\n",
    "\n",
    "- Introdução à Análise Numérica;\n",
    "- (Introdução à) Métodos Numéricos;\n",
    "- Métodos Computacionais (ou Numéricos) da Matemática (ou Engenharia).\n",
    "\n",
    "O assunto se difere de análise numérica pois não teremos tanta profundidade nas teorias matemáticas envolvidas.\n",
    "\n",
    "Algumas referências:\n",
    "\n",
    "- M. A. G. Ruggiero e V. L. da R. Lopes, Cálculo Numérico - Aspectos Teórios e Computacionais, 2a ed. Pearson, 1997.\n",
    "- R. L. Burden e J. D. Faires, Numerical Analysis, 9a ed. Cengage Learning, 2010.\n",
    "- P. J. S. Silva. Notas de Aula de Cálculo Numérico da UNICAMP. http://www.ime.unicamp.br/~pjssilva/blog/notas_ms211/\n",
    "\n",
    "E mais:\n",
    "\n",
    "- S. G. Johnson, Notas de aula de Introduction to Numerical Methods do MIT. http://math.mit.edu/~stevenj/18.335/\n",
    "- G. H. Golub e C. F. Van Loan, Matrix Computations, 3a ed. Baltimore, MD, USA: Johns Hopkins University Press, 1996.\n",
    "- L. N. Trefethen e D. Bau, III, Numerical Linear Algebra. Society for Industrial and Applied Mathematics, 1997.\n",
    "- W. H. Press et al., Numerical Recipes: The Art of Scientific Computing, 3a ed. Cambridge University Press, 2007."
   ]
  },
  {
   "cell_type": "markdown",
   "metadata": {},
   "source": [
    "## 2017 - Segundo Semestre\n",
    "\n",
    "Informações deste semestre [aqui](http://abelsiqueira.github.io/cm103-2017s2/)."
   ]
  },
  {
   "cell_type": "markdown",
   "metadata": {},
   "source": [
    "## Notas sobre Programação\n",
    "\n",
    "A programação para fins matemáticos é bastante antiga, e já acompanha as linguagens de programação mais antigas.\n",
    "Dentre elas, se destacam duas: Fortran e C. Muitas das coisas escritas hoje em vários campos avançados de matemática, física e engenharia utilizam essas ferramentas - por motivos que discutiremos em sala.\n",
    "Por outro lado, essas linguagens são razoavelmente mais complicadas de se utilizar, e hoje em dia temos várias linguagens de programação que são voltadas, ou facilitam, o desenvolvimento de softwares matemáticos.\n",
    "Uma característica importante destas linguagens é que elas são de *alto nível*, isto é, são mais fáceis de se utilizar e ler.\n",
    "\n",
    "São várias as linguagens de programação matemáticas, mas vamos focar em 3 aqui:\n",
    "\n",
    "- MatLab/Octave: O MatLab é de longe a mais popular. Foi criada há mais de 20 anos justamente com o objetivo acima de facilitar o desenvolvimento de softwares matemáticos. O MatLab não é apenas uma linguagem, mas um software completo com interface de desenvolvimento, gráficos, histórico, etc. O MatLab é um software proprietário, então como alternativa, existe o Octave, que é software livre, e entende a maior parte dos comandos que o MatLab usa (desta disciplina, todos). Atualmente, o Octave conta com interface similar à do MatLab, e se assemelha visualmente bastante ao primeiro;\n",
    "- Python + Numpy/Scipy: O Python é uma linguagem de alto nível multipropósito: isto é, não foi feita para matemática. Por isso, é possível encontrá-la em muitas áreas. Em particular, os pacotes Numpy e Scipy proporcionam as ferramentas necessárias para deixar o Python atraente para utilização na matemática. É uma forte alternativa ao MatLab, por ser software livre e contar com vários pacotes específicos. Em especial, tem sido bastante utilizado em Machine Learing e Data Science;\n",
    "- Julia: O Julia é uma linguagem nova, ainda sem versão 1.0, mas que veio com um propósito bastante específico: ser mais rápido que o MatLab, com melhor interação com Fortran e C, e similar na facilidade de uso. Apesar de ser nova, já cumpre bastante do pretendido.\n",
    "\n",
    "Algumas das coisas no uso do Julia me fizeram escolher esta linguagem no lugar das outras. Você pode aproveitar para conhecer outras linguagens, mas o Julia 0.6 será a linguagem utilizada neste semestre."
   ]
  },
  {
   "cell_type": "markdown",
   "metadata": {},
   "source": [
    "## Uma nota inicial: que ferramenta é esta?"
   ]
  },
  {
   "cell_type": "markdown",
   "metadata": {},
   "source": [
    "Nesta disciplina, utilizaremos esta ferramenta chamada \"Jupyter Notebook\", que é uma espécie de nota de aula interativa, onde pode-se escrever texto e código, e o código pode ser modificado e executado. Isso permite que o aluno teste na hora o código."
   ]
  },
  {
   "cell_type": "markdown",
   "metadata": {},
   "source": [
    "O Jupyter Notebook não é dependende de nenhuma linguagem em especial. Ele vem instalado para funcionar com o Python (porque foi feito em Python), mas funciona em dezenas de outras linguagens. Em particular, utilizaremos ele com o Julia, e para conseguir *rodar* o notebook das notas de aula, será necessário instalar o Jupyter Notebook e o pacote do Julia específico para que ele funcione."
   ]
  },
  {
   "cell_type": "markdown",
   "metadata": {},
   "source": [
    "## Perguntas e Respostas"
   ]
  },
  {
   "cell_type": "markdown",
   "metadata": {},
   "source": [
    "**P: Eu aprendi a programar em X e levou um semestre, como vou aprender tudo de novo agora?**\n",
    "\n",
    "R: Você aprendeu a lógica de programação, e ela é a mesma aqui. Se você sabe o que é um loop, um if, um while, uma atribuição, etc., você só precisa aprender a sintaxe - como escrever isso na linguagem de programação nova.\n",
    "**Teremos uma aula sobre a sintaxe nova.**"
   ]
  },
  {
   "cell_type": "markdown",
   "metadata": {},
   "source": [
    "**P: Eu não quero programar, consigo fazer a disciplina?**\n",
    "\n",
    "R: Não."
   ]
  },
  {
   "cell_type": "markdown",
   "metadata": {},
   "source": [
    "**P: Eu esqueci como programar, consigo fazer a disciplina?**\n",
    "\n",
    "R: Sim, mas você vai ter que correr para relembrar na primeira semana."
   ]
  }
 ],
 "metadata": {
  "kernelspec": {
   "display_name": "Julia 0.6.0",
   "language": "julia",
   "name": "julia-0.6"
  },
  "language_info": {
   "file_extension": ".jl",
   "mimetype": "application/julia",
   "name": "julia",
   "version": "0.6.0"
  }
 },
 "nbformat": 4,
 "nbformat_minor": 2
}
