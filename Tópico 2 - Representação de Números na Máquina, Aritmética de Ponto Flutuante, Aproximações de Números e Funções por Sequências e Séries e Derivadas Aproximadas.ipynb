{
 "cells": [
  {
   "cell_type": "markdown",
   "metadata": {},
   "source": [
    "# Aproximações de Números e Funções por Sequências e Séries"
   ]
  },
  {
   "cell_type": "markdown",
   "metadata": {},
   "source": [
    "Os objetivos desta lição são\n",
    "\n",
    "- Aprender sobre a representação números na máquina;\n",
    "- Aprender sobre Aritmética de Ponto Flutuante;\n",
    "- Identificar como lidar com sequências e séries em programação;\n",
    "- Entender que elementos anteriores da sequência são substituídos;\n",
    "- Tentar gastar o mínimo de elementos e variáveis (mantendo a clareza);\n",
    "- Tomar cuidado com overflow e underflow;\n",
    "- Relembrar/treinar a programação."
   ]
  },
  {
   "cell_type": "markdown",
   "metadata": {},
   "source": [
    "## Sequências\n",
    "\n",
    "Uma sequência em matemática é um conjunto de valores ordenados:\n",
    "$$ (a_1, a_2, a_3, \\dots, a_n, \\dots) $$"
   ]
  },
  {
   "cell_type": "markdown",
   "metadata": {},
   "source": [
    "O índice $1$ usado no primeiro elemento é arbitrário, e serve para normalizar essa ordem.\n",
    "Em alguns casos é mais interessante começar com o índice $0$."
   ]
  },
  {
   "cell_type": "markdown",
   "metadata": {},
   "source": [
    "Matematicamente, costumamos estar interessados na convergência dessa sequência. No entanto, podemos utilizar uma sequência por outros motivos. Computacionalmente, estamos interessados em **como obter os elementos de uma sequência, quando necessário.**"
   ]
  },
  {
   "cell_type": "markdown",
   "metadata": {},
   "source": [
    "É importante ressaltar aqui a importância da frase **quando necessário**, pois como veremos a seguir, não é do nosso interesse calcular todos esses valores ao mesmo tempo, e quase sempre também não seria possível."
   ]
  },
  {
   "cell_type": "markdown",
   "metadata": {},
   "source": [
    "### Exemplo 1\n",
    "\n",
    "Dado um objeto com aceleração constante de $10 m/s$ saindo do repouso, queremos calcular sua posição nos instantes\n",
    "$t = 0, 0.1, 0.2, 0.3, \\dots$.\n",
    "Note que temos uma sequência $t_n = (n-1)/10$, e queremos uma sequência $x_n$ das posições.\n",
    "\n",
    "Neste caso, porém, as leis de movimento nos dizem que\n",
    "$$ x(t) = x_0 + v_0 t + \\frac{1}{2}at^2, $$\n",
    "que em nosso caso se reduz a\n",
    "$$ x(t) = 5t^2. $$\n",
    "\n",
    "Em outras palavras, a sequência $x_n$ pode ser calculada diretamente dado $t_n$, e $t_n$ também tem uma fórmula geral dado $n$,\n",
    "$$ x_n = 5\\bigg(\\frac{n-1}{10}\\bigg)^2 = \\frac{(n-1)^2}{20}. $$\n",
    "Desse modo, não é necessário guardar nada em especial, pois $x_n$ pode ser calculado diretamente a partir de $n$."
   ]
  },
  {
   "cell_type": "markdown",
   "metadata": {},
   "source": [
    "### Exemplo 2\n",
    "\n",
    "Dado um número $x \\in \\mathbb{N}, x > 1$, queremos calcular a sequência de Collatz desse número.\n",
    "Em particular, queremos calcular qual o primeiro elemento que é $1$ (se houver).\n",
    "\n",
    "Aqui é importante ressaltar a conjectura de Collatz: Dado um número $a_1 \\in \\mathbb{N}$, e a fórmula recursiva\n",
    "$$ a_{n+1} = \\left\\{\\begin{array}{ll}\n",
    "    a_n/2, & \\mbox{se } a_n \\mbox{ é par}; \\\\\n",
    "    3a_n + 1, & \\mbox{se } a_n \\mbox{ é impar},\n",
    "\\end{array}\\right. $$\n",
    "sempre existe um elemento desta sequência tal que $a_n = 1$. A partir desse ponto a sequência perde a importância. Por exemplo, a sequência de Collatz de 3 é\n",
    "\n",
    "$$ 3 \\rightarrow 10 \\rightarrow 5 \\rightarrow 16 \\rightarrow 8 \\rightarrow 4 \\rightarrow 2 \\rightarrow 1 \\rightarrow 4 \\rightarrow 2 \\rightarrow 1 \\cdots $$"
   ]
  },
  {
   "cell_type": "markdown",
   "metadata": {},
   "source": [
    "Nessa sequência, é necessário saber quem é o ponto atual, e é impossível saber um elemento arbitrário da sequência em casos gerais. Dessa maneira é preciso calcular elemento a elemento."
   ]
  },
  {
   "cell_type": "markdown",
   "metadata": {},
   "source": [
    "Lembre-se que para verificar a paridade de um número, utilizamos `%`."
   ]
  },
  {
   "cell_type": "code",
   "execution_count": 1,
   "metadata": {},
   "outputs": [
    {
     "data": {
      "text/plain": [
       "1"
      ]
     },
     "execution_count": 1,
     "metadata": {},
     "output_type": "execute_result"
    }
   ],
   "source": [
    "15 % 2"
   ]
  },
  {
   "cell_type": "code",
   "execution_count": 2,
   "metadata": {},
   "outputs": [
    {
     "data": {
      "text/plain": [
       "0"
      ]
     },
     "execution_count": 2,
     "metadata": {},
     "output_type": "execute_result"
    }
   ],
   "source": [
    "14 % 2"
   ]
  },
  {
   "cell_type": "code",
   "execution_count": 3,
   "metadata": {},
   "outputs": [
    {
     "data": {
      "text/plain": [
       "false"
      ]
     },
     "execution_count": 3,
     "metadata": {},
     "output_type": "execute_result"
    }
   ],
   "source": [
    "15 % 2 == 0 # É par ?"
   ]
  },
  {
   "cell_type": "code",
   "execution_count": 4,
   "metadata": {},
   "outputs": [
    {
     "data": {
      "text/plain": [
       "true"
      ]
     },
     "execution_count": 4,
     "metadata": {},
     "output_type": "execute_result"
    }
   ],
   "source": [
    "14 % 2 == 0 # É par ?"
   ]
  },
  {
   "cell_type": "markdown",
   "metadata": {},
   "source": [
    "Lembre-se também que para dividir um número e mantê-lo inteiro, usamos `div`."
   ]
  },
  {
   "cell_type": "code",
   "execution_count": 5,
   "metadata": {},
   "outputs": [
    {
     "data": {
      "text/plain": [
       "7"
      ]
     },
     "execution_count": 5,
     "metadata": {},
     "output_type": "execute_result"
    }
   ],
   "source": [
    "div(15, 2)"
   ]
  },
  {
   "cell_type": "code",
   "execution_count": 6,
   "metadata": {},
   "outputs": [
    {
     "data": {
      "text/plain": [
       "7"
      ]
     },
     "execution_count": 6,
     "metadata": {},
     "output_type": "execute_result"
    }
   ],
   "source": [
    "div(14, 2)"
   ]
  },
  {
   "cell_type": "code",
   "execution_count": 7,
   "metadata": {},
   "outputs": [
    {
     "data": {
      "text/plain": [
       "7.0"
      ]
     },
     "execution_count": 7,
     "metadata": {},
     "output_type": "execute_result"
    }
   ],
   "source": [
    "14/2 # 7.0 e 7 são o mesmo valor, mas são diferentes em computação"
   ]
  },
  {
   "cell_type": "markdown",
   "metadata": {},
   "source": [
    "Um **erro** comum de alunos inexperientes nesse caso é **tentar numerar todos os elementos**."
   ]
  },
  {
   "cell_type": "code",
   "execution_count": 8,
   "metadata": {},
   "outputs": [
    {
     "data": {
      "text/plain": [
       "10"
      ]
     },
     "execution_count": 8,
     "metadata": {},
     "output_type": "execute_result"
    }
   ],
   "source": [
    "a1 = 3\n",
    "if a1 % 2 == 0\n",
    "    a2 = div(a1, 2)\n",
    "else\n",
    "    a2 = 3 * a1 + 1\n",
    "end"
   ]
  },
  {
   "cell_type": "code",
   "execution_count": 9,
   "metadata": {},
   "outputs": [
    {
     "data": {
      "text/plain": [
       "5"
      ]
     },
     "execution_count": 9,
     "metadata": {},
     "output_type": "execute_result"
    }
   ],
   "source": [
    "if a2 % 2 == 0\n",
    "    a3 = div(a2, 2)\n",
    "else\n",
    "    a3 = 3 * a2 + 1\n",
    "end"
   ]
  },
  {
   "cell_type": "markdown",
   "metadata": {},
   "source": [
    "Essa estratégia logo fica inviável. No entanto, note que precisamos apenas do valor atual da sequência, de maneira que podemos usar apenas uma mesma variável `a` que irá guardar sempre o valor mais atual."
   ]
  },
  {
   "cell_type": "code",
   "execution_count": 10,
   "metadata": {},
   "outputs": [
    {
     "data": {
      "text/plain": [
       "3"
      ]
     },
     "execution_count": 10,
     "metadata": {},
     "output_type": "execute_result"
    }
   ],
   "source": [
    "a = 3"
   ]
  },
  {
   "cell_type": "code",
   "execution_count": 11,
   "metadata": {},
   "outputs": [
    {
     "data": {
      "text/plain": [
       "10"
      ]
     },
     "execution_count": 11,
     "metadata": {},
     "output_type": "execute_result"
    }
   ],
   "source": [
    "# Bloco 1\n",
    "if a % 2 == 0\n",
    "    a = div(a, 2)\n",
    "else\n",
    "    a = 3 * a + 1\n",
    "end"
   ]
  },
  {
   "cell_type": "code",
   "execution_count": 12,
   "metadata": {},
   "outputs": [
    {
     "data": {
      "text/plain": [
       "10"
      ]
     },
     "execution_count": 12,
     "metadata": {},
     "output_type": "execute_result"
    }
   ],
   "source": [
    "a"
   ]
  },
  {
   "cell_type": "markdown",
   "metadata": {},
   "source": [
    "Rodando mais de uma vez o Bloco 1, fazemos uma nova iteração da sequência.\n",
    "Para deixar mais claro, vamos guardar também uma variável `n` que diz qual o índice da sequência."
   ]
  },
  {
   "cell_type": "code",
   "execution_count": 13,
   "metadata": {},
   "outputs": [
    {
     "data": {
      "text/plain": [
       "1"
      ]
     },
     "execution_count": 13,
     "metadata": {},
     "output_type": "execute_result"
    }
   ],
   "source": [
    "a = 3\n",
    "n = 1"
   ]
  },
  {
   "cell_type": "code",
   "execution_count": 14,
   "metadata": {},
   "outputs": [
    {
     "name": "stdout",
     "output_type": "stream",
     "text": [
      "a = 10, n = 2\n"
     ]
    }
   ],
   "source": [
    "# Bloco 2\n",
    "if a % 2 == 0\n",
    "    a = div(a, 2)\n",
    "else\n",
    "    a = 3 * a + 1\n",
    "end\n",
    "n = n + 1\n",
    "println(\"a = $a, n = $n\")"
   ]
  },
  {
   "cell_type": "markdown",
   "metadata": {},
   "source": [
    "Note que `n` também pode ser usado para responder a pergunta original: quando `a` for 1, teremos o `n` marcando o índice correspondente."
   ]
  },
  {
   "cell_type": "markdown",
   "metadata": {},
   "source": [
    "Isso nos leva a um conceito importante. Note que sequências contém infinitos elementos. No entanto, computacionalmente, não podemos fazer contas infinitas. Isso constitui um **loop infinito**. Códigos com loops infinitos são considerados **\"errados\"** (no sentido de não fazerem o que se espera), então devemos evitá-los.\n",
    "Portanto, o fato de percebermos que para resolver o problema, devemos fazer a conta do Bloco 2 até que `n` seja 1 é de extrema importância, pois isso evitará um loop infinito (dado que a conjectura de Collatz esteja correta)."
   ]
  },
  {
   "cell_type": "markdown",
   "metadata": {},
   "source": [
    "Com isso, podemos definir um termo formal para este conjunto de código com um objetivo específico:\n",
    "\n",
    "**Def. (Algoritmo):** Um algoritmo é uma coleção de instruções para realizar alguma tarefa específica. Segundo Knuth (The Art of Computer Programming, v.1), ele deve satisfazer as seguintes condições, parafraseadas aqui:\n",
    "- **Finitude:** O algoritmo deve acabar em tempo finito;\n",
    "- **Bem definido:** As intruções devem ser claras e sem ambiguidade;\n",
    "- **Entrada:** O algoritmo tem zero ou mais entradas, que são valores determinados antes do algoritmo começar. Essas entradas são especificados a partir de conjuntos de objetos;\n",
    "- **Saída:** O algoritmo tem uma ou mais saídas, que são quantidades relacionadas com as entradas;\n",
    "- **Eficácia/Computabilidade:** As operações feitas no algoritmo devem ser suficientemente básicas para que a princípio possam ser executadas por uma pessoa num espaço finito e tempo finito com papel e caneta."
   ]
  },
  {
   "cell_type": "markdown",
   "metadata": {},
   "source": [
    "Podemos fazer uma prévia do nosso algoritmo:"
   ]
  },
  {
   "cell_type": "code",
   "execution_count": 15,
   "metadata": {
    "collapsed": true
   },
   "outputs": [],
   "source": [
    "#=\n",
    "1. Entrada: x\n",
    "2. Inicialização: a ← x, n ← 1.\n",
    "3. Enquanto a > 1\n",
    "    1. Se a é par,\n",
    "        faça a ← a/2\n",
    "    2. Caso contrário,\n",
    "        faça a ← 3a + 1.\n",
    "    3. Incremente n.\n",
    "4. Saída: n.\n",
    "=#"
   ]
  },
  {
   "cell_type": "markdown",
   "metadata": {},
   "source": [
    "Nosso algoritmo para encontrar o primeiro elemento está quase feito. A entrada, saída, e todos os passos estão claros. Todos os passos são triviamente feitos com papel e caneta.\n",
    "No entanto, temos alguns pequenos problemas:\n",
    "\n",
    "- **E se a conjectura for falsa?**\n",
    "Se a conjectura é verdadeira, o algoritmo para quando encontra `1`, que pela conjectura, existe. Mas se não existe, pode ser que tenhamos um loop infinito. Dessa maneira, iremos colocar uma **condição de parada** para a falha do algoritmo. Não existe uma regra para a condição de parada. Deve-se tomar cuidado, no entanto, para não excluir a possibilidade do algoritmo funcionar em muitos casos. Uma condição de parada possível neste caso é que `n` seja muito grande. Se, por exemplo, fizermos 1 milhão de iterações e não encontrarmos `a_n = 1`, então talvez ele não exista. Note que essa condição exclui algumas soluções de aparecerem, por exemplo\n",
    "$$ a_1 = 2^{1.000.000}. $$\n",
    "É fácil ver que $a_n = 2^{1.000.001 - n}$, de modo que para `n = 1.000.001` teremos $a_n = 1$.\n",
    "\n",
    "Muitas vezes a condições de parada de falha é um limitante físico para deixar o algoritmo tratável. É muito fácil escolher um número `x` tal que nosso algoritmo leve horas para convergir. Não é do nosso interesse esperar tanto para um algoritmo recreativo. Poderíamos colocar uma condição de tempo então. Qual condição escolher é um assunto complicado, que depende de muitos outros fatores além da disciplina.\n",
    "Em especial, a teoria matemática arredor do problema deve ser considerada. Imagine que a conjectura de Collatz é falsa, e que `x` é um valor finito tal que a sequência gerada com `a_1 = x` nunca decresça à `1`. *Como é possível verificar que `x` é um contra-exemplo para a conjectura?*"
   ]
  },
  {
   "cell_type": "markdown",
   "metadata": {},
   "source": [
    "- **O maior inteiro.**\n",
    "O computador é uma máquina física, com limitações impostas para que seja possível fazer contas determinísticas.\n",
    "Dessa maneira, ele segue regras para definir números inteiros e \"reais\" (as aspas serão explicadas depois), e essas regras limitam o maior inteiro que pode ser representado por um tipo específico de dado.\n",
    "Mais importante, esse valor é independente da linguagem. A saber, o tipo de inteiro básico do Julia é o `Int64`, de 64 bits, e cujo maior valor é $2^{63}-1 \\approx 10^{18}$. Coisas estranhas acontecem se fizermos qualquer conta com esse valor, de modo que é imperativo não ultrapassá-lo. Veremos mais detalhes em breve, mais por enquanto, vamos colocar uma nova condição de parada no nosso código: se $a > 10^{17}$, também paramos."
   ]
  },
  {
   "cell_type": "code",
   "execution_count": 16,
   "metadata": {
    "collapsed": true
   },
   "outputs": [],
   "source": [
    "#=\n",
    "1. Entrada: x ∈ N\n",
    "2. Inicialização: a ← x, n ← 1, a_bound = 10^17, n_bound = 1_000_000\n",
    "3. Se a ≦ 0\n",
    "    faça n ← 0\n",
    "    termine o algoritmo\n",
    "4. Enquanto a > 1\n",
    "    1. Se a é par,\n",
    "        faça a ← a/2\n",
    "    2. Caso contrário,\n",
    "        faça a ← 3a + 1.\n",
    "    3. Incremente n.\n",
    "    4. Se a > a_bound\n",
    "        faça n ← -1 e termine o algoritmo\n",
    "    5. Se n > n_bound\n",
    "        faça n ← -2 e termine o algoritmo\n",
    "5. Saída: n\n",
    "    Se n > 0, então a_n = 1: Saída bem sucedida,\n",
    "    Se n = 0, então x ≦ 0: Saída de erro na entrada,\n",
    "    Se n = -1, então a ficou muito grande: Saída de valor muito grande,\n",
    "    Se n = -2, então n ficou muito grande: Saída de muitas iterações.\n",
    "=#"
   ]
  },
  {
   "cell_type": "code",
   "execution_count": 17,
   "metadata": {},
   "outputs": [
    {
     "data": {
      "text/plain": [
       "collatz (generic function with 1 method)"
      ]
     },
     "execution_count": 17,
     "metadata": {},
     "output_type": "execute_result"
    }
   ],
   "source": [
    "function collatz(a::Int; a_bound = 10^17, n_bound = 1_000_000) # O mesmo que começar com x e atribuir x à a.\n",
    "    n = 1\n",
    "    if a <= 0\n",
    "        return 0\n",
    "    end\n",
    "    while a > 1\n",
    "        if a % 2 == 0\n",
    "            a = div(a, 2)\n",
    "        else\n",
    "            a = 3a + 1\n",
    "        end\n",
    "        n += 1\n",
    "        if a > a_bound\n",
    "            return -1\n",
    "        elseif n > n_bound\n",
    "            return -2\n",
    "        end\n",
    "    end\n",
    "    return n\n",
    "end"
   ]
  },
  {
   "cell_type": "code",
   "execution_count": 18,
   "metadata": {},
   "outputs": [
    {
     "data": {
      "text/plain": [
       "6"
      ]
     },
     "execution_count": 18,
     "metadata": {},
     "output_type": "execute_result"
    }
   ],
   "source": [
    "collatz(5)"
   ]
  },
  {
   "cell_type": "code",
   "execution_count": 19,
   "metadata": {},
   "outputs": [
    {
     "data": {
      "text/plain": [
       "-2"
      ]
     },
     "execution_count": 19,
     "metadata": {},
     "output_type": "execute_result"
    }
   ],
   "source": [
    "collatz(2^30, n_bound=10)"
   ]
  },
  {
   "cell_type": "code",
   "execution_count": 20,
   "metadata": {},
   "outputs": [
    {
     "data": {
      "text/plain": [
       "1"
      ]
     },
     "execution_count": 20,
     "metadata": {},
     "output_type": "execute_result"
    }
   ],
   "source": [
    "collatz(1)"
   ]
  },
  {
   "cell_type": "code",
   "execution_count": 21,
   "metadata": {},
   "outputs": [
    {
     "data": {
      "text/plain": [
       "-1"
      ]
     },
     "execution_count": 21,
     "metadata": {},
     "output_type": "execute_result"
    }
   ],
   "source": [
    "collatz(10^17+2)"
   ]
  },
  {
   "cell_type": "markdown",
   "metadata": {},
   "source": [
    "## Representação de Inteiros na máquina"
   ]
  },
  {
   "cell_type": "markdown",
   "metadata": {},
   "source": [
    "Como dito anteriormente, os computadores atuais guardam inteiros de maneiras bastante específicas.\n",
    "Essas maneiras envolvem os bits de um computador, que matematicamente equivalem a números binários.\n",
    "Um bit pode estar ligado ou desligado, ou seja, 1 ou 0. Um inteiro de $n$ bits terá $n$ posições ordenadas que podem estar ligadas ou desligadas. Dessa maneira, é possível representar até $2^n$ inteiros com $n$ bits.\n",
    "A pergunta é quais $2^n$ inteiros?\n",
    "\n",
    "Muitas vezes nos preocupamos apenas com os inteiros positivos, então uma escolha bastante simples seria os inteiros de $0$ à $2^n-1$. Esse tipo é dito \"sem sinal\" ou \"Unsigned\" em inglês. Em Julia, são os tipos `UIntN`, onde `N` é o número de bits (8, 16, 32, 64, 128).\n",
    "\n",
    "Para inteiros positivos e negativos, uma maneira é guardar os númeos de $-2^{n-1}$ à $2^{n-1}-1$. Em binário, podemos escolher os $n-1$ bits da direita para fazer uma contagem de $0$ à $2^{n-1}-1$, e o bit mais à esquerda para indicar de começamos a contar de $-2^{n-1}$ ou de $0$."
   ]
  },
  {
   "cell_type": "markdown",
   "metadata": {},
   "source": [
    "### Exemplo com n = 3\n",
    "\n",
    "| Bin | Dec |\n",
    "|-----|-----|\n",
    "| 000 |   0 |\n",
    "| 001 |   1 |\n",
    "| 010 |   2 |\n",
    "| 011 |   3 |\n",
    "| 100 |  -4 |\n",
    "| 101 |  -3 |\n",
    "| 110 |  -2 |\n",
    "| 111 |  -1 |"
   ]
  },
  {
   "cell_type": "markdown",
   "metadata": {},
   "source": [
    "Note que o problema de trabalhar com inteiros que caiam fora deste intervalo está nas operações básicas mesmo:\n",
    "\n",
    "    3 + 1  (em decimal)\n",
    "    \n",
    "             1     1\n",
    "     011    011    011    011\n",
    "     001    001    001    001\n",
    "    ----   ----   ----   ----\n",
    "       ?      0     00    100\n",
    "\n",
    "Mas `100` nessa representação significa `-4`, ou seja, a soma \"dá a volta\"."
   ]
  },
  {
   "cell_type": "markdown",
   "metadata": {},
   "source": [
    "### Exemplo com n = 64 (o padrão)\n",
    "\n",
    "O inteiro `Int64` vai de $-2^{63}$ à $2^{63}-1$."
   ]
  },
  {
   "cell_type": "code",
   "execution_count": 22,
   "metadata": {},
   "outputs": [
    {
     "data": {
      "text/plain": [
       "9223372036854775807"
      ]
     },
     "execution_count": 22,
     "metadata": {},
     "output_type": "execute_result"
    }
   ],
   "source": [
    "x = 2^63-1"
   ]
  },
  {
   "cell_type": "code",
   "execution_count": 23,
   "metadata": {},
   "outputs": [
    {
     "data": {
      "text/plain": [
       "-9223372036854775808"
      ]
     },
     "execution_count": 23,
     "metadata": {},
     "output_type": "execute_result"
    }
   ],
   "source": [
    "x + 1"
   ]
  },
  {
   "cell_type": "code",
   "execution_count": 24,
   "metadata": {},
   "outputs": [
    {
     "data": {
      "text/plain": [
       "-9223372036854775807"
      ]
     },
     "execution_count": 24,
     "metadata": {},
     "output_type": "execute_result"
    }
   ],
   "source": [
    "-x"
   ]
  },
  {
   "cell_type": "code",
   "execution_count": 25,
   "metadata": {},
   "outputs": [
    {
     "data": {
      "text/plain": [
       "9223372036854775807"
      ]
     },
     "execution_count": 25,
     "metadata": {},
     "output_type": "execute_result"
    }
   ],
   "source": [
    "-x - 2"
   ]
  },
  {
   "cell_type": "code",
   "execution_count": 26,
   "metadata": {},
   "outputs": [
    {
     "data": {
      "text/plain": [
       "-9223372036854775808"
      ]
     },
     "execution_count": 26,
     "metadata": {},
     "output_type": "execute_result"
    }
   ],
   "source": [
    "-(x+1) # = x + 1??"
   ]
  },
  {
   "cell_type": "code",
   "execution_count": 27,
   "metadata": {},
   "outputs": [
    {
     "data": {
      "text/plain": [
       "1"
      ]
     },
     "execution_count": 27,
     "metadata": {},
     "output_type": "execute_result"
    }
   ],
   "source": [
    "x * x"
   ]
  },
  {
   "cell_type": "code",
   "execution_count": 28,
   "metadata": {},
   "outputs": [
    {
     "data": {
      "text/plain": [
       "4611686018427387904"
      ]
     },
     "execution_count": 28,
     "metadata": {},
     "output_type": "execute_result"
    }
   ],
   "source": [
    "y = 2^62"
   ]
  },
  {
   "cell_type": "code",
   "execution_count": 29,
   "metadata": {},
   "outputs": [
    {
     "data": {
      "text/plain": [
       "0"
      ]
     },
     "execution_count": 29,
     "metadata": {},
     "output_type": "execute_result"
    }
   ],
   "source": [
    "y * y"
   ]
  },
  {
   "cell_type": "code",
   "execution_count": 30,
   "metadata": {},
   "outputs": [
    {
     "data": {
      "text/plain": [
       "-4611686018427387904"
      ]
     },
     "execution_count": 30,
     "metadata": {},
     "output_type": "execute_result"
    }
   ],
   "source": [
    "x * y"
   ]
  },
  {
   "cell_type": "markdown",
   "metadata": {},
   "source": [
    "Embora os valores máximos dos inteiros de 64 bits pareçam bastante grandes, eles podem ser alcançados com relativa facilidade."
   ]
  },
  {
   "cell_type": "code",
   "execution_count": 31,
   "metadata": {},
   "outputs": [
    {
     "data": {
      "text/plain": [
       "-4249290049419214848"
      ]
     },
     "execution_count": 31,
     "metadata": {},
     "output_type": "execute_result"
    }
   ],
   "source": [
    "factorial(20) * 21"
   ]
  },
  {
   "cell_type": "markdown",
   "metadata": {},
   "source": [
    "### BigInt"
   ]
  },
  {
   "cell_type": "markdown",
   "metadata": {},
   "source": [
    "Apesar do limite dos inteiros, muitas vezes queremos utilizar valores inteiros absurdamente grandes. Para isso existem **implementações** de números inteiros grandes - BigInts, para encurtar - que permitem, a priori, qualquer número inteiro. É importante notar a diferença entre um BigInt e um inteiro nativo. O BigInt **sempre** vem de uma implementação, enquanto que o inteiro nativo \"existe\" no processador. Todas as contas com BigInt serão mais lentas que em inteiros nativos, então não podemos simplesmente usar BigInt para tudo."
   ]
  },
  {
   "cell_type": "code",
   "execution_count": 32,
   "metadata": {},
   "outputs": [
    {
     "data": {
      "text/plain": [
       "61.794705707972525"
      ]
     },
     "execution_count": 32,
     "metadata": {},
     "output_type": "execute_result"
    }
   ],
   "source": [
    "log2(4 * 10^(18))"
   ]
  },
  {
   "cell_type": "code",
   "execution_count": 33,
   "metadata": {},
   "outputs": [
    {
     "data": {
      "text/plain": [
       "2037035976334486086268445688409378161051468393665936250636140449354381299763336706183397376"
      ]
     },
     "execution_count": 33,
     "metadata": {},
     "output_type": "execute_result"
    }
   ],
   "source": [
    "big\"2\"^300"
   ]
  },
  {
   "cell_type": "code",
   "execution_count": 34,
   "metadata": {
    "scrolled": true
   },
   "outputs": [
    {
     "data": {
      "text/plain": [
       "265252859812191058636308480000000"
      ]
     },
     "execution_count": 34,
     "metadata": {},
     "output_type": "execute_result"
    }
   ],
   "source": [
    "factorial(big\"30\")"
   ]
  },
  {
   "cell_type": "markdown",
   "metadata": {},
   "source": [
    "## Fibonacci\n",
    "\n",
    "Vamos continuar nosso exemplo com mais uma sequência interessante, a de Fibonacci:\n",
    "\n",
    "$$ F_1 = F_2 = 1 \\qquad F_{n+1} = F_n + F_{n-1}. $$"
   ]
  },
  {
   "cell_type": "markdown",
   "metadata": {},
   "source": [
    "A sequência de Fibonacci envolve dois termos, e cresce infinitamente. Existem vários motivos para se trabalhar com a série de Fibonacci, mas vamos utilizá-la recreativamente.\n",
    "Vamos criar um simples algoritmo para calcular o n-ésimo termo da série de Fibonacci. Assuma, por enquanto, que todos os termos serão bem representados por inteiros de 64 bits."
   ]
  },
  {
   "cell_type": "code",
   "execution_count": 35,
   "metadata": {
    "collapsed": true
   },
   "outputs": [],
   "source": [
    "#=\n",
    "   Entrada: n inteiro\n",
    "1. Se n ≦ 0\n",
    "    retorne 0\n",
    "2. Se n = 1 ou n = 2\n",
    "    retorne 1\n",
    "3. Inicialização: F1 ← 1, F2 ← 1, k ← 2\n",
    "4. Enquanto k < n\n",
    "    1. Fnovo ← F1 + F2  # Isso calcula o valor novo\n",
    "    2. F1 ← F2 # O valor F2 passa a ser o mais antigo dos dois\n",
    "    3. F2 ← Fnovo # O valor Fnovo passa a ser o anterior\n",
    "    4. Incremente k\n",
    "5. Retorne F2.\n",
    "    Saída: 0 se a entrada estava incorreta,\n",
    "           F_n caso contrário.\n",
    "=#"
   ]
  },
  {
   "cell_type": "code",
   "execution_count": 36,
   "metadata": {},
   "outputs": [
    {
     "data": {
      "text/plain": [
       "fibon (generic function with 1 method)"
      ]
     },
     "execution_count": 36,
     "metadata": {},
     "output_type": "execute_result"
    }
   ],
   "source": [
    "function fibon(n)\n",
    "    # Exercício: Implemente este código\n",
    "end"
   ]
  },
  {
   "cell_type": "code",
   "execution_count": 37,
   "metadata": {},
   "outputs": [
    {
     "name": "stdout",
     "output_type": "stream",
     "text": [
      "F_1 = nothing\n",
      "F_2 = nothing\n",
      "F_3 = nothing\n",
      "F_4 = nothing\n",
      "F_5 = nothing\n",
      "F_6 = nothing\n",
      "F_7 = nothing\n",
      "F_8 = nothing\n",
      "F_9 = nothing\n",
      "F_10 = nothing\n",
      "F_11 = nothing\n",
      "F_12 = nothing\n",
      "F_13 = nothing\n",
      "F_14 = nothing\n",
      "F_15 = nothing\n",
      "F_16 = nothing\n",
      "F_17 = nothing\n",
      "F_18 = nothing\n",
      "F_19 = nothing\n",
      "F_20 = nothing\n"
     ]
    }
   ],
   "source": [
    "for n = 1:20\n",
    "    println(\"F_$n = $(fibon(n))\")\n",
    "end"
   ]
  },
  {
   "cell_type": "markdown",
   "metadata": {},
   "source": [
    "É bastante simple calcular um elemento da sequência de Fibonacci, e é interessante que podemos explorar outra maneira de fazer isso."
   ]
  },
  {
   "cell_type": "markdown",
   "metadata": {},
   "source": [
    "### Recursão"
   ]
  },
  {
   "cell_type": "code",
   "execution_count": 38,
   "metadata": {},
   "outputs": [
    {
     "data": {
      "text/plain": [
       "fat_por_recursao (generic function with 1 method)"
      ]
     },
     "execution_count": 38,
     "metadata": {},
     "output_type": "execute_result"
    }
   ],
   "source": [
    "function fat_por_recursao(n::Int)\n",
    "    if n < 0\n",
    "        error(\"BLAH\")\n",
    "    end\n",
    "    if n == 0\n",
    "        return 1\n",
    "    end\n",
    "    return n * fat_por_recursao(n - 1)\n",
    "end"
   ]
  },
  {
   "cell_type": "code",
   "execution_count": 39,
   "metadata": {},
   "outputs": [
    {
     "data": {
      "text/plain": [
       "-4249290049419214848"
      ]
     },
     "execution_count": 39,
     "metadata": {},
     "output_type": "execute_result"
    }
   ],
   "source": [
    "fat_por_recursao(21)"
   ]
  },
  {
   "cell_type": "code",
   "execution_count": 40,
   "metadata": {},
   "outputs": [
    {
     "data": {
      "text/plain": [
       "\"oops\""
      ]
     },
     "execution_count": 40,
     "metadata": {},
     "output_type": "execute_result"
    }
   ],
   "source": [
    "# operador ternário\n",
    "# PROP ? Resultado se SIM : Resultado se NAO\n",
    "5 > 30 ? \"ok\" : \"oops\""
   ]
  },
  {
   "cell_type": "code",
   "execution_count": 41,
   "metadata": {},
   "outputs": [
    {
     "data": {
      "text/plain": [
       "fat_uma_linha (generic function with 1 method)"
      ]
     },
     "execution_count": 41,
     "metadata": {},
     "output_type": "execute_result"
    }
   ],
   "source": [
    "fat_uma_linha(n::Int) = n == 0 ? 1 : n * fat_uma_linha(n - 1)"
   ]
  },
  {
   "cell_type": "code",
   "execution_count": 42,
   "metadata": {},
   "outputs": [
    {
     "data": {
      "text/plain": [
       "120"
      ]
     },
     "execution_count": 42,
     "metadata": {},
     "output_type": "execute_result"
    }
   ],
   "source": [
    "fat_uma_linha(5)"
   ]
  },
  {
   "cell_type": "markdown",
   "metadata": {},
   "source": [
    "Recursão é uma das partes mais importantes no desenvolvimento de códigos. Muitas estratégias computacionais e matemáticas envolvem o chamado \"dividir e conquistar\" ou \"reduzir para um caso conhecido\". Em particular, demonstrações por indução finita fazem uma coisa parecida, onde você supõe saber resolver para um caso e consegue resolver um caso de nível superior reduzindo-o ao caso conhecido."
   ]
  },
  {
   "cell_type": "markdown",
   "metadata": {},
   "source": [
    "Computacionalmente, podemos pensar em recursão como a divisão de um problema em outros, cada um destes menor que o primeiro. Para cada problema menor, repetimos o processo. Como não podemos ter um loop infinito, é necessário terminar essa redução de alguma maneira. Essa maneira envolve, simplesmente, saber resolver alguns casos de problema menor (que garantam a convergência)."
   ]
  },
  {
   "cell_type": "markdown",
   "metadata": {},
   "source": [
    "No caso de Fibonacci, o cálculo do n-ésimo termo é feito calculando os termos n-1 e n-2.\n",
    "Os casos n-1 e n-2 são, de fato, menores. Além disso, repetindo este processo chegaremos a dois casos: n = 1 ou n = 2. Desse modo, temos\n",
    "\n",
    "- casos pequenos que conseguimos resolver trivialmente;\n",
    "- uma maneira de reduzir um problema em outros menores;\n",
    "- garantia matemática que essa redução leva aos problemas menores que sabemos resolver.\n",
    "\n",
    "Abaixo temos um pseudo-código."
   ]
  },
  {
   "cell_type": "code",
   "execution_count": 43,
   "metadata": {
    "collapsed": true
   },
   "outputs": [],
   "source": [
    "#=\n",
    "Rotina FIBO(n)\n",
    "Entrada: n\n",
    "1. Se n = 1 ou n = 2\n",
    "    retorne 1\n",
    "2. Senão,\n",
    "    retorna FIBO(n-1) + FIBO(n-2)\n",
    "=#"
   ]
  },
  {
   "cell_type": "code",
   "execution_count": 44,
   "metadata": {},
   "outputs": [
    {
     "data": {
      "text/plain": [
       "FIBO (generic function with 1 method)"
      ]
     },
     "execution_count": 44,
     "metadata": {},
     "output_type": "execute_result"
    }
   ],
   "source": [
    "function FIBO(n)\n",
    "    if n <= 2\n",
    "        return min(1, max(n, 0)) # Pequeno truque\n",
    "    else\n",
    "        return FIBO(n-1) + FIBO(n-2)\n",
    "    end\n",
    "end"
   ]
  },
  {
   "cell_type": "code",
   "execution_count": 45,
   "metadata": {},
   "outputs": [
    {
     "data": {
      "text/plain": [
       "55"
      ]
     },
     "execution_count": 45,
     "metadata": {},
     "output_type": "execute_result"
    }
   ],
   "source": [
    "FIBO(10)"
   ]
  },
  {
   "cell_type": "code",
   "execution_count": 46,
   "metadata": {},
   "outputs": [
    {
     "name": "stdout",
     "output_type": "stream",
     "text": [
      "F_1 = 1\n",
      "F_2 = 1\n",
      "F_3 = 2\n",
      "F_4 = 3\n",
      "F_5 = 5\n",
      "F_6 = 8\n",
      "F_7 = 13\n",
      "F_8 = 21\n",
      "F_9 = 34\n",
      "F_10 = 55\n",
      "F_11 = 89\n",
      "F_12 = 144\n",
      "F_13 = 233\n",
      "F_14 = 377\n",
      "F_15 = 610\n",
      "F_16 = 987\n",
      "F_17 = 1597\n",
      "F_18 = 2584\n",
      "F_19 = 4181\n",
      "F_20 = 6765\n"
     ]
    }
   ],
   "source": [
    "for n = 1:20\n",
    "    println(\"F_$n = $(FIBO(n))\")\n",
    "end"
   ]
  },
  {
   "cell_type": "markdown",
   "metadata": {},
   "source": [
    "Muitas vezes, o código de recursão será mais curto.\n",
    "Em particular, em Julia (e C) temos o chamado **operador ternário**, que nos permite fazer a pergunta `if ... else ... end` em uma única linha.\n",
    "Desse modo, temos uma implementação curtíssima de Fibonacci:"
   ]
  },
  {
   "cell_type": "code",
   "execution_count": 47,
   "metadata": {},
   "outputs": [
    {
     "data": {
      "text/plain": [
       "F (generic function with 1 method)"
      ]
     },
     "execution_count": 47,
     "metadata": {},
     "output_type": "execute_result"
    }
   ],
   "source": [
    "F(n) = n <= 2 ? min(1, max(n, 0)) : F(n-1) + F(n-2)"
   ]
  },
  {
   "cell_type": "code",
   "execution_count": 48,
   "metadata": {},
   "outputs": [
    {
     "name": "stdout",
     "output_type": "stream",
     "text": [
      "F_1 = 1\n",
      "F_2 = 1\n",
      "F_3 = 2\n",
      "F_4 = 3\n",
      "F_5 = 5\n",
      "F_6 = 8\n",
      "F_7 = 13\n",
      "F_8 = 21\n",
      "F_9 = 34\n",
      "F_10 = 55\n",
      "F_11 = 89\n",
      "F_12 = 144\n",
      "F_13 = 233\n",
      "F_14 = 377\n",
      "F_15 = 610\n",
      "F_16 = 987\n",
      "F_17 = 1597\n",
      "F_18 = 2584\n",
      "F_19 = 4181\n",
      "F_20 = 6765\n"
     ]
    }
   ],
   "source": [
    "for n = 1:20\n",
    "    println(\"F_$n = $(F(n))\")\n",
    "end"
   ]
  },
  {
   "cell_type": "markdown",
   "metadata": {},
   "source": [
    "No entanto, é importante ter cuidado ao utilizar recursão. O custo computacional fica escondido nas chamadas de função, e às vezes podemos deixar um código muito mais complicado do que deveria.\n",
    "No caso de Fibonacci, por exemplo, ao calcular `F(n)`, pedimos o cálculo de `F(n-1)` e `F(n-2)`, mas o cálculo de `F(n-1)` irá pedir o cálculo de `F(n-2)` e `F(n-3)`, ou seja, `F(n-2)` será calculado duas vezes!"
   ]
  },
  {
   "cell_type": "code",
   "execution_count": 49,
   "metadata": {},
   "outputs": [
    {
     "data": {
      "text/plain": [
       "FIBO_comprint (generic function with 1 method)"
      ]
     },
     "execution_count": 49,
     "metadata": {},
     "output_type": "execute_result"
    }
   ],
   "source": [
    "function FIBO_comprint(n)\n",
    "    println(\"Chamada: F$n\")\n",
    "    if n <= 2\n",
    "        return min(1, max(n, 0)) # Pequeno truque\n",
    "    else\n",
    "        return FIBO_comprint(n-1) + FIBO_comprint(n-2)\n",
    "    end\n",
    "end"
   ]
  },
  {
   "cell_type": "code",
   "execution_count": 50,
   "metadata": {},
   "outputs": [
    {
     "name": "stdout",
     "output_type": "stream",
     "text": [
      "Chamada: F5\n",
      "Chamada: F4\n",
      "Chamada: F3\n",
      "Chamada: F2\n",
      "Chamada: F1\n",
      "Chamada: F2\n",
      "Chamada: F3\n",
      "Chamada: F2\n",
      "Chamada: F1\n"
     ]
    },
    {
     "data": {
      "text/plain": [
       "5"
      ]
     },
     "execution_count": 50,
     "metadata": {},
     "output_type": "execute_result"
    }
   ],
   "source": [
    "FIBO_comprint(5)"
   ]
  },
  {
   "cell_type": "markdown",
   "metadata": {},
   "source": [
    "Em outras palavras, Fibonacci com recursão acaba sendo muito mais caro que Fibonacci usando `for` ou `while`. Tome cuidado com essas armadilhas.\n",
    "\n",
    "**Leitura adicional:** Existe um conceito chamada \"Avaliação preguiçosa\", que consiste na avaliação dos valores somente quando são necessários. Em Julia, o pacote `Lazy.jl` implementa esse conceito. Se a avaliação de `F(n)` for feita de maneira preguiçosa, não haverá o custo adicional do cálculo de $F_n$ repetidos."
   ]
  },
  {
   "cell_type": "markdown",
   "metadata": {},
   "source": [
    "## Introdução à pontos flutuantes"
   ]
  },
  {
   "cell_type": "markdown",
   "metadata": {},
   "source": [
    "Vamos voltar nossa atenção ao problema inicial de Fibonacci: calcular o n-ésimo termo. Nossas últimas discussões foram todas no sentido de como calcular os elementos de Fibonacci termo a termo ou recursivamente. Porém, matematicamente, o n-ésimo termo de Fibonacci é bem definido!"
   ]
  },
  {
   "cell_type": "markdown",
   "metadata": {},
   "source": [
    "$$ F_n = \\frac{\\phi^n - \\psi^n}{\\sqrt{5}}, $$\n",
    "onde $$\\phi = \\frac{1 + \\sqrt{5}}{2}$$ e $$\\psi = \\frac{1 - \\sqrt{5}}{2} = 1 - \\phi. $$"
   ]
  },
  {
   "cell_type": "markdown",
   "metadata": {},
   "source": [
    "Isso quer dizer que podemos calcular Fibonacci com uma fórmula direta."
   ]
  },
  {
   "cell_type": "code",
   "execution_count": 51,
   "metadata": {},
   "outputs": [
    {
     "name": "stdout",
     "output_type": "stream",
     "text": [
      "F_1 = 1.0\n",
      "F_2 = 1.0\n",
      "F_3 = 2.0\n",
      "F_4 = 3.0000000000000004\n",
      "F_5 = 5.000000000000001\n",
      "F_6 = 8.000000000000002\n",
      "F_7 = 13.000000000000002\n",
      "F_8 = 21.000000000000004\n",
      "F_9 = 34.00000000000001\n",
      "F_10 = 55.000000000000014\n",
      "F_11 = 89.00000000000003\n",
      "F_12 = 144.00000000000006\n",
      "F_13 = 233.00000000000006\n",
      "F_14 = 377.00000000000017\n",
      "F_15 = 610.0000000000003\n",
      "F_16 = 987.0000000000005\n",
      "F_17 = 1597.000000000001\n",
      "F_18 = 2584.000000000002\n",
      "F_19 = 4181.000000000003\n",
      "F_20 = 6765.000000000005\n"
     ]
    }
   ],
   "source": [
    "phi = (1 + sqrt(5))/2\n",
    "psi = 1 - phi\n",
    "for n = 1:20\n",
    "    Fn = (phi^n - psi^n)/sqrt(5)\n",
    "    println(\"F_$n = $Fn\")\n",
    "end"
   ]
  },
  {
   "cell_type": "markdown",
   "metadata": {},
   "source": [
    "Perceba que o problema aqui agora é outro. Os valores não estão mais \"corretos\". Na verdade, quase todos contém um pequeno **erro**."
   ]
  },
  {
   "cell_type": "markdown",
   "metadata": {},
   "source": [
    "Quão pequeno?"
   ]
  },
  {
   "cell_type": "code",
   "execution_count": 52,
   "metadata": {},
   "outputs": [
    {
     "name": "stdout",
     "output_type": "stream",
     "text": [
      "F_3 = 2, Diferença F_3 = 0.0\n",
      "F_4 = 3, Diferença F_4 = 4.440892098500626e-16\n",
      "F_5 = 5, Diferença F_5 = 8.881784197001252e-16\n",
      "F_6 = 8, Diferença F_6 = 1.7763568394002505e-15\n",
      "F_7 = 13, Diferença F_7 = 1.7763568394002505e-15\n",
      "F_8 = 21, Diferença F_8 = 3.552713678800501e-15\n",
      "F_9 = 34, Diferença F_9 = 7.105427357601002e-15\n",
      "F_10 = 55, Diferença F_10 = 1.4210854715202004e-14\n",
      "F_11 = 89, Diferença F_11 = 2.842170943040401e-14\n",
      "F_12 = 144, Diferença F_12 = 5.684341886080802e-14\n",
      "F_13 = 233, Diferença F_13 = 5.684341886080802e-14\n",
      "F_14 = 377, Diferença F_14 = 1.7053025658242404e-13\n",
      "F_15 = 610, Diferença F_15 = 3.410605131648481e-13\n",
      "F_16 = 987, Diferença F_16 = 4.547473508864641e-13\n",
      "F_17 = 1597, Diferença F_17 = 9.094947017729282e-13\n",
      "F_18 = 2584, Diferença F_18 = 1.8189894035458565e-12\n",
      "F_19 = 4181, Diferença F_19 = 2.7284841053187847e-12\n",
      "F_20 = 6765, Diferença F_20 = 4.547473508864641e-12\n",
      "F_21 = 10946, Diferença F_21 = 7.275957614183426e-12\n",
      "F_22 = 17711, Diferença F_22 = 1.0913936421275139e-11\n",
      "F_23 = 28657, Diferença F_23 = 2.1827872842550278e-11\n",
      "F_24 = 46368, Diferença F_24 = 3.637978807091713e-11\n",
      "F_25 = 75025, Diferença F_25 = 5.820766091346741e-11\n",
      "F_26 = 121393, Diferença F_26 = 8.731149137020111e-11\n",
      "F_27 = 196418, Diferença F_27 = 1.7462298274040222e-10\n",
      "F_28 = 317811, Diferença F_28 = 2.9103830456733704e-10\n",
      "F_29 = 514229, Diferença F_29 = 4.656612873077393e-10\n",
      "F_30 = 832040, Diferença F_30 = 8.149072527885437e-10\n",
      "F_31 = 1346269, Diferença F_31 = 1.1641532182693481e-9\n",
      "F_32 = 2178309, Diferença F_32 = 2.3283064365386963e-9\n",
      "F_33 = 3524578, Diferença F_33 = 3.725290298461914e-9\n",
      "F_34 = 5702887, Diferença F_34 = 6.51925802230835e-9\n",
      "F_35 = 9227465, Diferença F_35 = 1.1175870895385742e-8\n",
      "F_36 = 14930352, Diferença F_36 = 1.862645149230957e-8\n",
      "F_37 = 24157817, Diferença F_37 = 2.60770320892334e-8\n",
      "F_38 = 39088169, Diferença F_38 = 4.470348358154297e-8\n",
      "F_39 = 63245986, Diferença F_39 = 6.705522537231445e-8\n",
      "F_40 = 102334155, Diferença F_40 = 1.341104507446289e-7\n",
      "F_41 = 165580141, Diferença F_41 = 2.384185791015625e-7\n",
      "F_42 = 267914296, Diferença F_42 = 3.5762786865234375e-7\n",
      "F_43 = 433494437, Diferença F_43 = 5.960464477539062e-7\n",
      "F_44 = 701408733, Diferença F_44 = 1.0728836059570312e-6\n",
      "F_45 = 1134903170, Diferença F_45 = 1.6689300537109375e-6\n",
      "F_46 = 1836311903, Diferença F_46 = 2.6226043701171875e-6\n",
      "F_47 = 2971215073, Diferença F_47 = 4.76837158203125e-6\n",
      "F_48 = 4807526976, Diferença F_48 = 7.62939453125e-6\n",
      "F_49 = 7778742049, Diferença F_49 = 1.33514404296875e-5\n",
      "F_50 = 12586269025, Diferença F_50 = 1.9073486328125e-5\n",
      "F_51 = 20365011074, Diferença F_51 = 3.4332275390625e-5\n",
      "F_52 = 32951280099, Diferença F_52 = 5.340576171875e-5\n",
      "F_53 = 53316291173, Diferença F_53 = 9.1552734375e-5\n",
      "F_54 = 86267571272, Diferença F_54 = 0.000152587890625\n",
      "F_55 = 139583862445, Diferença F_55 = 0.000244140625\n",
      "F_56 = 225851433717, Diferença F_56 = 0.00042724609375\n",
      "F_57 = 365435296162, Diferença F_57 = 0.00067138671875\n",
      "F_58 = 591286729879, Diferença F_58 = 0.001220703125\n",
      "F_59 = 956722026041, Diferença F_59 = 0.0018310546875\n",
      "F_60 = 1548008755920, Diferença F_60 = 0.0029296875\n",
      "F_61 = 2504730781961, Diferença F_61 = 0.0048828125\n",
      "F_62 = 4052739537881, Diferença F_62 = 0.00830078125\n",
      "F_63 = 6557470319842, Diferença F_63 = 0.013671875\n",
      "F_64 = 10610209857723, Diferença F_64 = 0.021484375\n",
      "F_65 = 17167680177565, Diferença F_65 = 0.037109375\n",
      "F_66 = 27777890035288, Diferença F_66 = 0.0625\n",
      "F_67 = 44945570212853, Diferença F_67 = 0.09375\n",
      "F_68 = 72723460248141, Diferença F_68 = 0.171875\n",
      "F_69 = 117669030460994, Diferença F_69 = 0.28125\n",
      "F_70 = 190392490709135, Diferença F_70 = 0.4375\n",
      "F_71 = 308061521170129, Diferença F_71 = 0.6875\n",
      "F_72 = 498454011879264, Diferença F_72 = 1.1875\n",
      "F_73 = 806515533049393, Diferença F_73 = 2.0\n",
      "F_74 = 1304969544928657, Diferença F_74 = 3.0\n",
      "F_75 = 2111485077978050, Diferença F_75 = 5.25\n",
      "F_76 = 3416454622906707, Diferença F_76 = 8.5\n",
      "F_77 = 5527939700884757, Diferença F_77 = 14.0\n",
      "F_78 = 8944394323791464, Diferença F_78 = 24.0\n",
      "F_79 = 14472334024676221, Diferença F_79 = 40.0\n",
      "F_80 = 23416728348467685, Diferença F_80 = 60.0\n",
      "F_81 = 37889062373143906, Diferença F_81 = 104.0\n",
      "F_82 = 61305790721611591, Diferença F_82 = 160.0\n",
      "F_83 = 99194853094755497, Diferença F_83 = 272.0\n",
      "F_84 = 160500643816367088, Diferença F_84 = 448.0\n",
      "F_85 = 259695496911122585, Diferença F_85 = 736.0\n",
      "F_86 = 420196140727489673, Diferença F_86 = 1216.0\n",
      "F_87 = 679891637638612258, Diferença F_87 = 2048.0\n",
      "F_88 = 1100087778366101931, Diferença F_88 = 3200.0\n",
      "F_89 = 1779979416004714189, Diferença F_89 = 5120.0\n",
      "F_90 = 2880067194370816120, Diferença F_90 = 8704.0\n",
      "F_91 = 4660046610375530309, Diferença F_91 = 14336.0\n",
      "F_92 = 7540113804746346429, Diferença F_92 = 22528.0\n",
      "F_93 = -6246583658587674878, Diferença F_93 = 1.844674407370959e19\n"
     ]
    }
   ],
   "source": [
    "phi = (1 + sqrt(5))/2\n",
    "psi = 1 - phi\n",
    "F1 = F2 = 1\n",
    "Fnovo = 1\n",
    "for n = 3:93\n",
    "    Fn = (phi^n - psi^n)/sqrt(5)\n",
    "    Fnovo = F1 + F2\n",
    "    F2 = F1\n",
    "    F1 = Fnovo\n",
    "    println(\"F_$n = $Fnovo, Diferença F_$n = $(Fn - Fnovo)\")\n",
    "end"
   ]
  },
  {
   "cell_type": "markdown",
   "metadata": {},
   "source": [
    "Impressionantemente, esse erro não é tão pequeno assim. Ele cresce com o tamanho de `n`, de modo que essa aproximação é inviável para valores grandes de `n`."
   ]
  },
  {
   "cell_type": "markdown",
   "metadata": {},
   "source": [
    "O problema aqui, novamente, é que o computador armazena um valor \"real\" utilizando uma quantidade finita de bits.\n",
    "O padrão IEEE 754 é o mais utilizado atualmente, e dita vários detalhes, do que é chamado de **ponto flutuante**.\n",
    "\n",
    "Um número em ponto flutuante é da forma\n",
    "\n",
    "$$ \\mbox{mantissa} \\times \\mbox{base}^\\mbox{expoente}, $$\n",
    "onde a mantissa é um número real com módulo menor que 10, cujo dígito das unidades é não-nulo."
   ]
  },
  {
   "cell_type": "markdown",
   "metadata": {},
   "source": [
    "### Exemplos\n",
    "\n",
    "$$ 234 = 2.34 \\times 10^2 $$\n",
    "\n",
    "$$ -12.5 = -1.25 \\times 10^1 $$\n",
    "\n",
    "$$ 0.001 = 1 \\times 10^{-3} $$\n",
    "\n",
    "$$ (101)_2 = (1.01)_2 \\times 2^2. $$"
   ]
  },
  {
   "cell_type": "code",
   "execution_count": 53,
   "metadata": {},
   "outputs": [
    {
     "data": {
      "text/plain": [
       "\"0100010100000000\""
      ]
     },
     "execution_count": 53,
     "metadata": {},
     "output_type": "execute_result"
    }
   ],
   "source": [
    "bits(Float16(5))"
   ]
  },
  {
   "cell_type": "code",
   "execution_count": 54,
   "metadata": {},
   "outputs": [
    {
     "data": {
      "text/plain": [
       "\"0100011000000000\""
      ]
     },
     "execution_count": 54,
     "metadata": {},
     "output_type": "execute_result"
    }
   ],
   "source": [
    "bits(Float16(6))"
   ]
  },
  {
   "cell_type": "markdown",
   "metadata": {},
   "source": [
    "Note que teremos limitações para a mantissa e expoente. Em particular, na base 10, pensaremos que a mantissa tem uma limitação no número de dígitos depois da vírgula, e o expoente estará limitada entre valores $L$ e $U$ como $L \\leq E \\leq U$.\n",
    "Note que isso implica que existem valores máximos e mínimos."
   ]
  },
  {
   "cell_type": "markdown",
   "metadata": {},
   "source": [
    "Por exemplo, com 3 dígitos depois da vírgula e um expoente limitado por $-5 \\leq E \\leq 4$, o máximo será\n",
    "$$ X_{\\max} = 9.999 \\times 10^4 = 9.999, $$\n",
    "o menor número positivo será\n",
    "$$ X_{\\min} = 1.000 \\times 10^{-5} = 0.00001. $$"
   ]
  },
  {
   "cell_type": "code",
   "execution_count": 55,
   "metadata": {},
   "outputs": [
    {
     "data": {
      "text/plain": [
       "Float16(6.0e-8)"
      ]
     },
     "execution_count": 55,
     "metadata": {},
     "output_type": "execute_result"
    }
   ],
   "source": [
    "nextfloat(Float16(0.0))"
   ]
  },
  {
   "cell_type": "markdown",
   "metadata": {},
   "source": [
    "A base tradicionalmente é 2 nos computadores, e os bits atribuídos a um número desses é separado em uma parte para a mantissa e outra para o expoente. Em particular, com 64 bits, usamos 53 dígitos para a mantissa e 11 para o expoente.\n",
    "Um dos bits da mantissa guarda o sinal do elemento."
   ]
  },
  {
   "cell_type": "markdown",
   "metadata": {},
   "source": [
    "Além do armazenamento, também é importante definir a **aritmética de ponto flutuante**."
   ]
  },
  {
   "cell_type": "markdown",
   "metadata": {},
   "source": [
    "Dado dois números armazenados na mesma base, a operação de soma ou subtração entre os dois ocorre da seguinte forma:"
   ]
  },
  {
   "cell_type": "code",
   "execution_count": 56,
   "metadata": {},
   "outputs": [
    {
     "data": {
      "text/plain": [
       "5.551115123125783e-17"
      ]
     },
     "execution_count": 56,
     "metadata": {},
     "output_type": "execute_result"
    }
   ],
   "source": [
    "0.1 + 0.2 - 0.3"
   ]
  },
  {
   "cell_type": "code",
   "execution_count": 57,
   "metadata": {
    "collapsed": true
   },
   "outputs": [],
   "source": [
    "#=\n",
    "    Entrada: dois numeros x₁ = M₁×βᴱ¹ e x₂ = M₂×βᴱ².\n",
    "1. Calcule o maior expoente E = max(E₁, E₂)\n",
    "2. Escreva os dois números usando este expoente\n",
    "    x₁ = (M₁ × βᴱ¹⁻ᴱ) × βᴱ\n",
    "    x₂ = (M₂ × βᴱ²⁻ᴱ) × βᴱ\n",
    "3. Some os dois\n",
    "    x₃ = x₁ + x₂ = (M₁ × βᴱ¹⁻ᴱ + M₂ × βᴱ²⁻ᴱ) × βᴱ\n",
    "4. Calcule a mantissa M₃ e expoente E₃ do número novo\n",
    "    x₃ = M₃×βᴱ³\n",
    "=#"
   ]
  },
  {
   "cell_type": "markdown",
   "metadata": {},
   "source": [
    "Observe, no entanto, que como a mantissa e o expoente são guardados usando uma quantidade finita de bits, então podemos acabar perdendo informação."
   ]
  },
  {
   "cell_type": "markdown",
   "metadata": {},
   "source": [
    "Vamos fazer uma simulação dessa operação uma mantissa de 3 dígitos além da vírgula, e um expoente com limitantes $-5 \\leq E \\leq 4$, na base 10."
   ]
  },
  {
   "cell_type": "code",
   "execution_count": 58,
   "metadata": {
    "collapsed": true
   },
   "outputs": [],
   "source": [
    "#=\n",
    "    34.12  +  8.256\n",
    "\n",
    "    3.412 × 10¹ + 8.256 × 10⁰\n",
    "    3.412 × 10¹ + 0.8256 × 10¹\n",
    "    (3.412 + 0.8256) × 10¹\n",
    "    4.2376 × 10¹\n",
    "    4.238 × 10¹ # Armazenado\n",
    "    42.38\n",
    "=#"
   ]
  },
  {
   "cell_type": "markdown",
   "metadata": {},
   "source": [
    "Essa perda de dígitos é chamado de **erro de arredondamento**."
   ]
  },
  {
   "cell_type": "markdown",
   "metadata": {},
   "source": [
    "Em alguns casos, esse erro pode fazer com que um dos números somados seja tratado como zero."
   ]
  },
  {
   "cell_type": "code",
   "execution_count": 59,
   "metadata": {
    "collapsed": true
   },
   "outputs": [],
   "source": [
    "#=\n",
    "    2351 + 0.01234\n",
    "\n",
    "    2.351 × 10³ + 1.234 × 10⁻²\n",
    "    2.351 × 10³ + 0.00001234 × 10³\n",
    "    (2.351 + 0.00001234) × 10³\n",
    "    2.35101234 × 10³\n",
    "    2.351 × 10³ # Armazenado\n",
    "    2351\n",
    "=#"
   ]
  },
  {
   "cell_type": "markdown",
   "metadata": {},
   "source": [
    "No armazenamento IEEE754, é um pouco mais complicado chegar nos valores máximos e mínimos, mas eles ainda existem.\n",
    "Em particular, podemos usar o código abaixo para calcular qual o menor número positivo que é tratado como 0 quando somado à 1."
   ]
  },
  {
   "cell_type": "code",
   "execution_count": 60,
   "metadata": {},
   "outputs": [
    {
     "data": {
      "text/plain": [
       "2.220446049250313e-16"
      ]
     },
     "execution_count": 60,
     "metadata": {},
     "output_type": "execute_result"
    }
   ],
   "source": [
    "ϵ = 1.0\n",
    "while 1.0 + ϵ > 1.0\n",
    "    ϵ = ϵ/2\n",
    "end\n",
    "ϵ = 2ϵ"
   ]
  },
  {
   "cell_type": "code",
   "execution_count": 61,
   "metadata": {},
   "outputs": [
    {
     "data": {
      "text/plain": [
       "Float16(0.000977)"
      ]
     },
     "execution_count": 61,
     "metadata": {},
     "output_type": "execute_result"
    }
   ],
   "source": [
    "eps(Float16)"
   ]
  },
  {
   "cell_type": "markdown",
   "metadata": {},
   "source": [
    "Esse número é chamado de **precisão da máquina**, e às vezes denotado por $\\epsilon_{\\mbox{machine}}$.\n",
    "Para todo número real $x$, existe um número $x'$ em ponto flutuante tal que\n",
    "$$ |x - x'| \\leq \\epsilon_{\\mbox{machine}}|x|. $$"
   ]
  },
  {
   "cell_type": "code",
   "execution_count": 62,
   "metadata": {},
   "outputs": [
    {
     "data": {
      "text/plain": [
       "1.3877787807814457e-17"
      ]
     },
     "execution_count": 62,
     "metadata": {},
     "output_type": "execute_result"
    }
   ],
   "source": [
    "eps(0.1)"
   ]
  },
  {
   "cell_type": "code",
   "execution_count": 63,
   "metadata": {},
   "outputs": [
    {
     "data": {
      "text/plain": [
       "Inf"
      ]
     },
     "execution_count": 63,
     "metadata": {},
     "output_type": "execute_result"
    }
   ],
   "source": [
    "10^10^10.0"
   ]
  },
  {
   "cell_type": "code",
   "execution_count": 64,
   "metadata": {},
   "outputs": [
    {
     "data": {
      "text/plain": [
       "NaN"
      ]
     },
     "execution_count": 64,
     "metadata": {},
     "output_type": "execute_result"
    }
   ],
   "source": [
    "Inf * 2 + Inf^2 - Inf"
   ]
  },
  {
   "cell_type": "markdown",
   "metadata": {},
   "source": [
    "A multiplicação é mais simples. Os expoentes são somados, as mantissas multiplicadas, e os valores são arredondados e ajustados de modo a ficar na forma de ponto flutuante. Análogo para divisão."
   ]
  },
  {
   "cell_type": "markdown",
   "metadata": {},
   "source": [
    "Nos pontos flutuantes de 64 bits (`Float64` no Julia), o maior valor representável nessa base é por volta de $10^{308}$ e o menor positivo é $5\\times10^{-324}$. Diferente do que acontece com inteiros, quando fazemos alguma coisa que ultrapassa o maior valor, nós temos o chamado **overflow**. Denotaremos o número como $\\infty$ (infinito), ou `Inf` em Julia. Se algum cálculo resultar em um valor positivo que o menor valor positivo, obtemos um chamado **underflow**, e o valor é considerado 0."
   ]
  },
  {
   "cell_type": "markdown",
   "metadata": {},
   "source": [
    "Alguns cálculos resultam em `Inf` e 0 também, pelo padrão da IEEE754: $1/0 = \\infty$, $1/\\infty = 0$, $-1/0 = -\\infty$, etc."
   ]
  },
  {
   "cell_type": "markdown",
   "metadata": {},
   "source": [
    "Outro ponto importante é que algumas operações não estão bem definidas, mas elas tem uma representação.\n",
    "Por exemplo, as operações $\\infty - \\infty$, $0/0$, $\\infty/\\infty$ e $0 * \\infty$ são todas indeterminadas, e resultam no chamado **Not a Number** (Não é um número), denotado por `NaN`."
   ]
  },
  {
   "cell_type": "code",
   "execution_count": 65,
   "metadata": {},
   "outputs": [
    {
     "data": {
      "text/plain": [
       "NaN"
      ]
     },
     "execution_count": 65,
     "metadata": {},
     "output_type": "execute_result"
    }
   ],
   "source": [
    "Inf - Inf"
   ]
  },
  {
   "cell_type": "markdown",
   "metadata": {},
   "source": [
    "Denotamos por $\\mbox{fl}(x)$ o número em ponto flutuante mais próximo do real $x$. Temos que para cada $x \\in \\mathbb{R}$, existe $\\epsilon$ tal que $|\\epsilon| \\leq \\epsilon_{\\mbox{machine}}$ e $\\mbox{fl}(x) = x(1+\\epsilon)$."
   ]
  },
  {
   "cell_type": "markdown",
   "metadata": {},
   "source": [
    "Podemos agora falar sobre as aspas na palavra \"real\". Como vimos até aqui, os números de ponto flutuante expressam uma quantidade finita de valores. E mais, todos esses valores tem uma forma específica e racional. Então, no computador, utilizamos normalmente um subconjunto dos números racionais. Isso quer dizer que qualquer número irracional representado dessa forma será aproximado. Além disso, alguns números racionais também serão arredondados. O caso mais interessante, na minha opinião, é da seguinte soma:"
   ]
  },
  {
   "cell_type": "code",
   "execution_count": 66,
   "metadata": {
    "scrolled": true
   },
   "outputs": [
    {
     "data": {
      "text/plain": [
       "5.551115123125783e-17"
      ]
     },
     "execution_count": 66,
     "metadata": {},
     "output_type": "execute_result"
    }
   ],
   "source": [
    "0.1 + 0.2 - 0.3"
   ]
  },
  {
   "cell_type": "code",
   "execution_count": 67,
   "metadata": {},
   "outputs": [
    {
     "data": {
      "text/plain": [
       "0.0"
      ]
     },
     "execution_count": 67,
     "metadata": {},
     "output_type": "execute_result"
    }
   ],
   "source": [
    "0.125 + 0.250 - 0.375"
   ]
  },
  {
   "cell_type": "markdown",
   "metadata": {},
   "source": [
    "0.1 em binário não é uma dízima finita, então é aproximado. O mesmo vale para 0.2 e 0.3. Omitindo os detalhes, não obtemos 0."
   ]
  },
  {
   "cell_type": "markdown",
   "metadata": {},
   "source": [
    "Ainda mais interessante, a soma não é associativa."
   ]
  },
  {
   "cell_type": "code",
   "execution_count": 68,
   "metadata": {},
   "outputs": [
    {
     "data": {
      "text/plain": [
       "false"
      ]
     },
     "execution_count": 68,
     "metadata": {},
     "output_type": "execute_result"
    }
   ],
   "source": [
    "(1.0 + 1e-16) + 1e-16 == 1.0 + (1e-16 + 1e-16)"
   ]
  },
  {
   "cell_type": "code",
   "execution_count": 69,
   "metadata": {},
   "outputs": [
    {
     "data": {
      "text/plain": [
       "2.0"
      ]
     },
     "execution_count": 69,
     "metadata": {},
     "output_type": "execute_result"
    }
   ],
   "source": [
    "((1.0 + 1e-16) + 1e-16) + 1"
   ]
  },
  {
   "cell_type": "code",
   "execution_count": 70,
   "metadata": {},
   "outputs": [
    {
     "data": {
      "text/plain": [
       "1.0000000000000002"
      ]
     },
     "execution_count": 70,
     "metadata": {},
     "output_type": "execute_result"
    }
   ],
   "source": [
    "1.0 + (1e-16 + 1e-16)"
   ]
  },
  {
   "cell_type": "code",
   "execution_count": 71,
   "metadata": {},
   "outputs": [
    {
     "data": {
      "text/plain": [
       "\"0011111111110000000000000000000000000000000000000000000000000000\""
      ]
     },
     "execution_count": 71,
     "metadata": {},
     "output_type": "execute_result"
    }
   ],
   "source": [
    "bits(1.0)"
   ]
  },
  {
   "cell_type": "code",
   "execution_count": 72,
   "metadata": {},
   "outputs": [
    {
     "data": {
      "text/plain": [
       "\"0011111111101100110011001100110011001100110011001100110011001101\""
      ]
     },
     "execution_count": 72,
     "metadata": {},
     "output_type": "execute_result"
    }
   ],
   "source": [
    "bits(0.9)"
   ]
  },
  {
   "cell_type": "code",
   "execution_count": 73,
   "metadata": {},
   "outputs": [
    {
     "data": {
      "text/plain": [
       "\"0011111110111001100110011001100110011001100110011001100110011000\""
      ]
     },
     "execution_count": 73,
     "metadata": {},
     "output_type": "execute_result"
    }
   ],
   "source": [
    "bits(1 - 0.9)"
   ]
  },
  {
   "cell_type": "code",
   "execution_count": 74,
   "metadata": {},
   "outputs": [
    {
     "data": {
      "text/plain": [
       "\"0011111110111001100110011001100110011001100110011001100110011010\""
      ]
     },
     "execution_count": 74,
     "metadata": {},
     "output_type": "execute_result"
    }
   ],
   "source": [
    "bits(0.1)"
   ]
  },
  {
   "cell_type": "markdown",
   "metadata": {},
   "source": [
    "Por isso é bastante importante ter noção dos erros que estão acontecendo, para pensar na melhor maneira de se fazer certos cálculos."
   ]
  },
  {
   "cell_type": "markdown",
   "metadata": {},
   "source": [
    "### Voltando no Fibonacci"
   ]
  },
  {
   "cell_type": "markdown",
   "metadata": {},
   "source": [
    "A fórmula para o n-ésimo número de Fibonacci é\n",
    "$$ F_n = \\frac{\\phi^n - \\psi^n}{\\sqrt{5}}. $$"
   ]
  },
  {
   "cell_type": "markdown",
   "metadata": {},
   "source": [
    "Acontece que $\\phi > 1$ e $0 < \\psi < 1$, então a distância entre $\\phi^n$ e $\\psi^n$ cresce bastante com $n$.\n",
    "Além disso, ambos são irracionais, então seus valores já são aproximados. Neste caso, é mais simples calcular os números de Fibonacci utilizando `for` ou `while` com inteiros.\n",
    "Claro que isso também vai depender do motivo para se calcular esses números."
   ]
  },
  {
   "cell_type": "markdown",
   "metadata": {},
   "source": [
    "## Precisão Arbitrária"
   ]
  },
  {
   "cell_type": "markdown",
   "metadata": {},
   "source": [
    "Da mesma maneira que às vezes queremos trabalhar com inteiros maiores que o máximo da máquina, às vezes também estamos interessados em pontos flutuantes com mais precisão que os da máquina. Em Julia, são chamados de `BigFloat`."
   ]
  },
  {
   "cell_type": "code",
   "execution_count": 75,
   "metadata": {},
   "outputs": [
    {
     "data": {
      "text/plain": [
       "1.000000000000000000000000000000000000000000000000000000000000000000000000000000"
      ]
     },
     "execution_count": 75,
     "metadata": {},
     "output_type": "execute_result"
    }
   ],
   "source": [
    "BigFloat(\"1.0\")"
   ]
  },
  {
   "cell_type": "code",
   "execution_count": 76,
   "metadata": {},
   "outputs": [
    {
     "data": {
      "text/plain": [
       "0.000000000000000000000000000000000000000000000000000000000000000000000000000000"
      ]
     },
     "execution_count": 76,
     "metadata": {},
     "output_type": "execute_result"
    }
   ],
   "source": [
    "big\"0.1\" + big\"0.2\" - big\"0.3\""
   ]
  },
  {
   "cell_type": "code",
   "execution_count": 77,
   "metadata": {},
   "outputs": [
    {
     "data": {
      "text/plain": [
       "1.079521069386805578173293982850049946389500045554535173127962933771073975395303e-78"
      ]
     },
     "execution_count": 77,
     "metadata": {},
     "output_type": "execute_result"
    }
   ],
   "source": [
    "eps(big\"0.1\")"
   ]
  },
  {
   "cell_type": "code",
   "execution_count": 78,
   "metadata": {},
   "outputs": [
    {
     "data": {
      "text/plain": [
       "4.440892098500626e-16"
      ]
     },
     "execution_count": 78,
     "metadata": {},
     "output_type": "execute_result"
    }
   ],
   "source": [
    "sqrt(2.0)^2 - 2.0"
   ]
  },
  {
   "cell_type": "code",
   "execution_count": 79,
   "metadata": {},
   "outputs": [
    {
     "data": {
      "text/plain": [
       "-1.727233711018888925077270372560079914223200072887256277004740694033718360632485e-77"
      ]
     },
     "execution_count": 79,
     "metadata": {},
     "output_type": "execute_result"
    }
   ],
   "source": [
    "sqrt(big\"2.0\")^2 - big\"2.0\""
   ]
  },
  {
   "cell_type": "code",
   "execution_count": 80,
   "metadata": {},
   "outputs": [
    {
     "data": {
      "text/plain": [
       "8.50969131174083613912978790962048280567755996982969624908264897850135431080301e-1388255822130839284"
      ]
     },
     "execution_count": 80,
     "metadata": {},
     "output_type": "execute_result"
    }
   ],
   "source": [
    "nextfloat(big\"0.0\") # Menor positivo"
   ]
  },
  {
   "cell_type": "markdown",
   "metadata": {},
   "source": [
    "Diferente dos `BigInt`s, os `BigFloat`s não crescem automaticamente. Devemos usar a função abaixo para escolher a precisão do mesmo."
   ]
  },
  {
   "cell_type": "code",
   "execution_count": 81,
   "metadata": {},
   "outputs": [
    {
     "data": {
      "text/plain": [
       "512"
      ]
     },
     "execution_count": 81,
     "metadata": {},
     "output_type": "execute_result"
    }
   ],
   "source": [
    "setprecision(512)"
   ]
  },
  {
   "cell_type": "code",
   "execution_count": 82,
   "metadata": {},
   "outputs": [
    {
     "data": {
      "text/plain": [
       "8.50969131174083613912978790962048280567755996982969624908264897850135431080301037712781653863533176207041307677719465625590261564333325371457454023316728047e-1388255822130839284"
      ]
     },
     "execution_count": 82,
     "metadata": {},
     "output_type": "execute_result"
    }
   ],
   "source": [
    "nextfloat(big\"0.0\") # Menor positivo"
   ]
  },
  {
   "cell_type": "code",
   "execution_count": 83,
   "metadata": {},
   "outputs": [
    {
     "data": {
      "text/plain": [
       "3.14159265358979323846264338327950288419716939937510582097494459230781640628620899862803482534211706798214808651328230664709384460955058223172535940812848115"
      ]
     },
     "execution_count": 83,
     "metadata": {},
     "output_type": "execute_result"
    }
   ],
   "source": [
    "BigFloat(pi)"
   ]
  },
  {
   "cell_type": "markdown",
   "metadata": {},
   "source": [
    "# Aproximações de Séries"
   ]
  },
  {
   "cell_type": "markdown",
   "metadata": {},
   "source": [
    "Vamos para um assunto levemente diferente. Uma série é uma soma de infinitos termos numa ordem dada.\n",
    "$$ S = \\sum_{k = 1}^{\\infty} a_k. $$\n",
    "A questão aqui é, em geral, se essa soma existe ou não. Para tanto, define-se uma sequência $(s_1,s_2,\\dots,s_n,\\dots)$ dada por\n",
    "$$ s_n = \\sum_{k = 1}^n a_k. $$"
   ]
  },
  {
   "cell_type": "markdown",
   "metadata": {},
   "source": [
    "Se essa sequência convergence, então essa série converge."
   ]
  },
  {
   "cell_type": "markdown",
   "metadata": {},
   "source": [
    "Computacionalmente, em geral, estamos mais preocupados em calcular essa soma. Um resultado básico de série diz que para que a série convirja, é necessário que $a_k \\rightarrow 0$. Como já vimos, isso irá nos causar alguns problemas, dado que\n",
    "$$ s_{n+1} = s_n + a_{n+1}, $$\n",
    "e $a_{n+1}$ vai eventualmente ser muito pequeno."
   ]
  },
  {
   "cell_type": "markdown",
   "metadata": {},
   "source": [
    "Matematicamente, muitas vezes temos um objetivo, como calcular $\\pi$, que pode ser obtido pelo cálculo de uma série. Devemos nos preocupar em como fazer isso de uma maneira computacional eficiente que não perca muita precisão. Frequentemente, teremos limites computacionais para essa eficiência, e aí devemos voltar à matemática para conseguir alguma maneira melhor de resolver o problema inicial."
   ]
  },
  {
   "cell_type": "markdown",
   "metadata": {},
   "source": [
    "## Expansão de Taylor"
   ]
  },
  {
   "cell_type": "markdown",
   "metadata": {},
   "source": [
    "Como deve ter sido visto no curso de Cálculo, uma função continuamente diferenciável até ordem $n$ admite uma aproximação polinomial em torno de um ponto $a$ de seu domínio dada por\n",
    "$$ P_n(x) = f(a) + f'(a)(x-a) + \\frac{1}{2}f''(a)(x-a)^2 + \\frac{1}{3!}f'''(a)(x-a)^3 + \\dots + \\frac{1}{n!}f^{(n)}(a)(x-a)^n. $$"
   ]
  },
  {
   "cell_type": "markdown",
   "metadata": {},
   "source": [
    "Esse polinômio é chamado polinômio de Taylor de ordem $n$ em torno do ponto $a$, e existem alguns teoremas indicando o quão boa é essa aproximação."
   ]
  },
  {
   "cell_type": "markdown",
   "metadata": {},
   "source": [
    "**Teorema:** Se $f$ é continuamente diferenciável até ordem $n$ no ponto $a$, então\n",
    "$$ f(x) = P_n(x) + r_n(x), $$\n",
    "onde\n",
    "$$ \\lim_{x \\rightarrow a} \\frac{ r_n(x) }{ |x - a|^n } = 0. $$"
   ]
  },
  {
   "cell_type": "markdown",
   "metadata": {},
   "source": [
    "**Teorema:** Se $f$ é continuamente diferenciável até ordem $n+1$ no intervalo fechado de $a$ à $x$, então\n",
    "$$ f(x) = P_n(x) + \\int_a^x \\frac{f^{(n+1)}(t)}{n!}(x-t)^n \\mbox{d} t. $$"
   ]
  },
  {
   "cell_type": "markdown",
   "metadata": {},
   "source": [
    "**Teorema:** Se $f$ é continuamente diferenciável até ordem $n+1$ num intervalo aberto contento $a$ e $f^{(n)}$ é contínua no intervalo fechado de $a$ à $x$, então\n",
    "$$ f(x) = P_n(x) + \\frac{1}{(n+1)!} f^{(n+1)}(\\xi)(x - a)^{n + 1}, $$\n",
    "onde $\\xi$ é um número real entre $a$ e $x$."
   ]
  },
  {
   "cell_type": "markdown",
   "metadata": {},
   "source": [
    "Podemos usar o conceito da expansão de Taylor para calcular numericamente alguns valores de funções não polinomiais. O caso mais comum é o da função $\\exp(x) = e^x$, onde $e$ é o número de Euler."
   ]
  },
  {
   "cell_type": "code",
   "execution_count": 84,
   "metadata": {},
   "outputs": [
    {
     "data": {
      "text/plain": [
       "e = 2.7182818284590..."
      ]
     },
     "execution_count": 84,
     "metadata": {},
     "output_type": "execute_result"
    }
   ],
   "source": [
    "e"
   ]
  },
  {
   "cell_type": "markdown",
   "metadata": {},
   "source": [
    "*Aviso: A função exponencial já costuma estar implementada em baixo nível, no entanto faremos este estudo por questões didáticas.*"
   ]
  },
  {
   "cell_type": "markdown",
   "metadata": {},
   "source": [
    "A função $e^x$ tem a seguinte expansão de Taylor em torno do ponto $0$.\n",
    "$$ e^x = 1 + x + \\frac{x^2}{2} + \\frac{x^3}{3!} + \\frac{x^4}{4!} + \\dots + \\frac{x^n}{n!} + \\dots. $$"
   ]
  },
  {
   "cell_type": "markdown",
   "metadata": {},
   "source": [
    "Então é bastante simples definir um algoritmo que calcule a aproximação da exponecial dado $x$ e $n$."
   ]
  },
  {
   "cell_type": "code",
   "execution_count": 85,
   "metadata": {
    "collapsed": true
   },
   "outputs": [],
   "source": [
    "#=\n",
    "    Entrada: x e n ≧ 0\n",
    "1. Inicialização: E ← 1.0\n",
    "2. Para k de 1 à n\n",
    "    1. E ← E + x^k/k!\n",
    "3. Retorne E\n",
    "    Saída: E ≈ eˣ com n termos da expansão de Taylor\n",
    "=#"
   ]
  },
  {
   "cell_type": "code",
   "execution_count": 86,
   "metadata": {},
   "outputs": [
    {
     "data": {
      "text/plain": [
       "2.7166666666666663"
      ]
     },
     "execution_count": 86,
     "metadata": {},
     "output_type": "execute_result"
    }
   ],
   "source": [
    "E = 1.0\n",
    "E += 1.0   # k = 1\n",
    "E += 0.5   # k = 2\n",
    "E += 1/6   # k = 3\n",
    "E += 1/24  # k = 4\n",
    "E += 1/120 # k = 5"
   ]
  },
  {
   "cell_type": "code",
   "execution_count": 87,
   "metadata": {},
   "outputs": [
    {
     "data": {
      "text/plain": [
       "0.0016151617923787498"
      ]
     },
     "execution_count": 87,
     "metadata": {},
     "output_type": "execute_result"
    }
   ],
   "source": [
    "e - E"
   ]
  },
  {
   "cell_type": "code",
   "execution_count": 88,
   "metadata": {},
   "outputs": [
    {
     "data": {
      "text/plain": [
       "exponencial (generic function with 1 method)"
      ]
     },
     "execution_count": 88,
     "metadata": {},
     "output_type": "execute_result"
    }
   ],
   "source": [
    "function exponencial(x, n)\n",
    "    # Exercício. Usa a função factorial(n) para calcular n!\n",
    "end"
   ]
  },
  {
   "cell_type": "markdown",
   "metadata": {},
   "source": [
    "Vamos testar nossa função contra `exp`, calculando o erro dessa aproximação.\n",
    "No entanto, note que a função exponencial cresce rapidamente, e como vimos, a precisão de um valor é relativo ao valor. Sendo assim, vamos utilizar o **erro relativo** na nossa comparação."
   ]
  },
  {
   "cell_type": "markdown",
   "metadata": {},
   "source": [
    "**Definição:** O erro cometido ao se aproximar $x$ por $x'$ é $x - x'$.\n",
    "\n",
    "**Definição:** O **erro absoluto** cometido ao se aproximar $x$ por $x'$ é $|x - x'|$.\n",
    "\n",
    "**Definição:** O **erro relativo** cometido ao se aproximar $x$ por $x'$ é $\\dfrac{|x - x'|}{|x|}$."
   ]
  },
  {
   "cell_type": "code",
   "execution_count": 89,
   "metadata": {},
   "outputs": [
    {
     "name": "stderr",
     "output_type": "stream",
     "text": [
      "WARNING: Compat.UTF8String is deprecated, use String instead.\n",
      "  likely near In[89]:68\n"
     ]
    },
    {
     "data": {
      "text/plain": [
       "Plots.PyPlotBackend()"
      ]
     },
     "execution_count": 89,
     "metadata": {},
     "output_type": "execute_result"
    }
   ],
   "source": [
    "using Plots\n",
    "pyplot(size=(400,300))"
   ]
  },
  {
   "cell_type": "code",
   "execution_count": 90,
   "metadata": {},
   "outputs": [
    {
     "ename": "LoadError",
     "evalue": "\u001b[91mMethodError: no method matching -(::Void, ::Float64)\u001b[0m\nClosest candidates are:\n  -(\u001b[91m::Float64\u001b[39m, ::Float64) at float.jl:377\n  -(\u001b[91m::Complex{Bool}\u001b[39m, ::Real) at complex.jl:253\n  -(\u001b[91m::BigFloat\u001b[39m, ::Union{Float16, Float32, Float64}) at mpfr.jl:351\n  ...\u001b[39m",
     "output_type": "error",
     "traceback": [
      "\u001b[91mMethodError: no method matching -(::Void, ::Float64)\u001b[0m\nClosest candidates are:\n  -(\u001b[91m::Float64\u001b[39m, ::Float64) at float.jl:377\n  -(\u001b[91m::Complex{Bool}\u001b[39m, ::Real) at complex.jl:253\n  -(\u001b[91m::BigFloat\u001b[39m, ::Union{Float16, Float32, Float64}) at mpfr.jl:351\n  ...\u001b[39m",
      "",
      "Stacktrace:",
      " [1] \u001b[1mcollect\u001b[22m\u001b[22m\u001b[1m(\u001b[22m\u001b[22m::Base.Generator{Array{Int64,1},##2#3}\u001b[1m)\u001b[22m\u001b[22m at \u001b[1m./array.jl:441\u001b[22m\u001b[22m",
      " [2] \u001b[1minclude_string\u001b[22m\u001b[22m\u001b[1m(\u001b[22m\u001b[22m::String, ::String\u001b[1m)\u001b[22m\u001b[22m at \u001b[1m./loading.jl:515\u001b[22m\u001b[22m"
     ]
    }
   ],
   "source": [
    "N = collect(1:20)\n",
    "Erro = [abs(exponencial(1.0, n) - exp(1.0))/exp(1.0) for n in N]\n",
    "scatter(N, Erro, yaxis=:log)"
   ]
  },
  {
   "cell_type": "markdown",
   "metadata": {},
   "source": [
    "Note que após $n = 17$, o erro é sempre a precisão da máquina. Isso quer dizer que os termos $a_n$ com $n > 17$ não afetam a soma, computacionalmente."
   ]
  },
  {
   "cell_type": "code",
   "execution_count": 91,
   "metadata": {},
   "outputs": [
    {
     "ename": "LoadError",
     "evalue": "\u001b[91mMethodError: no method matching -(::Void, ::Float64)\u001b[0m\nClosest candidates are:\n  -(\u001b[91m::Float64\u001b[39m, ::Float64) at float.jl:377\n  -(\u001b[91m::Complex{Bool}\u001b[39m, ::Real) at complex.jl:253\n  -(\u001b[91m::BigFloat\u001b[39m, ::Union{Float16, Float32, Float64}) at mpfr.jl:351\n  ...\u001b[39m",
     "output_type": "error",
     "traceback": [
      "\u001b[91mMethodError: no method matching -(::Void, ::Float64)\u001b[0m\nClosest candidates are:\n  -(\u001b[91m::Float64\u001b[39m, ::Float64) at float.jl:377\n  -(\u001b[91m::Complex{Bool}\u001b[39m, ::Real) at complex.jl:253\n  -(\u001b[91m::BigFloat\u001b[39m, ::Union{Float16, Float32, Float64}) at mpfr.jl:351\n  ...\u001b[39m",
      "",
      "Stacktrace:",
      " [1] \u001b[1mcollect\u001b[22m\u001b[22m\u001b[1m(\u001b[22m\u001b[22m::Base.Generator{Array{Int64,1},##4#5}\u001b[1m)\u001b[22m\u001b[22m at \u001b[1m./array.jl:441\u001b[22m\u001b[22m",
      " [2] \u001b[1minclude_string\u001b[22m\u001b[22m\u001b[1m(\u001b[22m\u001b[22m::String, ::String\u001b[1m)\u001b[22m\u001b[22m at \u001b[1m./loading.jl:515\u001b[22m\u001b[22m"
     ]
    }
   ],
   "source": [
    "Erro = [abs(exponencial(5.0, n) - exp(5.0))/exp(5.0) for n in N]\n",
    "scatter(N, Erro, yaxis=:log)"
   ]
  },
  {
   "cell_type": "markdown",
   "metadata": {},
   "source": [
    "Veja que é erro é muito maior para $x = 5$ do que para $x = 1$. Isso acontece porque os termos além de $n > 20$  ainda são importantes para a aproximação de $e^5$.\n",
    "A primeira vista, uma simples solução seria utilizar $n > 20$, mas veja o que acontece com nossa implementação."
   ]
  },
  {
   "cell_type": "markdown",
   "metadata": {},
   "source": [
    "Se você se lembra bem, isso acontece porque para $21!$ é maior que o máximo dos inteiros de 64 bits. Isso quer dizer que para calcular $e^x$ corretamente, devemos dar mais atenção aos detalhes do algoritmo.\n",
    "Note também que $x^n$ pode acabar ficando muito grande para $x$ e $n$ grandes e causar overflow também."
   ]
  },
  {
   "cell_type": "markdown",
   "metadata": {},
   "source": [
    "Revisitando nossa soma:\n",
    "$$ s_n = 1 + x + \\frac{x^2}{2} + \\dots + \\frac{x^n}{n!}, $$\n",
    "de modo que\n",
    "$$ s_n = s_{n-1} + \\frac{x^n}{n!}. $$\n",
    "O termo à direita da soma não pode ser calculado diretamente pois cada termo da fração pode \"explodir\" (termo que utilizarei para dizer causar overflow). No entanto, o resultado da fração é bem comportado, então podemos tentar chegar nesse valor de outra maneira."
   ]
  },
  {
   "cell_type": "markdown",
   "metadata": {},
   "source": [
    "Veja que\n",
    "$$ \\frac{x^n}{n!} = \\frac{x\\times x\\times x\\times\\dots\\times x}{1\\times2\\times3\\times\\dots\\times n}\n",
    "= \\frac{x}{1}\\times\\frac{x}{2}\\times\\frac{x}{3}\\times\\dots\\times\\frac{x}{n},\n",
    "$$\n",
    "então podemos fazer esse cálculo seguindo essa ordem, de maneira que o produto todo ficará equilibrado."
   ]
  },
  {
   "cell_type": "markdown",
   "metadata": {},
   "source": [
    "No entanto, é possível deixar esse produto mais eficiente. Note que se chamarmos $t_n = \\dfrac{x^n}{n!}$, então\n",
    "\n",
    "$$ s_n = s_{n-1} + t_n, $$\n",
    "e\n",
    "$$ t_n = t_{n-1}\\times\\frac{x}{n}. $$"
   ]
  },
  {
   "cell_type": "markdown",
   "metadata": {},
   "source": [
    "Em outras palavras, a sequência que é somada também pode ser calculada utilizando o termo anterior. Cada iteração fará então apenas um produto, uma divisão, e uma soma."
   ]
  },
  {
   "cell_type": "code",
   "execution_count": 92,
   "metadata": {
    "collapsed": true
   },
   "outputs": [],
   "source": [
    "#=\n",
    "    Entrada: x e n ≧ 0\n",
    "1. Inicialização: E ← 1.0, t ← 1.0\n",
    "2. Para k de 1 à n\n",
    "    1. t ← t * x / k\n",
    "    2. E ← E + t\n",
    "3. Retorne E\n",
    "    Saída: E ≈ eˣ com n termos da expansão de Taylor\n",
    "=#"
   ]
  },
  {
   "cell_type": "code",
   "execution_count": 93,
   "metadata": {},
   "outputs": [
    {
     "data": {
      "text/plain": [
       "exponencial2 (generic function with 1 method)"
      ]
     },
     "execution_count": 93,
     "metadata": {},
     "output_type": "execute_result"
    }
   ],
   "source": [
    "function exponencial2(x, n)\n",
    "    # Implemente\n",
    "end"
   ]
  },
  {
   "cell_type": "code",
   "execution_count": 94,
   "metadata": {},
   "outputs": [
    {
     "ename": "LoadError",
     "evalue": "\u001b[91mMethodError: no method matching -(::Void, ::Float64)\u001b[0m\nClosest candidates are:\n  -(\u001b[91m::Float64\u001b[39m, ::Float64) at float.jl:377\n  -(\u001b[91m::Complex{Bool}\u001b[39m, ::Real) at complex.jl:253\n  -(\u001b[91m::BigFloat\u001b[39m, ::Union{Float16, Float32, Float64}) at mpfr.jl:351\n  ...\u001b[39m",
     "output_type": "error",
     "traceback": [
      "\u001b[91mMethodError: no method matching -(::Void, ::Float64)\u001b[0m\nClosest candidates are:\n  -(\u001b[91m::Float64\u001b[39m, ::Float64) at float.jl:377\n  -(\u001b[91m::Complex{Bool}\u001b[39m, ::Real) at complex.jl:253\n  -(\u001b[91m::BigFloat\u001b[39m, ::Union{Float16, Float32, Float64}) at mpfr.jl:351\n  ...\u001b[39m",
      "",
      "Stacktrace:",
      " [1] \u001b[1mcollect\u001b[22m\u001b[22m\u001b[1m(\u001b[22m\u001b[22m::Base.Generator{Array{Int64,1},##6#7}\u001b[1m)\u001b[22m\u001b[22m at \u001b[1m./array.jl:441\u001b[22m\u001b[22m",
      " [2] \u001b[1minclude_string\u001b[22m\u001b[22m\u001b[1m(\u001b[22m\u001b[22m::String, ::String\u001b[1m)\u001b[22m\u001b[22m at \u001b[1m./loading.jl:515\u001b[22m\u001b[22m"
     ]
    }
   ],
   "source": [
    "N = collect(1:50)\n",
    "Erro = [abs(exponencial2(5.0, n) - exp(5.0))/exp(5.0) for n in N]\n",
    "Erro[find(Erro .== 0.0)] = eps()\n",
    "scatter(N, abs.(Erro), yaxis=:log)"
   ]
  },
  {
   "cell_type": "code",
   "execution_count": 95,
   "metadata": {},
   "outputs": [
    {
     "ename": "LoadError",
     "evalue": "\u001b[91mMethodError: no method matching -(::Void, ::Float64)\u001b[0m\nClosest candidates are:\n  -(\u001b[91m::Float64\u001b[39m, ::Float64) at float.jl:377\n  -(\u001b[91m::Complex{Bool}\u001b[39m, ::Real) at complex.jl:253\n  -(\u001b[91m::BigFloat\u001b[39m, ::Union{Float16, Float32, Float64}) at mpfr.jl:351\n  ...\u001b[39m",
     "output_type": "error",
     "traceback": [
      "\u001b[91mMethodError: no method matching -(::Void, ::Float64)\u001b[0m\nClosest candidates are:\n  -(\u001b[91m::Float64\u001b[39m, ::Float64) at float.jl:377\n  -(\u001b[91m::Complex{Bool}\u001b[39m, ::Real) at complex.jl:253\n  -(\u001b[91m::BigFloat\u001b[39m, ::Union{Float16, Float32, Float64}) at mpfr.jl:351\n  ...\u001b[39m",
      "",
      "Stacktrace:",
      " [1] \u001b[1mcollect\u001b[22m\u001b[22m\u001b[1m(\u001b[22m\u001b[22m::Base.Generator{Array{Int64,1},##8#9}\u001b[1m)\u001b[22m\u001b[22m at \u001b[1m./array.jl:441\u001b[22m\u001b[22m",
      " [2] \u001b[1minclude_string\u001b[22m\u001b[22m\u001b[1m(\u001b[22m\u001b[22m::String, ::String\u001b[1m)\u001b[22m\u001b[22m at \u001b[1m./loading.jl:515\u001b[22m\u001b[22m"
     ]
    }
   ],
   "source": [
    "N = collect(1:50)\n",
    "Erro = [abs(exponencial2(10.0, n) - exp(10.0))/exp(10.0) for n in N]\n",
    "Erro[find(Erro .== 0.0)] = eps()\n",
    "scatter(N, Erro, yaxis=:log)\n",
    "ylims!(eps()/2, 1.0)"
   ]
  },
  {
   "cell_type": "markdown",
   "metadata": {},
   "source": [
    "Perceba agora que a função `exp` não recebe um $n$ específico. A quantidade de termos calculados é específico para o valor $x$. Para $x = 0$, $n = 0$ basta, para $x = 1$, $n = 17$ basta, para $x = 10$, $n = 45$ foi necessário."
   ]
  },
  {
   "cell_type": "markdown",
   "metadata": {},
   "source": [
    "Em particular, como estamos fazendo uma atualização do tipo $s_n = s_{n-1} + t_n$ e $t_n$ tende a 0, podemos verificar se obtivemos um erro de arredondamento na soma, de modo que os termos seguintes também não acrescentarão nada."
   ]
  },
  {
   "cell_type": "code",
   "execution_count": 96,
   "metadata": {
    "collapsed": true
   },
   "outputs": [],
   "source": [
    "#=\n",
    "    Entrada: x\n",
    "1. Inicialização: E ← 1.0, t ← x, k ← 1\n",
    "2. Enquanto E + t ≠ E\n",
    "    1. E ← E + t\n",
    "    2. Incremente k\n",
    "    3. t ← t * x / k\n",
    "3. Retorne E\n",
    "    Saída: E ≈ eˣ\n",
    "=#"
   ]
  },
  {
   "cell_type": "code",
   "execution_count": 97,
   "metadata": {},
   "outputs": [
    {
     "data": {
      "text/plain": [
       "exponencial3 (generic function with 1 method)"
      ]
     },
     "execution_count": 97,
     "metadata": {},
     "output_type": "execute_result"
    }
   ],
   "source": [
    "function exponencial3(x)\n",
    "    # Implemente\n",
    "end"
   ]
  },
  {
   "cell_type": "code",
   "execution_count": 98,
   "metadata": {},
   "outputs": [
    {
     "ename": "LoadError",
     "evalue": "\u001b[91mMethodError: no method matching -(::Float64, ::Void)\u001b[0m\nClosest candidates are:\n  -(::Float64, \u001b[91m::Float64\u001b[39m) at float.jl:377\n  -(::Float64) at float.jl:367\n  -(\u001b[91m::PyCall.PyObject\u001b[39m, ::Any) at /home/abel/.julia/v0.6/PyCall/src/pyoperators.jl:11\n  ...\u001b[39m",
     "output_type": "error",
     "traceback": [
      "\u001b[91mMethodError: no method matching -(::Float64, ::Void)\u001b[0m\nClosest candidates are:\n  -(::Float64, \u001b[91m::Float64\u001b[39m) at float.jl:377\n  -(::Float64) at float.jl:367\n  -(\u001b[91m::PyCall.PyObject\u001b[39m, ::Any) at /home/abel/.julia/v0.6/PyCall/src/pyoperators.jl:11\n  ...\u001b[39m",
      "",
      "Stacktrace:",
      " [1] \u001b[1mcollect\u001b[22m\u001b[22m\u001b[1m(\u001b[22m\u001b[22m::Base.Generator{Array{Float64,1},##10#11}\u001b[1m)\u001b[22m\u001b[22m at \u001b[1m./array.jl:441\u001b[22m\u001b[22m",
      " [2] \u001b[1m#adapted_grid#33\u001b[22m\u001b[22m\u001b[1m(\u001b[22m\u001b[22m::Int64, ::Function, ::##10#11, ::Tuple{Int64,Float64}\u001b[1m)\u001b[22m\u001b[22m at \u001b[1m/home/abel/.julia/v0.6/PlotUtils/src/adapted_grid.jl:43\u001b[22m\u001b[22m",
      " [3] \u001b[1mmacro expansion\u001b[22m\u001b[22m at \u001b[1m/home/abel/.julia/v0.6/Plots/src/series.jl:441\u001b[22m\u001b[22m [inlined]",
      " [4] \u001b[1mapply_recipe\u001b[22m\u001b[22m\u001b[1m(\u001b[22m\u001b[22m::Dict{Symbol,Any}, ::Function, ::Int64, ::Float64\u001b[1m)\u001b[22m\u001b[22m at \u001b[1m/home/abel/.julia/v0.6/RecipesBase/src/RecipesBase.jl:259\u001b[22m\u001b[22m",
      " [5] \u001b[1m_process_userrecipes\u001b[22m\u001b[22m\u001b[1m(\u001b[22m\u001b[22m::Plots.Plot{Plots.PyPlotBackend}, ::Dict{Symbol,Any}, ::Tuple{##10#11,Int64,Float64}\u001b[1m)\u001b[22m\u001b[22m at \u001b[1m/home/abel/.julia/v0.6/Plots/src/pipeline.jl:73\u001b[22m\u001b[22m",
      " [6] \u001b[1m_plot!\u001b[22m\u001b[22m\u001b[1m(\u001b[22m\u001b[22m::Plots.Plot{Plots.PyPlotBackend}, ::Dict{Symbol,Any}, ::Tuple{##10#11,Int64,Float64}\u001b[1m)\u001b[22m\u001b[22m at \u001b[1m/home/abel/.julia/v0.6/Plots/src/plot.jl:171\u001b[22m\u001b[22m",
      " [7] \u001b[1m#plot#136\u001b[22m\u001b[22m\u001b[1m(\u001b[22m\u001b[22m::Array{Any,1}, ::Function, ::Function, ::Vararg{Any,N} where N\u001b[1m)\u001b[22m\u001b[22m at \u001b[1m/home/abel/.julia/v0.6/Plots/src/plot.jl:52\u001b[22m\u001b[22m",
      " [8] \u001b[1mplot\u001b[22m\u001b[22m\u001b[1m(\u001b[22m\u001b[22m::Function, ::Int64, ::Vararg{Any,N} where N\u001b[1m)\u001b[22m\u001b[22m at \u001b[1m/home/abel/.julia/v0.6/Plots/src/plot.jl:46\u001b[22m\u001b[22m",
      " [9] \u001b[1minclude_string\u001b[22m\u001b[22m\u001b[1m(\u001b[22m\u001b[22m::String, ::String\u001b[1m)\u001b[22m\u001b[22m at \u001b[1m./loading.jl:515\u001b[22m\u001b[22m"
     ]
    }
   ],
   "source": [
    "plot(x->exp(x) - exponencial3(x), 0, 10.0)"
   ]
  },
  {
   "cell_type": "code",
   "execution_count": 99,
   "metadata": {},
   "outputs": [
    {
     "ename": "LoadError",
     "evalue": "\u001b[91mMethodError: no method matching -(::Float64, ::Void)\u001b[0m\nClosest candidates are:\n  -(::Float64, \u001b[91m::Float64\u001b[39m) at float.jl:377\n  -(::Float64) at float.jl:367\n  -(\u001b[91m::PyCall.PyObject\u001b[39m, ::Any) at /home/abel/.julia/v0.6/PyCall/src/pyoperators.jl:11\n  ...\u001b[39m",
     "output_type": "error",
     "traceback": [
      "\u001b[91mMethodError: no method matching -(::Float64, ::Void)\u001b[0m\nClosest candidates are:\n  -(::Float64, \u001b[91m::Float64\u001b[39m) at float.jl:377\n  -(::Float64) at float.jl:367\n  -(\u001b[91m::PyCall.PyObject\u001b[39m, ::Any) at /home/abel/.julia/v0.6/PyCall/src/pyoperators.jl:11\n  ...\u001b[39m",
      "",
      "Stacktrace:",
      " [1] \u001b[1mcollect\u001b[22m\u001b[22m\u001b[1m(\u001b[22m\u001b[22m::Base.Generator{Array{Float64,1},##12#13}\u001b[1m)\u001b[22m\u001b[22m at \u001b[1m./array.jl:441\u001b[22m\u001b[22m",
      " [2] \u001b[1m#adapted_grid#33\u001b[22m\u001b[22m\u001b[1m(\u001b[22m\u001b[22m::Int64, ::Function, ::##12#13, ::Tuple{Int64,Float64}\u001b[1m)\u001b[22m\u001b[22m at \u001b[1m/home/abel/.julia/v0.6/PlotUtils/src/adapted_grid.jl:43\u001b[22m\u001b[22m",
      " [3] \u001b[1mmacro expansion\u001b[22m\u001b[22m at \u001b[1m/home/abel/.julia/v0.6/Plots/src/series.jl:441\u001b[22m\u001b[22m [inlined]",
      " [4] \u001b[1mapply_recipe\u001b[22m\u001b[22m\u001b[1m(\u001b[22m\u001b[22m::Dict{Symbol,Any}, ::Function, ::Int64, ::Float64\u001b[1m)\u001b[22m\u001b[22m at \u001b[1m/home/abel/.julia/v0.6/RecipesBase/src/RecipesBase.jl:259\u001b[22m\u001b[22m",
      " [5] \u001b[1m_process_userrecipes\u001b[22m\u001b[22m\u001b[1m(\u001b[22m\u001b[22m::Plots.Plot{Plots.PyPlotBackend}, ::Dict{Symbol,Any}, ::Tuple{##12#13,Int64,Float64}\u001b[1m)\u001b[22m\u001b[22m at \u001b[1m/home/abel/.julia/v0.6/Plots/src/pipeline.jl:73\u001b[22m\u001b[22m",
      " [6] \u001b[1m_plot!\u001b[22m\u001b[22m\u001b[1m(\u001b[22m\u001b[22m::Plots.Plot{Plots.PyPlotBackend}, ::Dict{Symbol,Any}, ::Tuple{##12#13,Int64,Float64}\u001b[1m)\u001b[22m\u001b[22m at \u001b[1m/home/abel/.julia/v0.6/Plots/src/plot.jl:171\u001b[22m\u001b[22m",
      " [7] \u001b[1m#plot#136\u001b[22m\u001b[22m\u001b[1m(\u001b[22m\u001b[22m::Array{Any,1}, ::Function, ::Function, ::Vararg{Any,N} where N\u001b[1m)\u001b[22m\u001b[22m at \u001b[1m/home/abel/.julia/v0.6/Plots/src/plot.jl:52\u001b[22m\u001b[22m",
      " [8] \u001b[1mplot\u001b[22m\u001b[22m\u001b[1m(\u001b[22m\u001b[22m::Function, ::Int64, ::Vararg{Any,N} where N\u001b[1m)\u001b[22m\u001b[22m at \u001b[1m/home/abel/.julia/v0.6/Plots/src/plot.jl:46\u001b[22m\u001b[22m",
      " [9] \u001b[1minclude_string\u001b[22m\u001b[22m\u001b[1m(\u001b[22m\u001b[22m::String, ::String\u001b[1m)\u001b[22m\u001b[22m at \u001b[1m./loading.jl:515\u001b[22m\u001b[22m"
     ]
    }
   ],
   "source": [
    "plot(x->abs(exp(x) - exponencial3(x))/exp(x), 0, 10.0)"
   ]
  },
  {
   "cell_type": "markdown",
   "metadata": {},
   "source": [
    "Por fim, vejamos o que acontece com $x < 0$."
   ]
  },
  {
   "cell_type": "code",
   "execution_count": 100,
   "metadata": {},
   "outputs": [
    {
     "ename": "LoadError",
     "evalue": "\u001b[91mMethodError: no method matching -(::Float64, ::Void)\u001b[0m\nClosest candidates are:\n  -(::Float64, \u001b[91m::Float64\u001b[39m) at float.jl:377\n  -(::Float64) at float.jl:367\n  -(\u001b[91m::PyCall.PyObject\u001b[39m, ::Any) at /home/abel/.julia/v0.6/PyCall/src/pyoperators.jl:11\n  ...\u001b[39m",
     "output_type": "error",
     "traceback": [
      "\u001b[91mMethodError: no method matching -(::Float64, ::Void)\u001b[0m\nClosest candidates are:\n  -(::Float64, \u001b[91m::Float64\u001b[39m) at float.jl:377\n  -(::Float64) at float.jl:367\n  -(\u001b[91m::PyCall.PyObject\u001b[39m, ::Any) at /home/abel/.julia/v0.6/PyCall/src/pyoperators.jl:11\n  ...\u001b[39m",
      "",
      "Stacktrace:",
      " [1] \u001b[1mcollect\u001b[22m\u001b[22m\u001b[1m(\u001b[22m\u001b[22m::Base.Generator{Array{Float64,1},##14#15}\u001b[1m)\u001b[22m\u001b[22m at \u001b[1m./array.jl:441\u001b[22m\u001b[22m",
      " [2] \u001b[1m#adapted_grid#33\u001b[22m\u001b[22m\u001b[1m(\u001b[22m\u001b[22m::Int64, ::Function, ::##14#15, ::Tuple{Float64,Float64}\u001b[1m)\u001b[22m\u001b[22m at \u001b[1m/home/abel/.julia/v0.6/PlotUtils/src/adapted_grid.jl:43\u001b[22m\u001b[22m",
      " [3] \u001b[1mmacro expansion\u001b[22m\u001b[22m at \u001b[1m/home/abel/.julia/v0.6/Plots/src/series.jl:441\u001b[22m\u001b[22m [inlined]",
      " [4] \u001b[1mapply_recipe\u001b[22m\u001b[22m\u001b[1m(\u001b[22m\u001b[22m::Dict{Symbol,Any}, ::Function, ::Float64, ::Float64\u001b[1m)\u001b[22m\u001b[22m at \u001b[1m/home/abel/.julia/v0.6/RecipesBase/src/RecipesBase.jl:259\u001b[22m\u001b[22m",
      " [5] \u001b[1m_process_userrecipes\u001b[22m\u001b[22m\u001b[1m(\u001b[22m\u001b[22m::Plots.Plot{Plots.PyPlotBackend}, ::Dict{Symbol,Any}, ::Tuple{##14#15,Float64,Float64}\u001b[1m)\u001b[22m\u001b[22m at \u001b[1m/home/abel/.julia/v0.6/Plots/src/pipeline.jl:73\u001b[22m\u001b[22m",
      " [6] \u001b[1m_plot!\u001b[22m\u001b[22m\u001b[1m(\u001b[22m\u001b[22m::Plots.Plot{Plots.PyPlotBackend}, ::Dict{Symbol,Any}, ::Tuple{##14#15,Float64,Float64}\u001b[1m)\u001b[22m\u001b[22m at \u001b[1m/home/abel/.julia/v0.6/Plots/src/plot.jl:171\u001b[22m\u001b[22m",
      " [7] \u001b[1m#plot#136\u001b[22m\u001b[22m\u001b[1m(\u001b[22m\u001b[22m::Array{Any,1}, ::Function, ::Function, ::Vararg{Any,N} where N\u001b[1m)\u001b[22m\u001b[22m at \u001b[1m/home/abel/.julia/v0.6/Plots/src/plot.jl:52\u001b[22m\u001b[22m",
      " [8] \u001b[1mplot\u001b[22m\u001b[22m\u001b[1m(\u001b[22m\u001b[22m::Function, ::Float64, ::Vararg{Float64,N} where N\u001b[1m)\u001b[22m\u001b[22m at \u001b[1m/home/abel/.julia/v0.6/Plots/src/plot.jl:46\u001b[22m\u001b[22m",
      " [9] \u001b[1minclude_string\u001b[22m\u001b[22m\u001b[1m(\u001b[22m\u001b[22m::String, ::String\u001b[1m)\u001b[22m\u001b[22m at \u001b[1m./loading.jl:515\u001b[22m\u001b[22m"
     ]
    }
   ],
   "source": [
    "plot(x->abs(exp(x) - exponencial3(x))/exp(x), -10.0, 10.0)"
   ]
  },
  {
   "cell_type": "markdown",
   "metadata": {},
   "source": [
    "O erro cresce novamente. Isso acontece porque o termo $t_n$ fica alternando de sinal, e fica pequeno antes de contribuir o suficiente para fazer a diferença necessária.\n",
    "Uma maneira de remediar esse problema é usar a relação $e^x = \\dfrac{1}{e^{-x}}$."
   ]
  },
  {
   "cell_type": "code",
   "execution_count": 101,
   "metadata": {},
   "outputs": [
    {
     "data": {
      "text/plain": [
       "exponencial4 (generic function with 1 method)"
      ]
     },
     "execution_count": 101,
     "metadata": {},
     "output_type": "execute_result"
    }
   ],
   "source": [
    "function exponencial4(x)\n",
    "    if x < 0\n",
    "        return 1.0/exponencial4(-x)\n",
    "    end\n",
    "    # Implemente\n",
    "end"
   ]
  },
  {
   "cell_type": "code",
   "execution_count": 102,
   "metadata": {},
   "outputs": [
    {
     "ename": "LoadError",
     "evalue": "\u001b[91mMethodError: no method matching /(::Float64, ::Void)\u001b[0m\nClosest candidates are:\n  /(::Float64, \u001b[91m::Float64\u001b[39m) at float.jl:381\n  /(\u001b[91m::PyCall.PyObject\u001b[39m, ::Any) at /home/abel/.julia/v0.6/PyCall/src/pyoperators.jl:11\n  /(::R<:Real, \u001b[91m::S<:Complex\u001b[39m) where {R<:Real, S<:Complex} at complex.jl:278\n  ...\u001b[39m",
     "output_type": "error",
     "traceback": [
      "\u001b[91mMethodError: no method matching /(::Float64, ::Void)\u001b[0m\nClosest candidates are:\n  /(::Float64, \u001b[91m::Float64\u001b[39m) at float.jl:381\n  /(\u001b[91m::PyCall.PyObject\u001b[39m, ::Any) at /home/abel/.julia/v0.6/PyCall/src/pyoperators.jl:11\n  /(::R<:Real, \u001b[91m::S<:Complex\u001b[39m) where {R<:Real, S<:Complex} at complex.jl:278\n  ...\u001b[39m",
      "",
      "Stacktrace:",
      " [1] \u001b[1mexponencial4\u001b[22m\u001b[22m at \u001b[1m./In[101]:3\u001b[22m\u001b[22m [inlined]",
      " [2] \u001b[1m(::##16#17)\u001b[22m\u001b[22m\u001b[1m(\u001b[22m\u001b[22m::Float64\u001b[1m)\u001b[22m\u001b[22m at \u001b[1m./In[102]:1\u001b[22m\u001b[22m",
      " [3] \u001b[1mcollect\u001b[22m\u001b[22m\u001b[1m(\u001b[22m\u001b[22m::Base.Generator{Array{Float64,1},##16#17}\u001b[1m)\u001b[22m\u001b[22m at \u001b[1m./array.jl:441\u001b[22m\u001b[22m",
      " [4] \u001b[1m#adapted_grid#33\u001b[22m\u001b[22m\u001b[1m(\u001b[22m\u001b[22m::Int64, ::Function, ::##16#17, ::Tuple{Float64,Float64}\u001b[1m)\u001b[22m\u001b[22m at \u001b[1m/home/abel/.julia/v0.6/PlotUtils/src/adapted_grid.jl:43\u001b[22m\u001b[22m",
      " [5] \u001b[1mmacro expansion\u001b[22m\u001b[22m at \u001b[1m/home/abel/.julia/v0.6/Plots/src/series.jl:441\u001b[22m\u001b[22m [inlined]",
      " [6] \u001b[1mapply_recipe\u001b[22m\u001b[22m\u001b[1m(\u001b[22m\u001b[22m::Dict{Symbol,Any}, ::Function, ::Float64, ::Float64\u001b[1m)\u001b[22m\u001b[22m at \u001b[1m/home/abel/.julia/v0.6/RecipesBase/src/RecipesBase.jl:259\u001b[22m\u001b[22m",
      " [7] \u001b[1m_process_userrecipes\u001b[22m\u001b[22m\u001b[1m(\u001b[22m\u001b[22m::Plots.Plot{Plots.PyPlotBackend}, ::Dict{Symbol,Any}, ::Tuple{##16#17,Float64,Float64}\u001b[1m)\u001b[22m\u001b[22m at \u001b[1m/home/abel/.julia/v0.6/Plots/src/pipeline.jl:73\u001b[22m\u001b[22m",
      " [8] \u001b[1m_plot!\u001b[22m\u001b[22m\u001b[1m(\u001b[22m\u001b[22m::Plots.Plot{Plots.PyPlotBackend}, ::Dict{Symbol,Any}, ::Tuple{##16#17,Float64,Float64}\u001b[1m)\u001b[22m\u001b[22m at \u001b[1m/home/abel/.julia/v0.6/Plots/src/plot.jl:171\u001b[22m\u001b[22m",
      " [9] \u001b[1m#plot#136\u001b[22m\u001b[22m\u001b[1m(\u001b[22m\u001b[22m::Array{Any,1}, ::Function, ::Function, ::Vararg{Any,N} where N\u001b[1m)\u001b[22m\u001b[22m at \u001b[1m/home/abel/.julia/v0.6/Plots/src/plot.jl:52\u001b[22m\u001b[22m",
      " [10] \u001b[1mplot\u001b[22m\u001b[22m\u001b[1m(\u001b[22m\u001b[22m::Function, ::Float64, ::Vararg{Float64,N} where N\u001b[1m)\u001b[22m\u001b[22m at \u001b[1m/home/abel/.julia/v0.6/Plots/src/plot.jl:46\u001b[22m\u001b[22m",
      " [11] \u001b[1minclude_string\u001b[22m\u001b[22m\u001b[1m(\u001b[22m\u001b[22m::String, ::String\u001b[1m)\u001b[22m\u001b[22m at \u001b[1m./loading.jl:515\u001b[22m\u001b[22m"
     ]
    }
   ],
   "source": [
    "plot(x->abs(exp(x) - exponencial4(x))/exp(x), -10.0, 10.0)"
   ]
  },
  {
   "cell_type": "markdown",
   "metadata": {},
   "source": [
    "## Cálculo de $\\pi$"
   ]
  },
  {
   "cell_type": "markdown",
   "metadata": {},
   "source": [
    "Um tópico bastante interessante de computação matemática é o cálculo do valor de $\\pi$. O interesse no cálculo de $\\pi$ é antigo, e existem várias maneiras de fazê-lo. Além disso, a busca pelo valor de $\\pi$ com a maior quantidade de dígitos corretos é uma disputa matemática bastante acirrada."
   ]
  },
  {
   "cell_type": "markdown",
   "metadata": {},
   "source": [
    "Das maneiras de calcular $\\pi$, uma das mais interessantes, em minha opinião, é através da identidade\n",
    "$$ \\arctan 1 = \\frac{\\pi}{4} \\qquad \\Rightarrow \\qquad \\pi = 4 \\arctan 1. $$"
   ]
  },
  {
   "cell_type": "markdown",
   "metadata": {},
   "source": [
    "Agora, utilizamos a derivada de $\\arctan$:\n",
    "$$ \\frac{\\mbox{d}}{\\mbox{d}x}\\arctan x = \\frac{1}{1+x^2}, $$\n",
    "e a expansão da fração para $|x| < 1$:\n",
    "$$ \\frac{1}{1+x^2} = 1 - x^2 + x^4 - x^6 + \\dots + (-1)^n x^{2n} + \\dots. $$"
   ]
  },
  {
   "cell_type": "markdown",
   "metadata": {},
   "source": [
    "Integrando, temos\n",
    "$$ \\arctan x = x - \\frac{x^3}{3} + \\frac{x^5}{5} - \\frac{x^7}{7} + \\dots + (-1)^n\\frac{x^{2n+1}}{2n+1} + \n",
    "\\dots$$"
   ]
  },
  {
   "cell_type": "markdown",
   "metadata": {},
   "source": [
    "É possível mostrar que essa série converge para $x = 1$ também, de modo que\n",
    "$$ \\frac{\\pi}{4} = \\arctan 1 = 1 - \\frac{1}{3} + \\frac{1}{5} - \\frac{1}{7} + \\dots \\frac{(-1)^n}{2n+1} + \\dots. $$"
   ]
  },
  {
   "cell_type": "markdown",
   "metadata": {},
   "source": [
    "Utilizando conceitos parecidos com o da expansão da exponencial, podemos calcular $\\pi$ sem precisar passar um valor de $n$, **porém**, essa convergência é muito lento. No exemplo abaixo, colocaremos uma condição de parada para $n > 1.000.000.000$."
   ]
  },
  {
   "cell_type": "code",
   "execution_count": 103,
   "metadata": {},
   "outputs": [
    {
     "data": {
      "text/plain": [
       "pi_atan (generic function with 1 method)"
      ]
     },
     "execution_count": 103,
     "metadata": {},
     "output_type": "execute_result"
    }
   ],
   "source": [
    "function pi_atan()\n",
    "    S = 1.0\n",
    "    n = 1\n",
    "    σ = -1\n",
    "    t = σ/(2n+1)\n",
    "    while S + t != S\n",
    "        S += t\n",
    "        σ = -σ\n",
    "        n += 1\n",
    "        t = σ/(2n+1)\n",
    "        if n > 1_000_000_000\n",
    "            break\n",
    "        end\n",
    "    end\n",
    "    return 4S\n",
    "end"
   ]
  },
  {
   "cell_type": "code",
   "execution_count": 104,
   "metadata": {},
   "outputs": [
    {
     "name": "stdout",
     "output_type": "stream",
     "text": [
      "  1.747224 seconds (1.73 k allocations: 101.885 KiB)\n"
     ]
    },
    {
     "data": {
      "text/plain": [
       "9.982574766809194e-10"
      ]
     },
     "execution_count": 104,
     "metadata": {},
     "output_type": "execute_result"
    }
   ],
   "source": [
    "@time pi_atan() - pi"
   ]
  },
  {
   "cell_type": "markdown",
   "metadata": {},
   "source": [
    "O valor é, de fato, calculado até uma aproximação razoável, mas demora muito e leva muitas iterações.\n",
    "Por sorte, existem dezenas de outras maneiras de se calcular $\\pi$."
   ]
  },
  {
   "cell_type": "markdown",
   "metadata": {},
   "source": [
    "Uma dessas maneiras é a série\n",
    "$$ \\pi = \\sqrt{12}\\bigg(1 - \\frac{1}{3\\times 3} + \\frac{1}{5\\times 3^2} - \\frac{1}{7\\times 3^3} + \\frac{1}{9\\times 3^4} - \\dots\\bigg) = \\sqrt{12}\\sum_{k=0}^{\\infty}\\frac{(-1)^k}{(2k+1)3^k}. $$"
   ]
  },
  {
   "cell_type": "code",
   "execution_count": 105,
   "metadata": {},
   "outputs": [
    {
     "data": {
      "text/plain": [
       "pi_madhava (generic function with 1 method)"
      ]
     },
     "execution_count": 105,
     "metadata": {},
     "output_type": "execute_result"
    }
   ],
   "source": [
    "function pi_madhava()\n",
    "    S = 1.0\n",
    "    third = 1.0/3.0\n",
    "    σ = -1\n",
    "    pow_third = third\n",
    "    t = σ * third * third\n",
    "    n = 1\n",
    "    while S + t != S\n",
    "        S += t\n",
    "        n += 1\n",
    "        pow_third *= third\n",
    "        σ = -σ\n",
    "        t = σ * pow_third / (2n + 1)\n",
    "    end\n",
    "    println(\"n = $n\") # Usar para mostrar quantas iterações\n",
    "    return sqrt(12) * S\n",
    "end"
   ]
  },
  {
   "cell_type": "code",
   "execution_count": 106,
   "metadata": {},
   "outputs": [
    {
     "name": "stdout",
     "output_type": "stream",
     "text": [
      "n = 31\n"
     ]
    },
    {
     "data": {
      "text/plain": [
       "8.881784197001252e-16"
      ]
     },
     "execution_count": 106,
     "metadata": {},
     "output_type": "execute_result"
    }
   ],
   "source": [
    "pi_madhava() - pi"
   ]
  },
  {
   "cell_type": "markdown",
   "metadata": {},
   "source": [
    "Note que com 31 iterações já chegamos num valor de $\\pi$ decente."
   ]
  },
  {
   "cell_type": "markdown",
   "metadata": {},
   "source": [
    "### $\\pi$ com BigFloat"
   ]
  },
  {
   "cell_type": "markdown",
   "metadata": {},
   "source": [
    "Como dito anteriormente, existe uma busca por $\\pi$ com diversas casas decimais corretas. Você já deve ter percebido que o Julia traz uma implementação própria de $\\pi$, chamada através de `pi`. Essa aproximação pode ser vista com `BigFloat` também."
   ]
  },
  {
   "cell_type": "code",
   "execution_count": 107,
   "metadata": {},
   "outputs": [
    {
     "data": {
      "text/plain": [
       "3.14159265358979323846264338327950288419716939937510582097494459230781640628620899862803482534211706798214808651328230664709384460955058223172535940812848115"
      ]
     },
     "execution_count": 107,
     "metadata": {},
     "output_type": "execute_result"
    }
   ],
   "source": [
    "BigFloat(pi)"
   ]
  },
  {
   "cell_type": "markdown",
   "metadata": {},
   "source": [
    "Podemos modificar nossa implementação para buscar $\\pi$ com `BigFloat` também."
   ]
  },
  {
   "cell_type": "code",
   "execution_count": 108,
   "metadata": {},
   "outputs": [
    {
     "data": {
      "text/plain": [
       "pi_madhava_BF (generic function with 1 method)"
      ]
     },
     "execution_count": 108,
     "metadata": {},
     "output_type": "execute_result"
    }
   ],
   "source": [
    "function pi_madhava_BF()\n",
    "    S = BigFloat(1.0)\n",
    "    third = BigFloat(1.0)/3.0\n",
    "    σ = -1\n",
    "    pow_third = third\n",
    "    t = σ * third * third\n",
    "    n = 1\n",
    "    while S + t != S\n",
    "        S += t\n",
    "        n += 1\n",
    "        pow_third *= third\n",
    "        σ = -σ\n",
    "        t = σ * pow_third / (2n + 1)\n",
    "    end\n",
    "    println(\"n = $n\") # Usar para mostrar quantas iterações\n",
    "    return sqrt(BigFloat(12.0)) * S\n",
    "end"
   ]
  },
  {
   "cell_type": "code",
   "execution_count": 109,
   "metadata": {},
   "outputs": [
    {
     "data": {
      "text/plain": [
       "45425"
      ]
     },
     "execution_count": 109,
     "metadata": {},
     "output_type": "execute_result"
    }
   ],
   "source": [
    "setprecision(2^16)\n",
    "round(Int, -log(eps(BigFloat)))"
   ]
  },
  {
   "cell_type": "code",
   "execution_count": 110,
   "metadata": {},
   "outputs": [
    {
     "name": "stdout",
     "output_type": "stream",
     "text": [
      "n = 41339\n",
      "  6.306403 seconds (422.10 k allocations: 1.591 GiB, 1.57% gc time)\n"
     ]
    }
   ],
   "source": [
    "@time pi_madhava_BF();"
   ]
  },
  {
   "cell_type": "markdown",
   "metadata": {},
   "source": [
    "## Aproximações da derivada\n",
    "\n",
    "Outro tópico importante é o de aproximar derivadas.\n",
    "A definição da derivada é\n",
    "$$ \\lim_{h \\rightarrow 0} \\frac{f(x+h) - f(x)}{h}, $$\n",
    "então podemos aproveitar essa definição é escolher um $h$ pequeno e não nulo para aproximar essa derivada.\n",
    "\n",
    "Vamos testar essa aproximação com $f(x) = e^x$, cuja derivada é $f'(x)$."
   ]
  },
  {
   "cell_type": "code",
   "execution_count": 111,
   "metadata": {},
   "outputs": [
    {
     "data": {
      "text/plain": [
       "D (generic function with 1 method)"
      ]
     },
     "execution_count": 111,
     "metadata": {},
     "output_type": "execute_result"
    }
   ],
   "source": [
    "D(x, h) = (exp(x+h) - exp(x))/h"
   ]
  },
  {
   "cell_type": "code",
   "execution_count": 112,
   "metadata": {},
   "outputs": [
    {
     "data": {
      "text/plain": [
       "f (generic function with 1 method)"
      ]
     },
     "execution_count": 112,
     "metadata": {},
     "output_type": "execute_result"
    }
   ],
   "source": [
    "f(x) = exp(x)"
   ]
  },
  {
   "cell_type": "code",
   "execution_count": 113,
   "metadata": {},
   "outputs": [
    {
     "data": {
      "text/html": [
       "<img src=\"data:image/png;base64,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\" />"
      ]
     },
     "execution_count": 113,
     "metadata": {},
     "output_type": "execute_result"
    }
   ],
   "source": [
    "# Aproximação para $h = 1e-4$\n",
    "h = 1e-4\n",
    "plot(f, -1, 1, c=:blue)\n",
    "plot!(x->D(x, h), -1, 1, c=:red)"
   ]
  },
  {
   "cell_type": "markdown",
   "metadata": {},
   "source": [
    "Essa aproximação parece bastante boa. Vamos ver num intervalo maior."
   ]
  },
  {
   "cell_type": "code",
   "execution_count": 114,
   "metadata": {},
   "outputs": [
    {
     "data": {
      "text/html": [
       "<img src=\"data:image/png;base64,iVBORw0KGgoAAAANSUhEUgAAAZAAAAEsCAYAAADtt+XCAAAABHNCSVQICAgIfAhkiAAAAAlwSFlzAAAPYQAAD2EBqD+naQAAIABJREFUeJzt3Xt8VdW97/3PysqVJGtxF0KASAC5SAURIVopKBVF662kPNZSLIJad3HX9OCpsHvA1l0eW01Pn8LpPtVuT9k8pQitnLrtkVqqUmpaUEHKTUSQJISYEJJ1v6/f+WPBVIRALmtmJpPf+/XKy0nmuvzGd8WMjDHnHNMhIoJSSinVThlWF6CUUqpn0g5EKaVUh2RaXUBHJJNJ6urqKCwsxOFwWF2OUkrZnojg8/koKioiIyM19uiRHUhdXR1Dhw61ugyllLrk1NTUUFxcDPTQDqSwsBBINcTlcllcjT1EIhGee+45Fi9eTE5OjtXl2I7maz7N2Fx/HXYrczxvGb9/oYd2IGemrVwul3YgaRIMBtm1axf5+fn06tXL6nJsR/M1n2ZsrgERP8BZhw0cPfE0Xq/Xi9vtxuPxaAeilFJdYF9mCVcmjp31e7dHjkBU+kUiEVatWsUTTzyhw38TaL7mszLjaDTKsWPHSCQSXfq+6ZaRkcHgwYPPmqY6ozDRcs73tANRQOrMttraWpLJpNWl2JLmaz6rMq6treWrX/0qwWCwS9/XTHfffTdPPPGEcbZVMp7Eheecx+kUllJKdVAymeThhx+mvr6e73//++Tm5lpdUqfEYjF27drFz372M+666y6WL18OgOdYC46SPrjh7N+70gN5PB4BxOPxWF2KbYRCIXnsscckFApZXYotab7msyLjjz/+WCZPniyvvvpql71nV/jVr34lkydPFq/XKyIi1W8eEQ+c83tXr0RXSqkOamlJHRc4c12EXUyaNAmAEydOABCobT7v4/QYiAIgNzeXyspKq8uwLc3XfFZkfOZ4i9Pp7NL3NVtWVhbwSfuCx8/fgegIRAEQCoVYtGgRoVDI6lJsSfM1n2Z8YR999BEzZszA7XYzceLEdj03Uq8diLqAjIwMiouLjbMuVHppvubTjC/M5XLx1FNP8etf/7rdz401NnO+c9s0aQVATk4OK1eu1GsUTKL5mk8zTnnmmWd48MEHjX+3tLTQv39/AD7/+c+Tn5/f7tdMnmzGQ+9zvp8BEA6Hueuuuxg9ejRXXXUVX/ziFzl8+DAADQ0N3HLLLYwaNYorr7ySbdu2GU8OBoPce++9jBw5ktGjR7Np06ZP3jCZZMmSJZSWljJy5EhWr1591hs/9dRTlJaWUlpaapwqpqwTDAYpLy+31bns3Ynma77ukvGRI/Duu+n/OnKkbe+/aNEiNm/ebBzgf+GFF7jzzjvp27dvxxvVfAqf89wOxDiI/uCDD3LrrbficDhYvXo1ixYt4o033uC73/0u06ZN49VXX2Xnzp3cfffdHD16lKysLJ555hlycnI4fPgwR48eZerUqcycOZN+/fqxbt069u/fz6FDh/B4PEyaNImZM2cyfvx4tm3bxvr169mzZw+ZmZlcf/31XHfdddx2220db6DqFKfTSVlZme0OBnYXmq/5ukPGJ0/CqFFgxrWMTifU18PpwUSrevfuzdy5c/n3f/93HnvsMX7+85+zYcOGTr13Rkszweze8JnDS5mQOnthzpw5xjenTZvGM888A8CLL75ojEamTJlCUVERb775JrNmzWLDhg388pe/BODyyy9nxowZvPTSSyxatIgNGzawePFinE4nffv2Zd68eaxfv56nnnqKDRs2MH/+fGMotXDhQtavX68diIVycnKoqKiwugzb0nzN1x0y7t8fPvgAWs5d9aPTeve+eOdxxqOPPsodd9zB2LFjGTBggHFabkdl+ZsJ5fY5pwM57zGQn/70p9x55500NTURi8UYNGiQsa+kpITq6moAqqurGT58eFr3nU8kEsHr9Z71BRhnW4TDYcLhsPG9SCQCpIa0Z7YDgQDRaNTYjsViAPj9fuLxOAA+n8/Y9nq9xro2Xq+XZDKJiOD1ehERksmkUUcikTC24/E4Pp/P2Pb7UytYxmIxAoEAkFo358x2JBIxhtyRSMSyNvn9fm6++WbjvG87tKk7fU7Nzc3Mnj2bhoYG27Spu31OgUCAL37xizQ2NnZ5mxKJBCKCiDB8eIJJk4RJk4Srrkpw9dW0aXvixOQFt0eMSB0aOHNqbWvbiUSC0aNHM2LECB588EEeeeQR4/ufXuZFTi9Ccqb2z26feU0RIStwimheK8dAPu2HP/whhw8fZtWqVec82CqrVq3C7XYbX2duJrV06VIAli1bxrJlywBYsmSJUfuCBQtYs2YNAPfccw9r164FYNasWWzevBmAqVOnsnXrVgDGjh3Lzp07gdSFQQcPHgTA7XZTV1eHz+fD7Xbj8/moq6vD7XYDcPDgQeNCop07dzJ27FgAtm7dytSpUwHYvHkzs2bNAmDt2rXcc889AKxZs4YFCxYY7VyyZIklbQqHw8yaNYuioiLbtKk7fU4bNmygvLycO+64wzZt6m6fU1ZWFn369OHhhx/usjYdOX1g4sCBA8RiMZLJJLt27SKZTBrLgkCqA3vvvfeAVOe0d+9eINUJHThwAEgd7D506BAATU1NfPjhh0DqOPRHH30EQH19vfHH9vHjxzl+/DiQ+qO8vr4eSJ2u29DQwOLFi4lEIsycOROA9957j+LiYsrLy9m3bx/FxcU88cQT7N271+iM33vvPaOjrampoaGhAZ/Ph6P5OJH88ywb9enL13/84x/L5MmTpbm52fher1695MSJE8a/p0yZIq+99pqIiIwbN06qqqqMfeXl5fLcc8+JiMicOXNk/fr1xr6lS5fK8uXLRUTkkUcekVWrVhn71qxZI/fdd1+rl9WHw2HxeDzGV01NjQBSX18vIqklDM4sXxAMBiUcDouISCAQMLb9fr9EIhFjOxqNioiIz+eTWCwmIiJer9fY9ng8Eo/Hje1EIiHJZFI8Ho8kk0lJJBLGJf3xeNzYjsVixuX/sVhMfD6fiIhEo1Hx+/0iIhKJRIztcDgsgUDA2A4Gg9ombZO2qYe0ae/evTJ58mTZu3evJJNJSSaTEo/Hz9oWkTZtJxKJNm0nEokLbsfjcUkkEvJP//RPsnLlynO+f2Y7mUy2un3gwAGZNGmS7Nu3T5LJpFQ7S+TlKRXnLGVidCDPPvusXH311XLq1Cn5tAULFsiKFStERGTHjh1SVFRkBLtixQpZsGCBiIgcOXJEBgwYII2NjSIi8sILL8iNN94o8XhcmpqaZNiwYbJnzx4REXn99ddl3Lhx4vf7JRwOy+TJk+Xll1+WttK1sNLP7/fLtGnTjP8RVXppvuazIuMDBw7I5MmT5cCBA132nhdz/PhxueKKK6SsrMzofNvrs+1qwS3/efMPzvm9mwmp5Yi/853vMGLECGO4k5OTw9///neefvpp5s+fz6hRo8jOzmbdunXGZe5Lly5l4cKFlJaW4nQ6Wb16tXG+8fz589m5cyejRo3C4XBQUVHBhAkTAJgxYwbz5s0z/j1v3jxuv/32c4dHqstkZ2dTUVFBdna21aXYkuZrPs04paioyJguTId4OI4bD87+fc7Zp8u5K6VUBx08eJCvfe1rrFu3jjFjxlhdTtp8ul0DHP3pN2YAf37s/+emn9x31u9dvRJdAakzTcaPH2+c5aLSS/M1n2ZsDt+xUwBkDzp3BKIdiAI+Wcm0p98Qp7vSfM2nGZvDX5NaSLHX4Atcia4ubZmZmcyePdvqMmxL8zWfZmyO0PHUCKRgqI5AVCt8Ph/FxcXGRVsqvTRf82nGF/bnP/+Za6+9lnHjxjF+/Hgef/zxNt0/Plqf6kBcJdqBqFbk5eWxceNG8vLyrC7FljRf82nGF9anTx9+85vfsH//ft555x3eeust48LJC4l/3ESQPHr1PTdX7UAUkBr+l5WVkZmps5pm0HzNpxmntLac+/DhwxkxYgSQOl40ceJE4wr3C5GmU3gyzr+Sr3YgCkidGu1yuYw1iFR6ab7m04xT2rKce319PZs2bWrT9XeOU034ss/fgVzaXbUy5OfnU1VV1aGbzaiL03zN120yPnLEvOV4T48gLvywCy/n7vV6+dKXvsTjjz/ONddcc9HXy/SeIpDT7/z72l69sjOn08n48eOtLsO2NF/zdYuMu8MNQWh9OXefz8ctt9zCnXfe2eal73P8TUTydQSiLkCv7jeX5mu+bpFxN7khyJgxY4zl3H/0ox8BqQstb7nlFm655Rb+5V/+pc1vmxc+RVP/oefdpx2IAqCgoICamhoKCgqsLsWWNF/zdZuM2zDN1BUWL17Mt771LebOnQuk7vO0Y8cOAoEAv/vd7wAoLy+/6C3FCyJNNLp1BKIuwOFw4HK5cDgcVpdiS5qv+TTjs73++us88sgjxuK3y5cvv2hncT69403Q7/zHQPQsLAVw1s19VPppvubTjFPq6uoYM2YM7777Lt/+9rc79VrxyOmVeAfqQXR1AYWFhXg8HgoLC60uxZY0X/NpxinpXM7dW+0BIHuwjkDUBcin7k+t0k/zNZ9mnH7+2tTJALlDtANRF+D3+xk6dKguhW0Szdd8mnH6hU6kOpD8YTqFpS7A5XLpX24m0nzNZ0XGGRmpv8FjsViXvq/ZwuEwALGG1PEk9wjtQNQFJBIJDh48yJgxY3A6nVaXYzuar/msyLioqIjs7Gyee+45Fi9ebJzx1FMlEglqa2tZvXo1vXr1ol8o1UH2HtGXUDx0zuO1A1EABAIBysrKqK2t1QvdTKD5ms+KjAsKCqisrKSiooK33nqrS96zK0yePJl/+7d/4/BDv8aDC3evLEJe7UBUK3QROnNpvuazKuNp06bxxz/+kbq6ujbdX6M7y8jIoE+fPvTr14+MjAw+ONlES2Z/3K08XjsQBUA8Hmfnzp1MmTLlkl8O2wyar/mszLigoIDRo0d36Xt2BWfzSfytLKQIehaWOi0UClFeXk4odO4wVXWe5ms+zTj9snxNBPNaX39L/xRSQOoirNraWqvLsC3N13yacfrlBU7i61fS6n4dgSggNfzfsmUL8Xjc6lJsSfM1n2acfgXhJhK9Wx+BaAeigNR53xUVFcb53yq9NF/zacbp54qdRPq2fgxEp7AUkDoIuG/fPqvLsC3N13yacXol40n6yCkyBuhBdHURsViMjRs32u6K2u5C8zWfZpxe3hoPmSTIKhrQ6mO0A1EARKNRKisriUajVpdiS5qv+TTj9Gr5oBGAvKF6Fpa6iPz8fKqqqqwuw7Y0X/NpxunlO3oSgPzhehBdXUQ0GuX555/Xv95MovmaTzNOr2B1qgNxj9QpLHUROn9sLs3XfJpxekXrUh1In9Lz3w8ddApLnZafn8+WLVusLsO2NF/zacbplfj4JC2O3vTu1foKwzoCUQBEIhEqKyuJRCJWl2JLmq/5NOP0cpxspCWz9eMfoB2IOi2RSFBVVUUikbC6FFvSfM2nGaeX81QjvpwLdyAO6YG3SfN6vbjdbjwej95bQSmlTLBz4G0knFlMO7EZOP/vXR2BKCA1/F+5cqUO/02i+ZpPM06v/EADUXfrZ2CBdiDqtGQySW1tbY+/IU53pfmaTzNOL1ekgWS/gRd8jE5hKaWUOpsIwYx8dt71Q77w0rcBncJSF6ArmZpL8zWfZpw+gYYAvQiRWXThEYh2IEoppc5y6v3T62AN1ykspZRS7bD3l3/nykXTeH/Dbq74ylWATmGpCwiFQixatEjvJ20Szdd8mnH6BI81ANB7tE5hqTbIyMiguLiYjAz9kTCD5ms+zTh9IjWpKay+o/VCQqWUUu3wxi3/L1f98Uf0SZ4yvqdTWKpVwWCQ8vJygsGg1aXYkuZrPs04jU420px14ekr0A5EneZ0OikrK8PpdFpdii1pvubTjNMn81QD3tyLdyA6haWUUuos7/SfTSyngGnHf2t8T6ewVKsCgQCzZ88mEAhYXYotab7m04zTp1ewkWhvncJSbZSVlUV5eTlZWa3fPEZ1nOZrPs04fXpHGkhcZB0s0CkspZRSnyJJIerM5W9zn+ULG79lfF+nsFSrAoEAZWVlOvw3ieZrPs04Pby1XnKIklWsU1iqjbKzs6moqCA7O9vqUmxJ8zWfZpweLYdSV6HnDb3wvUAAMs0uRvUMZ+aPlTk0X/Npxunh/TB1FXphqY5AVBv5/X7Gjx+P3++3uhRb0nzNpxmnR/Cjtq2DBdqBqNNyc3OprKwkNzfX6lJsSfM1n2acHtHaBpI46FPa96KP1SksBUBmZiazZ8+2ugzb0nzNpxmnR6LuY05mDGRg9sWv6DdGII8++iglJSU4HA52795tPGDGjBlcfvnlTJw4kYkTJ/KTn/zE2BcMBrn33nsZOXIko0ePZtOmTca+ZDLJkiVLKC0tZeTIkaxevfqsN37qqacoLS2ltLSU5cuXd6rBqvN8Ph/FxcX4fD6rS7Elzdd8mnF6OBrqac4e1KbHGiOQuXPn8vjjj/P5z3/+nAf95Cc/4a677jrn+8888ww5OTkcPnyYo0ePMnXqVGbOnEm/fv1Yt24d+/fv59ChQ3g8HiZNmsTMmTMZP34827ZtY/369ezZs4fMzEyuv/56rrvuOm677bZONFt1Rl5eHhs3biQvL8/qUmxJ8zWfZpweOafq8eW3rQMxRiDTp0+nuLi4XW+0YcMGHn74YQAuv/xyZsyYwUsvvWTsW7x4MU6nk759+zJv3jzWr19v7Js/fz75+fnk5OSwcOFCY5+yRmZmJmVlZWRm6qymGTRf82nG6dHLV0+4dzs7kAt5/PHHmTBhAvPmzePIkSPG96urqxk+fLjx75KSEqqrqzu173wikQher/esL8C481g4HCYcDhvfi0QiQGqK7cx2IBAgGo0a27FYDEiduRGPx4HUEPjMttfrJZFIGNvJZBIRwev1IiIkk0mjjkQiYWzH43FjCB2Px40zQmKxmHGBUzQaNbYjkYix/HQkErGsTR6Ph8LCQmpra23Tpu70OZ08eRKXy8WJEyds06bu9jl5vV4KCwupr6+3TZus+JzcoXri/Qedt02fddEO5D/+4z84dOgQe/bs4YYbbuD222+/2FPSbtWqVbjdbuNr6NChACxduhSAZcuWsWzZMgCWLFnCqlWrAFiwYAFr1qwB4J577mHt2rUAzJo1i82bNwMwdepUtm7dCsDYsWPZuXMnAMXFxRw8eBAAt9tNXV0dPp8Pt9uNz+ejrq4Ot9sNwMGDB43R286dOxk7diwAW7duZerUqQBs3ryZWbNmAbB27VruueceANasWcOCBQuMdi5ZssSSNiWTSTZv3mxka4c2dafP6Xe/+x1VVVXcfffdtmlTd/uc8vPz+eY3v8m3vvUt27Spqz+nIUVD6B+vxzF40HnbdA75jOHDh8uuXbs++21DTk6OnDx5UkRExo0bJ1VVVca+8vJyee6550REZM6cObJ+/Xpj39KlS2X58uUiIvLII4/IqlWrjH1r1qyR++67r9X3DIfD4vF4jK+amhoBpL6+XkREQqGQhEIhEREJBoMSDodFRCQQCBjbfr9fIpGIsR2NRkVExOfzSSwWExERr9drbHs8HonH48Z2IpGQZDIpHo9HksmkJBIJ8Xg8IiISj8eN7VgsJl6v19j2+XwiIhKNRsXv94uISCQSMbbD4bAEAgFjOxgMapu0TdombZMlbTp+sFYEZPu31p/TppaWFgGMdoiIXLADicVixi9pEZFNmzbJsGHDjH+vWLFCFixYICIiR44ckQEDBkhjY6OIiLzwwgty4403Sjwel6amJhk2bJjs2bNHRERef/11GTdunPj9fgmHwzJ58mR5+eWXP1tKqzwezzkNUZ2jmZpL8zWfZtx5R/94SATk3crXz9l3vnyNo00PPfQQr7zyCvX19cyePZvCwkLee+89brvtNiKRCBkZGfTv35/f//73xuhl6dKlLFy4kNLSUpxOJ6tXr6Z//9RN2OfPn8/OnTsZNWoUDoeDiooKJkyYAKRODZ43b57x73nz5lkyNaY+UVBQQE1NDQUFBVaXYkuar/k0487zHkodP3KNbttBdF3OXQEgIvh8PgoLC3E4HFaXYzuar/k0486r+s5Gyiq/QsvRZnqX9D5rny7nrlp1wQNlqtM0X/Npxp0Xq64nTA7uYe42PV47EAVAYWGhcSqvSj/N13yacecl6+o56bwMR0bbRnDagSiAC57rrTpP8zWfZtx5zpP1tOS27fgHaAeiTvP7/QwdOlSXwjaJ5ms+zbjzcpvrCRS2vQPRa/4VAC6XS/9yM5Hmaz7NuPMKAvU0DrumzY/XEYgCUkst7Nu3z1iaQaWX5ms+zbjz+oTrSQ7UKSzVToFAgLKyMmP9HZVemq/5NOPOScaT9Es2kFGkU1iqnVwul7HYm0o/zdd8mnHnNH94in7EyR6mIxDVTvF4nKqqKmNVTpVemq/5NOPOObU/dRV6fql2IKqdQqEQ5eXlxlLRKr00X/Npxp3jPVgHQO8xOoWl2unT9wJR6af5mk8z7pzQh6kOZODEojY/R0cgCkgN/7ds2aLDf5NovubTjDsnfuw4Jx39yXHltPk52oEoIHV3s4qKCuMOZyq9NF/zacad46ivoymn7aMP0CksdVpBQQH79u2zugzb0nzNpxl3Tu7J43gLhrTrOToCUUDqfswbN2407pms0kvzNZ9m3DmF3uOE+7ZvBKIdiAIgGo1SWVlJNBq1uhRb0nzNpxl3Tp9wHfHL2jcC0SksBUB+fj5VVVVWl2Fbmq/5NOOOS0TiDEzW88FQHYGoDohGozz//PP615tJNF/zacYd17ivASdJckv1GIjqAJ0/Npfmaz7NuONO/eM4AIVX6FlYqgPy8/PZsmWL1WXYluZrPs2443zvpy4i7H+VjkBUB0QiESorK4lEIlaXYkuar/k0444LHzlOjEz6jRnQrudpB6KA1L0Uqqqq9F4KJtF8zacZd5zU1tHgHExGZvu6BIf0wFt4eb1e3G43Ho8Hl8tldTlKKdWj/WXUN+hdf5AJvtbPYjvf710dgSggNfxfuXKlDv9NovmaTzPuuF7Nxwm42ncAHbQDUaclk0lqa2tJJpNWl2JLmq/5NOOOc/nrCPdv3wF00CkspZS65LVk9GH3zf+VGa9+t9XH6BSWapWuZGouzdd8mnHHBE8G6S0tZA7TKSyllFLt8PE7qZtw5Y8Z2u7n6hSWUkpdwt790Z+4+r9+kY/+dJiSm0pbfZxOYalWhUIhFi1apPeTNonmaz7NuGMCB2sAGHRNcbufqx2IAiAjI4Pi4mIyMvRHwgyar/k0445JHK2mIeMyct1tv5XtGTqFpZRSl7C/XLGIfrXvMS6w84KP0yks1apgMEh5eTnBYNDqUmxJ8zWfZtwxeU01eHoP69BztQNRADidTsrKynA6nVaXYkuar/k0447p46smOrD9Z2CBTmEppdQlS5JCwFnI21/6PjN+X3HBx+oUlmpVIBBg9uzZBAIBq0uxJc3XfJpx+7UcbaaAADkjOzYC0Q5EAZCVlUV5eTlZWVlWl2JLmq/5NOP2a3gndQpv4fiOHQPRKSyllLpE7fhvL3PtD+6g/p3jDLr6wkuZ6BSWalUgEKCsrEyH/ybRfM2nGbdf6FANUbIYMGFQh56vHYgCIDs7m4qKCrKzs60uxZY0X/Npxu0nx6r5OHMIzqyOdQU6haWUUpeov5bcR35zLRM9b170sTqFpVrl9/sZP348fr/f6lJsSfM1n2bcfgXN1QT6duwMLNAORJ2Wm5tLZWUlubm5VpdiS5qv+TTj9usXqCE2qOMdSGYaa1E9WGZmJrNnz7a6DNvSfM2nGbdPPBxnUKKWIyNKOvwaOgJRAPh8PoqLi/H5fFaXYkuar/k04/Y5saOGTBLkX3l5h19DOxAFQF5eHhs3biQvL8/qUmxJ8zWfZtw+J3ceBaDv5I53IDqFpYDU8L+srMzqMmxL8zWfZtw+/r0fkcRB0bSOXYUOOgJRp3m9XlwuF16v1+pSbEnzNZ9m3D6Jw0f5OKOIHFf7byR1hnYgCoD8/HyqqqrIz8+3uhRb0nzNpxm3T+bxj2jML+nca6SnFNXTOZ1Oxo8fb3UZtqX5mk8zbh/XyaN4+3f8+AfoCESd5vV6cTgcOvw3ieZrPs24fQYEPiI2RDsQlQYFBQXU1NRQUFBgdSm2pPmaTzNuu4g3wmXJOjJHlnTqdbQDUQA4HA5cLhcOh8PqUmxJ8zWfZtx2dVXHyEAomKAjEJUGPp8Pt9utF2GZRPM1n2bcdqfe/QiA/lO0A1FpUFhYiMfjobCw0OpSbEnzNZ9m3HaBvUeJ42TwlOJOvY52IAoAEcHr9dIDV/fvETRf82nGbZc88hEnMoeSmdu5E3GNDuTRRx+lpKQEh8PB7t27jQc0NDRwyy23MGrUKK688kq2bdtm7AsGg9x7772MHDmS0aNHs2nTpk8KTCZZsmQJpaWljBw5ktWrV5/1xk899RSlpaWUlpayfPnyTjVCdZ7f72fo0KG6FLZJNF/zacZtl338KCcLSjr9OkYHMnfuXLZv387w4cPPesB3v/tdpk2bxgcffMALL7zAV7/6VWKxGADPPPMMOTk5HD58mC1btvDII4/Q1NQEwLp169i/fz+HDh1ix44d/PjHP2bfvn0AbNu2jfXr17Nnzx7279/Pli1beOWVVzrdGNVxLpcLEdEbdJlE8zWfZtx2vZs+xD9gRKdfx+hApk+fTnHxufNhL774Ig8//DAAU6ZMoaioiDffTN29asOGDca+yy+/nBkzZvDSSy8Z+xYvXozT6aRv377MmzeP9evXG/vmz59Pfn4+OTk5LFy40NinrJFIJNi3bx+JRMLqUmxJ8zWfZtw2khSGBD8gMWJUp1/rgsdAmpqaiMViDBr0yQ3XS0pKqK6uBqC6uvqsEUs69p1PJBLB6/We9QUQCoUACIfDhMNh43uRSARITbGd2Q4EAkSjUWP7zCjK7/cTj8eB1FkcZ7a9Xq/xg+j1ekkmk2fNsSaTSaOORCJhbMfjceMskHg8bgynY7EYgUAAgGiKl5vOAAAbyUlEQVQ0amxHIhGCwaCxbVWb/H4/06ZN48SJE7ZpU3f6nJqbmykrK6OhocE2bepun1MgEGDatGk0Njbapk1mfE7NH57CjYessSPa3abP6hEH0VetWoXb7Ta+hg5N3UFr6dKlACxbtoxly5YBsGTJElatWgXAggULWLNmDQD33HMPa9euBWDWrFls3rwZgKlTp7J161YAxo4dy86dOwEoLi7m4MGDALjdburq6s46TbCurg632w3AwYMHjdHbzp07GTt2LABbt25l6tSpAGzevJlZs2YBsHbtWu655x4A1qxZw4IFC4x2LlmyxJI2ORwODhw4YGRrhzZ1p89p8+bNeL1eY9sObepun5PL5eLJJ5802mGHNpnxOdVtOwxAbW6w3W06h3zG8OHDZdeuXca/e/XqJSdOnDD+PWXKFHnttddERGTcuHFSVVVl7CsvL5fnnntORETmzJkj69evN/YtXbpUli9fLiIijzzyiKxatcrYt2bNGrnvvvs+W4ohHA6Lx+MxvmpqagSQ+vp6EREJhUISCoVERCQYDEo4HBYRkUAgYGz7/X6JRCLGdjQaFRERn88nsVhMRES8Xq+x7fF4JB6PG9uJREKSyaR4PB5JJpOSSCTE4/GIiEg8Hje2Y7GYeL1eY9vn84mISDQaFb/fLyIikUjE2A6HwxIIBIztYDBoSZui0ahs375dmpqabNOm7vQ5BQIBeeutt6SlpcU2bepun1MsFpM33njDeK4d2mTG57T9m+tEQE5VN7erTS0tLQIY7RARuWgHsmDBAlmxYoWIiOzYsUOKioqMYFesWCELFiwQEZEjR47IgAEDpLGxUUREXnjhBbnxxhslHo9LU1OTDBs2TPbs2SMiIq+//rqMGzdO/H6/hMNhmTx5srz88sufLaVVHo/nnIaozvF6vTJkyBDjB1ull+ZrPs24bV7/wgqpzxjU7ued7/eucRLwQw89xCuvvEJ9fT2zZ8+msLCQw4cP8/TTTzN//nxGjRpFdnY269atIysrC0hNIS1cuJDS0lKcTierV6+mf//+AMyfP5+dO3cyatQoHA4HFRUVTJgwAYAZM2Ywb94849/z5s3j9ttvP3d4pLpMYWEhtbW1VpdhW5qv+TTjtsk6dpj6gpFclobXcoj0vKtuvF4vbrcbj8ejp+ylSTweZ+vWrdx0001kZuoq/+mm+ZpPM26bvQXTaB48lhs+eKFdzzvf790ecRBdmS8cDlNRUWGc1aHSS/M1n2bcNoODh4mXdP4UXtAbSqnTCgoKjAs9VfppvubTjC+u5Wgz/aSJnCtHpuX1dASigNQ56Bs3bjTOfVfppfmaTzO+uDOn8Pa5RjsQlUbRaJTKykrjoiOVXpqv+TTji2t5O9WBFE1PTweiU1gKgPz8fKqqqqwuw7Y0X/NpxhcX3X+YRsdABgxNz8lHOgJRQOqvt+eff17/ejOJ5ms+zfjiso68z4mC9BxAB+1A1Gk6f2wuzdd8mvHF9Wk4SEvR2LS9nl4HopRSlwBJCgFnIW/f/iQzXv5Ou5+v14GoVkUiESorK41VPFV6ab7m04wvrP7tWgoIkD95TNpeUzsQBaSWm66qqtJ7KZhE8zWfZnxhdX9OrbI7cHr6OhCdwlJKqUvAm3N/xrTf/hcyI0Gc2c52P1+nsFSrIpEIK1eu1OG/STRf82nGF/H+QapzRneo82iNdiAKgGQySW1tLclk0upSbEnzNZ9mfGGFxw9ysn/6pq9Ap7CUUuqScMI5hPevW8iMv/ygQ8/XKSzVKl3J1Fyar/k049Z5azwMTtaR9bn0XQMC2oEopZTt1fzpfQD6XKdTWDqFpZRS7bB98a/4/PP34z/ho2BQQYdeQ6ewVKtCoRCLFi0iFApZXYotab7m04xbl3hvLzWZJR3uPFqjHYgCICMjg+LiYjIy9EfCDJqv+TTj1vU6upe6fhPS/ro6haWUUjZ3IrOY96/9OjPe+mGHX0OnsFSrgsEg5eXlBINBq0uxJc3XfJrx+bUcbWZw4jhZV6d/BKIdiALA6XRSVlaG05m+q1TVJzRf82nG51f9f1L3iR8w88q0v7ZOYSmllI1tu/fnlP3mUcQXILsgu8Ovo1NYqlWBQIDZs2cTCASsLsWWNF/zacbnJ3v38lHOFZ3qPFqjHYgCICsri/LycrKysqwuxZY0X/NpxufXu/ofNF6W/uMfoFNYSillW5IUWjL78d5N32HGa8s79Vo6haVaFQgEKCsr0+G/STRf82nG56p/t44+0kzeteaMQLQDUQBkZ2dTUVFBdnb650mV5tsVNONz1f7nbgCG3Po5U15fp7CUUsqm3pj5JBPe/Bl94404Mhydei2dwlKt8vv9jB8/Hr/fb3UptqT5mk8zPlevA29ztO81ne48WqMdiAIgNzeXyspKcnNzrS7FljRf82nG5xre+Db+MdeY9vqZpr2y6lEyMzOZPXu21WXYluZrPs34bPXv1jEoWc9HN5jXgegIRAHg8/koLi7G5/NZXYotab7m04zPduy3bwMw7B7tQJTJ8vLy2LhxI3l5eVaXYkuar/k047OF/vI2DRmXMWjyENPeQ8/CUkopG9o5cA7iyODaj/8zLa+nZ2GpVnm9XlwuF16v1+pSbEnzNZ9m/AlJCiUn3yY41rzpK9AORJ2Wn59PVVUV+fn5VpdiS5qv+TTjT9T9vYYB0kiv6dqBqC7gdDoZP3683kvBJJqv+TTjT9S8lDqAPvyeyaa+j3YgCkgN/x0Ohw7/TaL5mk8z/kT4r29zImMIl00cbOr7aAeiACgoKKCmpoaCggKrS7Elzdd8mvEnCt9/m+qB5o4+QDsQdZrD4cDlcuFwmLPkwaVO8zWfZpwiSeHyU+8QGmfu8Q/QDkSd5vP5cLvdehGWSTRf82nGKbXbP6KvnCL/C9qBqC5SWFiIx+OhsLDQ6lJsSfM1n2acUrs5dQC95Ms6haW6iIjg9XrpgdeV9giar/k045TIX9+m1jmMAeMHmv5e2oEoILUU9tChQ3UpbJNovubTjFNcH7xN7WXmT1+BrsarTnO5XJf8X25m0nzNpxlDPBRjVPMO3pn6L13yfjoCUQAkEgn27dtHIpGwuhRb0nzNpxnD++vfpRA//efO6JL30w5EARAIBCgrKyMQCFhdii1pvubTjKFx05v4KOCKe6/ukvfTKSwFoIvQmUzzNZ9mDPlvv8H7/a7nml5ZXfJ+OgJRAMTjcaqqqojH41aXYkuar/ku9Yzj4ThjGv+C/5oZXfae2oEoAEKhEOXl5YRCIatLsSXN13yXesZdffwDdApLnVZYWEhtba3VZdiW5mu+Sz3jxo1v4CefK75q/gWEZ+gIRAGp4f+WLVsu2eG/2TRf813qGee//QYH+11PVhcd/wDtQNRp4XCYiooKwuGw1aXYkuZrvks5Y+P4x+QZXfq+OoWlgNRS2Pv27bO6DNvSfM13KWd86DfvMg4//b48o0vft00jkJKSEq644gomTpzIxIkT2bBhAwANDQ3ccsstjBo1iiuvvJJt27YZzwkGg9x7772MHDmS0aNHs2nTJmNfMplkyZIllJaWMnLkSFavXp3mZqn2isVibNy4kVgsZnUptqT5mu9Szrhh45sE6MWYr3XNEiYGaYPhw4fLrl27zvn+N77xDVmxYoWIiOzYsUOGDBki0WhURESefPJJWbBggYiIHDlyRAYMGCAnT54UEZFf/epXcuONN0o8HpempiYZNmyY7N27ty2liIiIx+MRQDweT5ufoy7M7/fLtGnTxO/3W12KLWm+5ruUM94xYI683feLpr7H+X7vduoYyIsvvsjDDz8MwJQpUygqKuLNN98EYMOGDca+yy+/nBkzZvDSSy8Z+xYvXozT6aRv377MmzeP9evXd6YU1Un5+flUVVWRn59vdSm2pPma71LNOB6Oc0XjX/B18fEPaMdB9Pnz5zNhwgQeeOABGhsbaWpqIhaLMWjQIOMxJSUlVFdXA1BdXc3w4cPbve98IpEIXq/3rC/AON87HA4bB85CoRCRSARITaOd2Q4EAkSjUWP7zDDX7/cbZ234fD5j2+v1GmvqeL1eksnkWctFJ5NJo45EImFsx+Nx44Y28XjcWBk0FosZSyxEo1FjOxKJEAwGjW2r2hSJRPjFL37ByZMnbdOm7vQ5+f1+nn/+eZqbm23Tpu72OUWjUX7+85/T0tJimza15XM6tGEXLny47rje9Dadoy1Dl2PHjomISDQalccff1xuvfVWOXnypGRnZ5/1uPLycvnlL38pIiIFBQVSV1dn7Fu6dKl873vfExGRK6+8Ut566y1j35o1a2T+/Pmtvv+KFSsEOOfrzHMee+wxeeyxx0RE5IEHHjCm1ebOnSvPPvusiIjcfPPN8txzz4mIyLRp0+TFF18UEZFx48bJq6++KiIiQ4YMMeoqLCw0ptUAqampOWsIV1NTI2fi27t3rxQWFoqIyFtvvSVDhgwREZFXX31Vxo0bJyIiL774okybNk1ERJ577jm5+eabRUTk2Weflblz5xrtfOCBByxpU11dnUyfPt1WbepOn9Pq1avl5ptvlmuvvdY2bepun5Pf75fRo0fLXXfdZZs2teVzev3Wp8VPL1nxxH8ztU1n2vPpKaw2dSCfVldXJwUFBSIi0qtXLzlx4oSxb8qUKfLaa68ZBVZVVRn7ysvLjYbMmTNH1q9fb+xbunSpLF++vNX3DIfD4vF4jK8zDamvrxcRkVAoJKFQSEREgsGghMNhEREJBALGtt/vl0gkYmyfOVbj8/kkFouJiIjX6zW2PR6PxONxYzuRSEgymRSPxyPJZFISiYQRZDweN7ZjsZh4vV5j2+fziUiq8z0zNxuJRIztcDgsgUDA2A4Gg9ombZO2SdvU5jbtck+Xvw2YY3qbWlpa2t+B+P1+aW5uNv797LPPyg033CAiIgsWLDjrIHpRUZFR4IoVK845iN7Y2CgiIi+88MI5B9H37NlzsVIMehA9/cLhsDz77LPGD55KL83XfJdixk3vN0qcDHlz/i9Mf68OHUT/+OOPmTlzJp/73OeYMGECb775JmvXrgXg6aef5q233mLUqFHcf//9rFu3jqys1FWQS5cuJRQKUVpayuzZs1m9ejX9+/cHUsdTxowZw6hRo5gyZQoVFRVMmDDhYqUoEyUSCaqqqi7peymYSfM136WY8f5n/oCTJFdU3G7J+ztEet4tvLxeL263G4/Hg8vlsrocpZSyRFXxXApbarnS/zfT3+t8v3d1KRMFpM7uWLlypXH2hkovzdd8l1rG4ZYwE46/ysnr7rCsBu1AFJBaHaC2tpZkMml1Kbak+ZrvUsv4H//f6xQQYMg3retAdApLKaV6oG3jv8nwQ39kWOQwjgyH6e+nU1iqVZfySqZdQfM136WUcTKeZNTB3/PRhDu6pPNojXYgSinVwxz89bsMTtbh/vqdltahU1hKKdXDvHHD97jqr2so8H/cZTeQ0iks1apQKMSiRYsu2ftJm03zNd+llPHgt3/P/uFzuvTug+ejHYgCICMjg+LiYjIy9EfCDJqv+S6VjGvePMIV4T1k3G3t9BXoFJZSSvUob8x8kslvPEPGx/XkD+y6pet1Cku1KhgMUl5ebiwbrdJL8zXfpZBxMp5kxPZfsXvUV7q082iNdiAKAKfTSVlZGU6n0+pSbEnzNd+lkPGe1dsYFj+K69H7rS4F0CkspZTqMbaPvJ+hx7YzLPJBl1//oVNYqlWBQIDZs2cbd0FT6aX5ms/uGftP+Jj04UaOfuF+Sy8e/DTtQBQAWVlZlJeXG8vxq/TSfM1n94x3Ld9EHiFG/eDrVpdi0CkspZTqAd5zTyeemcPkptcseX+dwlKtCgQClJWV2Xb4bzXN13x2zvjY1sNc5f0L4Xn3W13KWbQDUQBkZ2dTUVFBdna21aXYkuZrPjtnfPTJtXhwMen7d1tdyll0CksppbqxqD9Kk3sEH4yew/QDv7CsDp3CUq3y+/2MHz8ev99vdSm2pPmaz64Z//1b/8FlyTqG/Pgxq0s5h3YgCoDc3FwqKyvJzc21uhRb0nzNZ8eME9EExb9+mh2D76L09rFWl3MOncJSSqlu6q3HXuS6/z6P/f9rB+MWTLG0Fp3CUq3y+XwUFxfj8/msLsWWNF/z2S1jSQr9/u2HvNN3luWdR2u0A1EA5OXlsXHjRvLy8qwuxZY0X/PZLeO3n3qVK8LvkbF8mdWltEqnsJRSqht6zz0dZyLKeG9Vt1i6RKewVKu8Xi8ulwuv12t1Kbak+ZrPThnv+R/bucr7FwL/vKxbdB6t0Q5EAZCfn09VVRX5+dbfY8CONF/z2SnjyMpVfJAznilP3m51KRekHYgCUvdSGD9+vK3vpWAlzdd8dsn44PpdTGn8Aw0LnyAjs3v/iu7e1aku4/V6cTgcthj+d0ear/nskLEkhfA3v83RrNFMrZxndTkXpR2IAqCgoICamhoKCgqsLsWWNF/z2SHjvz60lomebTT/6/8gMzfT6nIuSjsQBYDD4cDlcuFwdN8Ddj2Z5mu+np5x84enGPPL/8Jfh9/L1UtvsrqcNtEORAGpi7DcbrdtLsLqbjRf8/X0jP9x+xNkSoxRv6+0upQ20w5EAVBYWIjH46GwsNDqUmxJ8zVfT874H7+oYvrBX/Be+b8y8HODrC6nzbQDUQCICF6vlx54XWmPoPmar6dmHA/Hyf7nb7Kv1zV8ft3DVpfTLtqBKCC1FPbQoUNttxR2d6H5mq+nZrz9//kZo8J7cPz85zize9YpyN3/ML/qEi6Xq8f95daTaL7m64kZH/7f+7jmf3+Pv0x4hC98/Rqry2k3HYEoABKJBPv27SORSFhdii1pvubraRl7jrWQWX4XdbkjuOZPT1tdTodoB6IACAQClJWVEQgErC7FljRf8/WkjJPxJO9f+zV6x0+S88pL5A/smcuv6BSWArDNInTdleZrvp6U8babnmR6wx9458lXmHJjqdXldJiOQBQA8Xicqqoq4vG41aXYkuZrvp6S8d+X/54Z277Ptlk/YMp/u9XqcjpFOxAFQCgUory8nFAoZHUptqT5mq8nZHzkDwcZ+8Ov8bfBdzP9/zxhdTmdpjeUUkqpLnDkDwfJ+9JNBLJ6M/BwFa7invW7S28opVoVj8fZsmVLtx/+91Sar/m6c8YfvLSXgi/NIJDVG9eOrT2u82iNdiAKgHA4TEVFBeFw2OpSbEnzNV93zfj9F9+jz5dn0px9Gb13vdGjliq5GJ3CUkopk+xf+zaD77+ZE3kjGLR7C31H9bO6pA7TKSzVqlgsxsaNG4nFYlaXYkuar/m6U8aSFLYv+l8MWXATtflXMGT/n3p059Ea7UAUANFolMrKSqLRqNWl2JLma77ukvHxqmreGXgrn//lN/jHiDsZfmAL7uG9La3JLDqFpZRSaZCMJ9n+9V8waf1SfM7eHP/e/2TKijlWl5U2OoWlWhWNRnn++ect/+vNrjRf81mZ8bE/f8h7A25i+vpvsmvMV8k/stdWnUdrtANRQPeaP7Yjzdd8VmSciCZ48+7/zoCbJtDPf4x3f/Qnph/4n7iHubusBivpFJZSSnXAkT8cJDBvIeP9f+MvVy1h8qv/SsGgAqvLMo1OYalWRSIRKisriUQiVpdiS5qv+boq4+NV1bxxw/coum0iBZEm9q7Zxhd2/9TWnUdrtANRQOpeClVVVT3mXgo9jeZrPjMzDp0K8dd/+jXv9Psig68r4ZrtP+FvU7/NoPrdfO6Rz6f9/XoKncJSSqnzkKSw/1c7afrxv3PVgd/gxsN7rhvwfvkbTHxqLoVFhVaX2KV0Cku1KhKJsHLlSp1iMYnma750Zdywp543bn+GD3tdyfiFUxl56BV2Xf8tjv3pA67ybOOGf//GJdd5tEZvKKUASCaT1NbWkkwmrS7FljRf83UkY3+9n6O//wfNr++G3bvpW7ObMYF3mEYm7w69C883f8LE79xEUbbTxMp7Lp3CUkpdEhr21FP9+934t+8me/8uBtfvZnjsAzIQYmRyJHccjUUTSU67js899RV6X97H6pK7lfP93tURiAJSK5kuW7aMH/7wh+Tm5lpdju1ovuY7k/EPVv6Aj7fXUP/qbqI7dlNweDfDmnczMPkxAwEPLo66J1I97hZqr/4uA744kctvG8cVrhyusLoRPYx2IEqpbisRTeA51oL3o1P4q08ROn6K6Ikm4g2nkKZTOJpPkelpIjtwirzQKf4p1IjjJ//GCEKMAI47h1LbfyL7r3+QI9MmUjRnIkOnX87EDIfVTbMFncJSSgGps44kKSTjSZLxJIlowthOxpNI4pPvSeL0YyJx4sEoMX+EeDBKPBglEYyQCH3y32Q4SjIUQSKn/xuNQiQKkQhEoxCN4ggHyfQ2kx04Ra9QEwWRU7gSp3BLCxmc+ysqRC4tGf3wZfclmNOXcK++xAr7kujdDwYPwn3DVQy/4ypbroBrFdtMYZ3p8/b1vYoCh55Ili6JRAKn014HCx1p+/vowq/juNh+ERLJJM6MDHB8tq5Ptj/7Op/+9yfPERyf/jrP9z/9/E++l/p+BslzvpwkLnhKpuP0V2f/b4uQRZRsYmQTc2QTd2QTy8gm5swlmNsHb14fTg4eS9LdB/r0xdm/D1kD+5AzuA+9hvSlYGgf3CV9yOubRz6Q/6nXDoVCLF26lB//uIK8vDwg9UtPpceZLD895uiRI5Da2lqGDh1qdRlKKXXJqampobi4GOihHUgymaSuro7CwkIcDp3LTAev18vQoUOpqanRaUETaL7m04zNJSL4fD6KiorIyEiNRXvkFFZGRobRA6r0crlc+j+fiTRf82nG5nG7z15lWA8gKKWU6hDtQJRSSnWIc+XKlSutLkJ1D06nkxkzZpCZ2SNnNrs9zdd8mnHX6pEH0ZVSSllPp7CUUkp1iHYgSimlOkQ7EKWUUh2iHYgCoKSkhCuuuIKJEycyceJENmzYYHVJtvLBBx9w3XXXMXr0aKZMmcK+ffusLslW9OfXGnqqgjJs2LCBiRMnWl2GLT300EM8+OCD3H///WzatIn777+fnTt3Wl2WrejPb9fTEYhSJmtoaODtt9/ma1/7GgBf/vKXqamp4fDhwxZXplTnaAeiDPPnz2fChAk88MADNDY2Wl2ObdTU1DB48GDj2gSHw8GwYcOorq62uDJ70Z/frqcdiAJg27Zt/OMf/+Ddd9+lf//+LFiwwOqSlGoz/fm1hl5IeIlau3YtlZWVAPzzP/8z3/jGN4x9J06cYPTo0fh8PqvKs5WGhgZGjhzJqVOnyMzMREQYPHgw27dvZ+TIkVaXZzv689t1dARyifr617/O7t272b17N1/5yldoaWkx9q1fv55JkyZZWJ29DBw4kKuvvpp169YB8Nvf/pbi4mLtPNIkEAjoz69FdASiOHLkCF/+8pdJJBKICCNGjOCnP/0pJSUlVpdmG++//z73338/TU1NuFwuXnjhBSZMmGB1WbagP7/W0Q5EKaVUh+gUllJKqQ75v7Yh/AJKjDA6AAAAAElFTkSuQmCC\" />"
      ]
     },
     "execution_count": 114,
     "metadata": {},
     "output_type": "execute_result"
    }
   ],
   "source": [
    "# Aproximação para $h = 1e-4$\n",
    "h = 1e-4\n",
    "plot(f, -10, 10, c=:blue)\n",
    "plot!(x->D(x, h), -10, 10, c=:red)"
   ]
  },
  {
   "cell_type": "markdown",
   "metadata": {},
   "source": [
    "Vamos ver o erro dessa aproximação."
   ]
  },
  {
   "cell_type": "code",
   "execution_count": 115,
   "metadata": {},
   "outputs": [
    {
     "data": {
      "text/html": [
       "<img src=\"data:image/png;base64,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\" />"
      ]
     },
     "execution_count": 115,
     "metadata": {},
     "output_type": "execute_result"
    }
   ],
   "source": [
    "# Aproximação para $h = 1e-4$\n",
    "h = 1e-4\n",
    "plot(x->abs(f(x) - D(x, h))/f(x), -10, 10, c=:red)"
   ]
  },
  {
   "cell_type": "code",
   "execution_count": 116,
   "metadata": {},
   "outputs": [
    {
     "data": {
      "text/plain": [
       "5.000166739738369e-5"
      ]
     },
     "execution_count": 116,
     "metadata": {},
     "output_type": "execute_result"
    }
   ],
   "source": [
    "abs(f(1.0) - D(1.0, 1e-4))/f(1.0)"
   ]
  },
  {
   "cell_type": "markdown",
   "metadata": {},
   "source": [
    "Razoavelmente esperado, o erro está na casa dos $5\\times 10^{-5}$. Vamos diminuir o valor de $h$."
   ]
  },
  {
   "cell_type": "code",
   "execution_count": 117,
   "metadata": {},
   "outputs": [
    {
     "data": {
      "text/plain": [
       "-5.000032568337868e-6"
      ]
     },
     "execution_count": 117,
     "metadata": {},
     "output_type": "execute_result"
    }
   ],
   "source": [
    "(f(1.0) - D(1.0, 1e-5))/f(1.0)"
   ]
  },
  {
   "cell_type": "markdown",
   "metadata": {},
   "source": [
    "Também esperado, o erro diminui. Vamos tentar um $h$ bem menor."
   ]
  },
  {
   "cell_type": "code",
   "execution_count": 118,
   "metadata": {},
   "outputs": [
    {
     "data": {
      "text/plain": [
       "-0.1435990324493588"
      ]
     },
     "execution_count": 118,
     "metadata": {},
     "output_type": "execute_result"
    }
   ],
   "source": [
    "(f(1.0) - D(1.0, 1e-15))/f(1.0)"
   ]
  },
  {
   "cell_type": "markdown",
   "metadata": {},
   "source": [
    "Ora, o erro aumentou bastante. Como você deve suspeitar, isso acontece por causa dos erros de cancelamento.\n",
    "Vejamos um gráfico do erro em função de $h$."
   ]
  },
  {
   "cell_type": "code",
   "execution_count": 119,
   "metadata": {},
   "outputs": [
    {
     "data": {
      "text/html": [
       "<img src=\"data:image/png;base64,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\" />"
      ]
     },
     "execution_count": 119,
     "metadata": {},
     "output_type": "execute_result"
    }
   ],
   "source": [
    "hs = []\n",
    "Es = []\n",
    "h = 1.0\n",
    "x = 1.0\n",
    "while h > 1e-16\n",
    "    E = abs(f(x) - D(x, h))\n",
    "    push!(hs, h)\n",
    "    push!(Es, E)\n",
    "    h = h / 2\n",
    "end\n",
    "plot(hs, Es, m=3, xaxis=:log, yaxis=:log)"
   ]
  },
  {
   "cell_type": "markdown",
   "metadata": {},
   "source": [
    "Pelo gráfico podemos ver que o erro diminui até por volta de $10^{-8}$, e depois aumenta, erraticamente.\n",
    "Vamos tentar descobrir teoricamente o motivo disso."
   ]
  },
  {
   "cell_type": "markdown",
   "metadata": {},
   "source": [
    "Vamos usar o Teorema de Taylor com resto para encontrar um limitante para a derivada aproximada.\n",
    "Veja que expandindo $f(x+h)$ em torno de $x$, temos\n",
    "$$ f(x + h) = f(x) + f'(x)h + \\frac{h^2}{2}f''(\\xi), $$\n",
    "onde $\\xi$ é um valor entre $x$ e $h$. Isso quer dizer que\n",
    "$$ f'(x) = \\frac{f(x+h) - f(x)}{h} - \\frac{h}{2}f''(\\xi). $$"
   ]
  },
  {
   "cell_type": "markdown",
   "metadata": {},
   "source": [
    "Isso nos dá um embasamento teórico de porque o erro diminui inicialmente, e porque é proporcional à $h/2$.\n",
    "No entanto, lembre-se que computacionalmente não conseguimos calcular $f(x)$ exatamente. Na prática estamos calculando um valor $\\overline{f}(x)$ e $\\overline{f}(x+h)$, e daí\n",
    "$$ D_h(x) = \\frac{\\overline{f}(x+h) - \\overline{f}(x)}{h}. $$"
   ]
  },
  {
   "cell_type": "markdown",
   "metadata": {},
   "source": [
    "Lembre-se da limitação do erro é dada por um valor $\\epsilon$ com $|\\epsilon| < \\epsilon_M$ (da máquina), e portanto vamos usar diretamente $\\epsilon_M$ como limitante:\n",
    "$$ |\\overline{f}(x) - f(x)| \\leq \\epsilon_M |f(x)|, $$\n",
    "e\n",
    "$$ |\\overline{f}(x+h) - f(x+h)| \\leq \\epsilon_M |f(x+h)|. $$\n",
    "Considerando nosso interesse num intervalo $(a,b)$ onde $x$ e $x+h$ residem, podemos limitar $|f(x)|$ por $L_1$ em\n",
    "todo esse intervalo, de modo que\n",
    "$$ |\\overline{f}(x) - f(x)| \\leq \\epsilon_M L_1, $$\n",
    "e\n",
    "$$ |\\overline{f}(x+h) - f(x+h)| \\leq \\epsilon_M L_1. $$"
   ]
  },
  {
   "cell_type": "markdown",
   "metadata": {},
   "source": [
    "Logo, o erro de nossa aproximação é\n",
    "\\begin{align}\n",
    "\\mbox{Erro}(h) & = |f'(x) - D_h(x)| \\\\\n",
    "& =\n",
    "\\bigg|\n",
    "    \\frac{f(x+h)-f(x)}{h} - \\frac{h}{2}f''(\\xi) -\n",
    "    \\frac{\\overline{f}(x+h)-\\overline{f}(x)}{h}\n",
    "\\bigg| \\\\\n",
    "& =\n",
    "\\bigg|\n",
    "    \\frac{\\overline{f}(x+h)-f(x+h)-\\overline{f}(x)+f(x)}{h}\n",
    "    - \\frac{h}{2}f''(\\xi)\n",
    "\\bigg| \\\\\n",
    "& \\leq\n",
    "    \\frac{|\\overline{f}(x+h)-f(x+h)| + |\\overline{f}(x) - f(x)|}{h}\n",
    "    + \\frac{h}{2}|f''(\\xi)| \\\\\n",
    "& \\leq\n",
    "    \\frac{2\\epsilon_M L_1}{h} + \\frac{h}{2}L_2,\n",
    "\\end{align}\n",
    "onde $L_2$ é um limitante para $|f''(x)|$ no intervalo $(a,b)$."
   ]
  },
  {
   "cell_type": "markdown",
   "metadata": {},
   "source": [
    "Note que o limitante para o erro depende de $1/h$ além de depender de $h$. Isso quer dizer que a diminuição de $h$ faz o erro crescer bastante, apesar do termo linear dizer que o erro diminui. Felizmente, temos $1/h$ multiplicado por $\\epsilon_M$, de modo que esse erro começa relativamente pequeno.\n",
    "\n",
    "Os problemas comeração quando o erro da esquerda for maior que o da direita, começando de um valor grande de $h$ e tendendo à 0. Nessa direção, o valor da esquerda é crescente, e o da direta é decrescente.\n",
    "Então, podemos buscar onde eles ficam iguais, e a partir daquele instante saberemos quando o da esquerda fica maior que o da direita."
   ]
  },
  {
   "cell_type": "markdown",
   "metadata": {},
   "source": [
    "$$ \\frac{2\\epsilon_M L1}{h} = \\frac{h}{2}L_2\n",
    "\\qquad \\Rightarrow \\qquad\n",
    "h = 2\\sqrt{\\frac{L_1}{L_2}}\\sqrt{\\epsilon_M}. $$"
   ]
  },
  {
   "cell_type": "markdown",
   "metadata": {},
   "source": [
    "Os valores de $L_1$ e $L_2$ só podem ser obtidos em casos específicos, pois dependem da função $f$, de sua segunda derivada, do intervalo em questão, e de quão apertado é o limitante obtido. No entanto, é possível ver que existe uma dependência linear com o valor $\\sqrt{\\epsilon_M}$, que no caso de precisão dupla é $10^{-8}$. Não por acaso, o valor que vimos no gráfico."
   ]
  },
  {
   "cell_type": "markdown",
   "metadata": {},
   "source": [
    "Além disso, veja o valor que o limitante obtém quando substituímos esse valor de $h$:\n",
    "$$ 2\\sqrt{\\epsilon_M}\\sqrt{L_1L_2}. $$\n",
    "Esse valor também condiz com o valor encontrado no gráfico."
   ]
  },
  {
   "cell_type": "markdown",
   "metadata": {},
   "source": [
    "Agora, vamos fazer a mesma análise com a seguinte aproximação para a derivada, chamada de diferença centrada,\n",
    "$$ f'(x) = \\frac{f(x+h) - f(x-h)}{2h} - \\frac{h^2}{6}f''(\\xi). $$"
   ]
  },
  {
   "cell_type": "markdown",
   "metadata": {},
   "source": [
    "**Exercício:** Faça a mesma análise que fizemos anteriormente para encontrar um valor ótimo para $h$ que minimize o limitante do erro, e também o valor desse limitante no $h$ ótimo.\n",
    "Compare seus resultados com o do gráfico abaixo."
   ]
  },
  {
   "cell_type": "code",
   "execution_count": 120,
   "metadata": {},
   "outputs": [
    {
     "data": {
      "text/html": [
       "<img src=\"data:image/png;base64,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\" />"
      ]
     },
     "execution_count": 120,
     "metadata": {},
     "output_type": "execute_result"
    }
   ],
   "source": [
    "D_av(f, x, h) = (f(x + h) - f(x)) / h\n",
    "D_ct(f, x, h) = (f(x + h) - f(x - h)) / 2h\n",
    "hs = []\n",
    "E_av = []\n",
    "E_ct = []\n",
    "E_ct2 = []\n",
    "h = 1.0\n",
    "x = 1.0\n",
    "f(x) = exp(x)\n",
    "fx = exp(x)\n",
    "while h > 1e-16\n",
    "    push!(hs, h)\n",
    "    E = abs(fx - D_av(f, x, h))/abs(fx)\n",
    "    push!(E_av, E)\n",
    "    E = abs(fx - D_ct(f, x, h))/abs(fx)\n",
    "    push!(E_ct, E)\n",
    "    h = h /= 2\n",
    "end\n",
    "plot(hs, E_av, m=3, xaxis=:log, yaxis=:log, c=:blue)\n",
    "plot!(hs, E_ct, m=3, xaxis=:log, yaxis=:log, c=:red)"
   ]
  },
  {
   "cell_type": "markdown",
   "metadata": {},
   "source": [
    "A mesma análise pode ser feita para a segunda derivada, assim como outras. Além disso, existem várias maneiras de se aproximar as derivadas, utilizando mais avaliações da função $f$."
   ]
  },
  {
   "cell_type": "markdown",
   "metadata": {},
   "source": [
    "# Exercícios\n",
    "\n",
    "Faça os exercícios do capítulo 1 do livro Cálculo Numérico de Ruggiero e Lopes."
   ]
  },
  {
   "cell_type": "markdown",
   "metadata": {
    "collapsed": true
   },
   "source": [
    "1. Para cada sequência abaixo, calcule o maior termo que pode ser representado\n",
    "   por um inteiro de 64 bits sem sinal.\n",
    "\n",
    "   - $a_n = 2^n$;\n",
    "   - $a_n = 3n + 5$;\n",
    "   - $a_n = q a_{n-1}$ onde $q > 1$ e $a_0 = 1$;\n",
    "   - $a_n = n!$ (use o computador):\n",
    "   - $a_n = a_{n-1} + a_{n-2}$, com $a_0 = a_1 = 1$.\n",
    "\n",
    "2. Calcule a expansão de Taylor das seguintes funções, em torno do ponto a dado:\n",
    "\n",
    "  - $f(x) = x^2 - 5x + 6$, $a = 2$;\n",
    "  - $g(x) = x^3 - 3x^2 + 3x - 1$, $a = 1$;\n",
    "  - $h(x) = e^x$, $a = 0$;\n",
    "  - $z(x) = \\ln (x)$, $a = 1$;\n",
    "\n",
    "3. Sabendo que a primeira e segunda derivadas de $f$ em $x$ existem, calcule os\n",
    "   seguintes limites.\n",
    "  (Nota: Para real emoção, não use L'Hôpital).\n",
    "\n",
    "  - $\\displaystyle \\lim _ {h \\to 0} \\dfrac{f(x-h) - f(x)}{h}$;\n",
    "  - $\\displaystyle \\lim _ {h \\to 0} \\dfrac{f(x+h) - f(x-h)}{h}$;\n",
    "  - $\\displaystyle \\lim _ {h \\to 0} \\dfrac{f(x+2h) - 2f(x+h) + f(x)}{h}$;\n",
    "  - $\\displaystyle \\lim _ {h \\to 0} \\dfrac{f(x+h) - 2f(x) + f(x-h)}{h^2}$;\n",
    "  - $\\displaystyle \\lim _ {h \\to 0} \\dfrac{f(x + \\alpha h) - f(x - \\alpha h)}{h}$, $\\alpha \\neq 0$.\n",
    "\n",
    "4. Considere a aproximação para a derivada $D_hf(x) = \\dfrac{f(x+h)-f(x)}{h}$.\n",
    "   Faça o que se pede\n",
    "  \n",
    "  - Calcule explicitamente $D_hf$;\n",
    "  - Calcule a derivada de $f$;\n",
    "  - Para cada $h$ no conjunto {$10^{-4}, 10^{-6}, 10^{-8}, 10^{-10}$}, faça o gráfico\n",
    "    de $D_hf(x)$ e de $f'(x)$ na mesma figura.\n",
    "  - Faça um gráfico do erro absoluto $|D_hf(x) - f'(x)|$ em função de $h$.\n",
    "    Use escala logarítmica para $h$, e faça-o variar entre $10^{-1}$ e $10^{-16}$.\n",
    "\n",
    "  Para cada função abaixo,\n",
    "\n",
    "  - $f(x) = x^2$\n",
    "  - $f(x) = e^x$\n",
    "  - $f(x) = \\log(x)$\n",
    "\n",
    "  Repita esta questão para $D_hf(x) = \\dfrac{f(x)-f(x-h)}{h}$ e $D_hf(x) = \\dfrac{f(x+h)-f(x-h)}{2h}$.\n",
    "  Compare os resultados obtidos.\n",
    "\n",
    "4. Faça o que se pede\n",
    "   - Mostre que $\\dfrac{1}{1-x} = 1 + x + x^2 + x^3 + \\dots$, se $|x| < 1$;\n",
    "   - Calcule a derivada de $\\arctan(x)$;\n",
    "   - Utilizando a expansão de Taylor da função encontrada em (b),\n",
    "    encontre a expansão de Taylor de $\\arctan(x)$;\n",
    "   - Encontre uma série que define $\\pi$.\n",
    "\n",
    "5. Considere as seguintes séries e sequências convergentes:\n",
    "\n",
    "  - $2 = 1 + \\frac{1}{2} + \\frac{1}{4} + \\frac{1}{8} + \\dots + \\frac{1}{2^n} + \\dots$.\n",
    "  - $a_{n+1} = \\frac{a_n}{2} + \\frac{1}{a_n}$, com $a_1 = 1$.\n",
    "  - série para $e$, usando 2.c.\n",
    "  - $b_{n+1} = \\sqrt{b_n + 1}$, com $b_1 = 1$.\n",
    "  - $\\phi_n = \\dfrac{F_n}{F_{n-1}}$, onde $F_n$ é o n-ésimo termo de Fibonacci.\n",
    "  - série para $\\pi$ calculada em 4.d.\n",
    "\n",
    "  Para cada uma delas, faça os seguintes itens\n",
    "\n",
    "  - Implemente uma função que recebe um número $n$ e calcula a soma parcial $s_n$\n",
    "    se o item for uma série, ou n-ésimo elemento se o item for uma sequência.\n",
    "    Faça sua função ser o mais econômica possível e evite overflows.\n",
    "  - Faça um gráfico do erro pelo número de termos $n$.\n",
    "  - Dado $\\varepsilon > 0$, é possível determinar n de modo que o erro seja menor que $\\varepsilon$?\n",
    "    Veja quantos casos você consegue fazer isso, ou encontrar algum limitante\n",
    "    desse tipo.\n",
    "\n",
    "6. Usando a expansão de Taylor de $e^x$,\n",
    "\n",
    "  - Implemente uma função que recebe $x$ e $n$, e calcule a soma parcial da\n",
    "    expansão de Taylor até $n$ de $e^x$.\n",
    "  - Usando a fórmula de erro de Lagrange, calcule um limitante para o erro\n",
    "    relativo dessa aproximação. Separe nos casos $x > 0$ e $x < 0$.\n",
    "  - Faça um gráfico do erro relativo no intervalo $[-a,a]$, para valores\n",
    "    diferentes de $n$ e $a$ e, no mesmo gráfico, desenhe o limitante. Use a função\n",
    "    `exp` como referência.\n",
    "    Verifique que para $x < 0$, o erro é maior.\n",
    "  - Faça uma nova implementação de $e^x$, que recebe $x \\geq 0$ e\n",
    "    um argumento opcional $\\varepsilon > 0$ e calcula $e^x$ com erro menor que\n",
    "    $\\varepsilon$.\n",
    "    Note que você não pode usar a função `exp` aqui, apenas as potências de $x$ e os\n",
    "    fatoriais.\n",
    "  - Faça um gráfico do erro relativo no intervalo $[0,a]$, para valores\n",
    "    diferentes de $\\varepsilon$ e $a$ e, no mesmo gráfico, desenhe a reta $y =\n",
    "    \\varepsilon$.\n",
    "  - Verifique que para alguns valores $x < 0$, o erro relativo da aproximação\n",
    "    encontrada pelo seu algoritmo não fica limitado por $\\varepsilon$. Encontre\n",
    "    uma maneira de calcular $e^x$ que limite o erro relativo por $\\varepsilon$\n",
    "    tanto para $x < 0$ como para $x > 0$."
   ]
  }
 ],
 "metadata": {
  "kernelspec": {
   "display_name": "Julia 0.6.0",
   "language": "julia",
   "name": "julia-0.6"
  },
  "language_info": {
   "file_extension": ".jl",
   "mimetype": "application/julia",
   "name": "julia",
   "version": "0.6.0"
  }
 },
 "nbformat": 4,
 "nbformat_minor": 2
}
